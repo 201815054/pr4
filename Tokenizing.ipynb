{
 "cells": [
  {
   "cell_type": "markdown",
   "id": "b515e24c",
   "metadata": {},
   "source": [
    "# 텍스트 전처리(Text preprocessing)"
   ]
  },
  {
   "cell_type": "markdown",
   "id": "c823945b",
   "metadata": {},
   "source": [
    "## 01) 토큰화(Tokenization)\n",
    "- 전처리 :토큰화 & 정제 & 정규화 \n",
    "- corpus에서 토큰단위로 나누는 작업을 토큰화라고 함 \n",
    "- NLTK, KoNLPY 실습 "
   ]
  },
  {
   "cell_type": "markdown",
   "id": "42a38d3f",
   "metadata": {},
   "source": [
    "### 1. 단어 토큰화(Word Tokenization)\n",
    "- 단어(words): 단어구, 의미를갖는 문자열\n",
    "- 구두점(마침표(.), 컴마(,), 물음표(?), 세미콜론(;), 느낌표(!) 등과 같은 기호를 말함\n",
    "- 입력: Time is an illusion. Lunchtime double so!\n",
    "- 출력ㅣ\"Time\",\"is\",\"an\",\"illustion\",\"Lunchtime\",\"double\",\"so\"\n",
    "- => 구두점을 지운 뒤에 띄어쓰기를 기준으로 잘라냄 "
   ]
  },
  {
   "cell_type": "markdown",
   "id": "00a1550a",
   "metadata": {},
   "source": [
    "### 2. 토큰화 중 생기는 선택의 순간 \n",
    "- ex) Don't be fooled by the dark sounding name, Mr. Jone's Orphanage is as cheery as cheery goes for a pastry shop\n",
    "- Don't 나 Jone's의 '를 어떻게 처리 할 것인가?"
   ]
  },
  {
   "cell_type": "code",
   "execution_count": 5,
   "id": "deb000e0",
   "metadata": {},
   "outputs": [],
   "source": [
    "# word_tokenize와 WordPunctTokenizer 사용, 아포스트로피 제거 \n",
    "from nltk.tokenize import word_tokenize \n",
    "from nltk.tokenize import WordPunctTokenizer \n",
    "from tensorflow.keras.preprocessing.text import text_to_word_sequence"
   ]
  },
  {
   "cell_type": "code",
   "execution_count": 11,
   "id": "16611390",
   "metadata": {},
   "outputs": [
    {
     "name": "stdout",
     "output_type": "stream",
     "text": [
      "단어 토큰화1 : ['Do', \"n't\", 'be', 'fooled', 'by', 'the', 'dark', 'sounding', 'name', ',', 'Mr', '.', 'Jone', \"'s\", 'Orphanage', 'is', 'as', 'cheery', 'as', 'cheery', 'goes', 'for', 'a', 'pastry', 'shop', '.']\n"
     ]
    }
   ],
   "source": [
    "# word_tokenize 사용\n",
    "print('단어 토큰화1 :',word_tokenize(\"Don't be fooled by the dark sounding name,Mr. \\\n",
    "                    Jone's Orphanage is as cheery as cheery goes for a pastry shop.\"))\n",
    "\n",
    "# Don't를 Do와 n't로 분리, 반면 Jone's는 Jone과 's로 분리함"
   ]
  },
  {
   "cell_type": "code",
   "execution_count": 12,
   "id": "45397ab0",
   "metadata": {},
   "outputs": [
    {
     "name": "stdout",
     "output_type": "stream",
     "text": [
      "단어 토큰화2 : ['Don', \"'\", 't', 'be', 'fooled', 'by', 'the', 'dark', 'sounding', 'name', ',', 'Mr', '.', 'Jone', \"'\", 's', 'Orphanage', 'is', 'as', 'cheery', 'as', 'cheery', 'goes', 'for', 'a', 'pastry', 'shop', '.']\n"
     ]
    }
   ],
   "source": [
    "# wordPunctTokenizer 사용\n",
    "print('단어 토큰화2 :',WordPunctTokenizer().tokenize(\"Don't be fooled by the dark sounding name, \\\n",
    "                        Mr. Jone's Orphanage is as cheery as cheery goes for a pastry shop.\"))\n",
    "\n",
    "# 구두점을 별도로 분류함\n",
    "# Don't 를 Don 과 '와 t로 분리\n",
    "# Jone's를 Jone과 '와 s로 분리 "
   ]
  },
  {
   "cell_type": "code",
   "execution_count": 13,
   "id": "78e8ef2d",
   "metadata": {},
   "outputs": [
    {
     "name": "stdout",
     "output_type": "stream",
     "text": [
      "단어 토큰화3 : [\"don't\", 'be', 'fooled', 'by', 'the', 'dark', 'sounding', 'name', 'mr', \"jone's\", 'orphanage', 'is', 'as', 'cheery', 'as', 'cheery', 'goes', 'for', 'a', 'pastry', 'shop']\n"
     ]
    }
   ],
   "source": [
    "# 케라스의 text_to_word_sequence 사용\n",
    "print('단어 토큰화3 :',text_to_word_sequence(\"Don't be fooled by the dark sounding name, \\\n",
    "                Mr. Jone's Orphanage is as cheery as cheery goes for a pastry shop.\"))\n",
    "\n",
    "# 모든 알파벳을 소문자로 바꾸면서 마침표와 컴마, 느낌표등의 구두점을 제거\n",
    "# '는 보존함. "
   ]
  },
  {
   "cell_type": "markdown",
   "id": "a061adae",
   "metadata": {},
   "source": [
    "### 3. 토큰화에서 고려해야할 사항\n",
    "1) 구두점이나 특수 문자를 단순 제외해서는 안됨\n",
    "- 예를들어 마침표같은 경우는 문장의 경계를 알 수 있음. \n",
    "- 단어자체에 구두점을 갖고있을수 있음. $45.55와 같이.. \n",
    "- 숫자사이에 컴마가 들어가는 경우가 있음 123,456,789\n",
    "\n",
    "\n",
    "2) 줄임말과 단어 내에 띄어쓰기가 있는 경우 \n",
    "- 예를들어 what're은 what are의 줄임말임\n",
    "- New York 하나의 단어지만 중간에 띄어쓰기가 존재함\n",
    "\n",
    "3) 표준 토큰화 예제 \n",
    "- Penn Treebank Tokenization \n",
    "1. 하이푼으로 구성된 단어는 하나로 유지함\n",
    "2. doesn't와 같이 아포스트로피로 '접어'가 함께하는 단어는 분리해줌 "
   ]
  },
  {
   "cell_type": "code",
   "execution_count": 15,
   "id": "55ecd044",
   "metadata": {},
   "outputs": [
    {
     "name": "stdout",
     "output_type": "stream",
     "text": [
      "트리뱅크 워드토크나이저 : ['Starting', 'a', 'home-based', 'restaurant', 'may', 'be', 'an', 'ideal.', 'it', 'does', \"n't\", 'have', 'a', 'food', 'chain', 'or', 'restaurant', 'of', 'their', 'own', '.']\n"
     ]
    }
   ],
   "source": [
    "# Penn Treebank Tokenization 사용 \n",
    "from nltk.tokenize import TreebankWordTokenizer\n",
    "\n",
    "tokenizer = TreebankWordTokenizer()\n",
    "\n",
    "text = \"Starting a home-based restaurant may be an ideal. it doesn't have a food chain or restaurant of their own.\"\n",
    "print('트리뱅크 워드토크나이저 :',tokenizer.tokenize(text))\n",
    "\n",
    "# home-based는 하나의 토큰으로 취급 \n",
    "# doesn't 는 does와 n't로 분리됨 "
   ]
  },
  {
   "cell_type": "markdown",
   "id": "0576cbf2",
   "metadata": {},
   "source": [
    "### 4. 문장 토큰화(Sentence Tokenization)\n",
    "- 마침표를 기준으로 나누는게 꼭 정답은 아니다\n",
    "- EX1) IP 192.168.56.31 서버에 들어가서 로그 파일 저장해서 aaa@gmail.com로 결과 좀 보내줘. 그 후 점심 먹으러 가자.\n",
    "\n",
    "- EX2) Since I'm actively looking for Ph.D. students, I get the same question a dozen times every year."
   ]
  },
  {
   "cell_type": "code",
   "execution_count": 20,
   "id": "2e84079e",
   "metadata": {},
   "outputs": [
    {
     "name": "stdout",
     "output_type": "stream",
     "text": [
      "문장 토큰화1 : ['His barber kept his word.', 'But keeping such a huge secret to himself was driving him crazy.', 'Finally, the barber went up a mountain and almost to the edge of a cliff.', 'He dug a hole in the midst of some reeds.', 'He looked about, to make sure no one was near.']\n",
      "문장 토큰화2 : ['I am actively looking for Ph.D. students.', 'and you are a Ph.D student.']\n"
     ]
    }
   ],
   "source": [
    "# NLTK의 영어문장 토큰화를 수행하는 sent_tokenize 사용 \n",
    "from nltk.tokenize import sent_tokenize\n",
    "\n",
    "text = \"His barber kept his word. But keeping such a huge secret to himself was driving him crazy. Finally, the barber went up a mountain and almost to the edge of a cliff. He dug a hole in the midst of some reeds. He looked about, to make sure no one was near.\"\n",
    "print('문장 토큰화1 :',sent_tokenize(text)) \n",
    "\n",
    "text = \"I am actively looking for Ph.D. students. and you are a Ph.D student.\"\n",
    "print('문장 토큰화2 :',sent_tokenize(text))\n",
    "\n",
    "# 단순히 마침표로 구분하지 않았기때문에 성공적으로 문장을 구분함. "
   ]
  },
  {
   "cell_type": "code",
   "execution_count": 24,
   "id": "b599fa0a",
   "metadata": {},
   "outputs": [
    {
     "name": "stderr",
     "output_type": "stream",
     "text": [
      "[Korean Sentence Splitter]: Initializing Pynori...\n"
     ]
    },
    {
     "name": "stdout",
     "output_type": "stream",
     "text": [
      "한국어 문장 토큰화 : ['딥 러닝 자연어 처리가 재미있기는 합니다.', '그런데 문제는 영어보다 한국어로 할 때 너무 어렵습니다.', '이제 해보면 알걸요?']\n"
     ]
    }
   ],
   "source": [
    "# 한국어 KSS(Korean Sentence Splitter) 사용 \n",
    "# !pip install kss\n",
    "import kss\n",
    "\n",
    "text = '딥 러닝 자연어 처리가 재미있기는 합니다. 그런데 문제는 영어보다 한국어로 할 때 너무 어렵습니다. 이제 해보면 알걸요?'\n",
    "print('한국어 문장 토큰화 :',kss.split_sentences(text))"
   ]
  },
  {
   "cell_type": "markdown",
   "id": "5fdedc7a",
   "metadata": {},
   "source": [
    "### 5. 한국어에서의 토큰화의 어려움."
   ]
  },
  {
   "cell_type": "markdown",
   "id": "9c99a6ec",
   "metadata": {},
   "source": [
    "### 6. 품사 태깅(Part-of-speech tagging)\n",
    "- 단어 표기는 같지만 품사에 따라서 단어의 의미가 달라짐 \n",
    "- => fly(v): 날다 / fly(n): 파리 "
   ]
  },
  {
   "cell_type": "markdown",
   "id": "3da4fc21",
   "metadata": {},
   "source": [
    "### 7. NLTK와 KoNLPy를 이용한 영어, 한국어 토큰화 실습 "
   ]
  },
  {
   "cell_type": "code",
   "execution_count": 27,
   "id": "8acdf026",
   "metadata": {},
   "outputs": [
    {
     "name": "stdout",
     "output_type": "stream",
     "text": [
      "단어 토큰화 : ['I', 'am', 'actively', 'looking', 'for', 'Ph.D.', 'students', '.', 'and', 'you', 'are', 'a', 'Ph.D.', 'student', '.']\n",
      "품사 태깅 : [('I', 'PRP'), ('am', 'VBP'), ('actively', 'RB'), ('looking', 'VBG'), ('for', 'IN'), ('Ph.D.', 'NNP'), ('students', 'NNS'), ('.', '.'), ('and', 'CC'), ('you', 'PRP'), ('are', 'VBP'), ('a', 'DT'), ('Ph.D.', 'NNP'), ('student', 'NN'), ('.', '.')]\n"
     ]
    }
   ],
   "source": [
    "# NLTK에서는 Penn Treebank POS Tags라는 기준을 사용하여 품사를 태깅함. \n",
    "from nltk.tokenize import word_tokenize\n",
    "from nltk.tag import pos_tag\n",
    "\n",
    "text = \"I am actively looking for Ph.D. students. and you are a Ph.D. student.\"\n",
    "tokenized_sentence = word_tokenize(text)\n",
    "\n",
    "print('단어 토큰화 :',tokenized_sentence)\n",
    "print('품사 태깅 :',pos_tag(tokenized_sentence))\n",
    "\n",
    "#영어 문장에 대해 토큰화를 수행한 결과를 입력으로 품사 태깅을 수행함. \n",
    "# Penn Treebank POG Tags에서 PRP는 인칭 대명사, VBP는 동사, RB는 부사, \n",
    "# VBG는 현재부사, IN은 전치사, NNP는 고유 명사, NNS는 복수형 명사, \n",
    "# CC는 접속사, DT는 관사"
   ]
  },
  {
   "cell_type": "code",
   "execution_count": null,
   "id": "cff8e768",
   "metadata": {},
   "outputs": [],
   "source": []
  },
  {
   "cell_type": "markdown",
   "id": "3e032496",
   "metadata": {},
   "source": [
    "## 02) 정제(Cleaning) and 정규화(Normalization)\n",
    "- 코퍼스에서 용도에 맞게 토큰을 분류하는 작업을 토큰화라고 함\n",
    "- 토큰화 작업 전, 후엔 텍스트 데이터를 용도에 맞게 정제(cleaning) 및 정규화(normalization)하는 일이 항상 함께 함. \n",
    "- 정제(cleaning) : 갖고있는 코퍼스로부터 노이즈 데이터를 제거함\n",
    "- 정규화(normalization) : 표현 방법이 다른 단어들을 통합시켜서 같은 단어로 만들어줌"
   ]
  },
  {
   "cell_type": "markdown",
   "id": "4419332d",
   "metadata": {},
   "source": [
    "### 1. 규칙에 기반한 표기가 다른 단어들의 통합 \n",
    "- ex) USA, US 같은 의미를 가지므로 하나의 단어로 정규화 해볼 수 있음. \n",
    "- 표기가 다른 단어들을 통합하는 방법: 어간추출, 표제어 추출"
   ]
  },
  {
   "cell_type": "markdown",
   "id": "e9987f5f",
   "metadata": {},
   "source": [
    "### 2. 대, 소문자 통합\n",
    "- 무작정 통합해서는 안됨. 예를들어 US와 us(우리)는 구분이 되어야함\n",
    "- => 문장 맨 앞에서 나오는단어만 소문자로 변환시키는 방법이있음. \n",
    "- 종종 모든 코퍼스를 소문자로 바꾸는것이 실용적인 해결책이 되기도 함."
   ]
  },
  {
   "cell_type": "code",
   "execution_count": null,
   "id": "c54b1bb7",
   "metadata": {},
   "outputs": [],
   "source": [
    "### 3. 불필요한 단어의 제거\n",
    "- 노이즈 데이터: 불용어, 목적에 맞지 않는 불필요 단어들 \n",
    "- 노이즈데이터를 제거하는 방법: 불용어제거, 등장빈도 낮은단어제거, 길이가 짧은단어 제거\n",
    "\n",
    "(1) 등장 빈도가 적은 단어\n",
    "(2) 길이가 짧은 단어 "
   ]
  },
  {
   "cell_type": "code",
   "execution_count": null,
   "id": "2f6c05e1",
   "metadata": {},
   "outputs": [],
   "source": []
  },
  {
   "cell_type": "code",
   "execution_count": null,
   "id": "edbd66fd",
   "metadata": {},
   "outputs": [],
   "source": []
  },
  {
   "cell_type": "code",
   "execution_count": null,
   "id": "2f9b1fc9",
   "metadata": {},
   "outputs": [],
   "source": []
  },
  {
   "cell_type": "markdown",
   "id": "8bf7b491",
   "metadata": {},
   "source": [
    "# Tokenizing 함수"
   ]
  },
  {
   "cell_type": "code",
   "execution_count": 33,
   "id": "de3db576",
   "metadata": {
    "collapsed": true
   },
   "outputs": [
    {
     "name": "stderr",
     "output_type": "stream",
     "text": [
      "[nltk_data] Downloading package stopwords to\n",
      "[nltk_data]     C:\\Users\\bitcamp\\AppData\\Roaming\\nltk_data...\n",
      "[nltk_data]   Unzipping corpora\\stopwords.zip.\n"
     ]
    },
    {
     "data": {
      "text/plain": [
       "True"
      ]
     },
     "execution_count": 33,
     "metadata": {},
     "output_type": "execute_result"
    }
   ],
   "source": [
    "import re\n",
    "import pandas as pd\n",
    "import numpy as np\n",
    "import json\n",
    "from bs4 import BeautifulSoup\n",
    "from nltk.corpus import stopwords\n",
    "import nltk\n",
    "# from tensorflow.python.keras.preprocessing.sequence import pad_sequences\n",
    "# from tensorflow.python.keras.preprocessing.text import Tokenizer\n",
    "\n",
    "nltk.download('stopwords')"
   ]
  },
  {
   "cell_type": "code",
   "execution_count": null,
   "id": "081e8981",
   "metadata": {},
   "outputs": [],
   "source": [
    "#NLTK 영어 토큰화 \n",
    "from nltk.tokenize import word_tokenize\n",
    "from nltk.tag import pos_tag\n",
    "\n",
    "text = \"I am actively looking for Ph.D. students. and you are a Ph.D. student.\"\n",
    "tokenized_sentence = word_tokenize(text)"
   ]
  },
  {
   "cell_type": "code",
   "execution_count": null,
   "id": "c516b689",
   "metadata": {},
   "outputs": [],
   "source": [
    "# 불용어 제거 \n",
    "import re\n",
    "text = \"I was wondering if anyone out there could enlighten me on this car.\"\n",
    "\n",
    "# 길이가 1~2인 단어들을 정규 표현식을 이용하여 삭제\n",
    "shortword = re.compile(r'\\W*\\b\\w{1,2}\\b')\n",
    "print(shortword.sub('', text))"
   ]
  },
  {
   "cell_type": "code",
   "execution_count": null,
   "id": "8b80fc51",
   "metadata": {},
   "outputs": [],
   "source": [
    "#표제어 추출\n",
    "from nltk.stem import WordNetLemmatizer\n",
    "\n",
    "lemmatizer = WordNetLemmatizer()\n",
    "\n",
    "words = ['policy', 'doing', 'organization', 'have', 'going', 'love', 'lives', 'fly', 'dies', 'watched', 'has', 'starting']\n",
    "\n",
    "print('표제어 추출 전 :',words)\n",
    "print('표제어 추출 후 :',[lemmatizer.lemmatize(word) for word in words])"
   ]
  },
  {
   "cell_type": "code",
   "execution_count": null,
   "id": "2014c900",
   "metadata": {},
   "outputs": [],
   "source": [
    "#어간추출 \n",
    "from nltk.stem import PorterStemmer\n",
    "from nltk.tokenize import word_tokenize\n",
    "\n",
    "stemmer = PorterStemmer()\n",
    "\n",
    "sentence = \"This was not the map we found in Billy Bones's chest, but an accurate copy, complete in all things--names and heights and soundings--with the single exception of the red crosses and the written notes.\"\n",
    "tokenized_sentence = word_tokenize(sentence)\n",
    "\n",
    "print('어간 추출 전 :', tokenized_sentence)\n",
    "print('어간 추출 후 :',[stemmer.stem(word) for word in tokenized_sentence])"
   ]
  },
  {
   "cell_type": "code",
   "execution_count": null,
   "id": "b9deea11",
   "metadata": {},
   "outputs": [],
   "source": [
    "# NLTK 불용어 제거 \n",
    "example = \"Family is not an important thing. It's everything.\"\n",
    "stop_words = set(stopwords.words('english')) \n",
    "\n",
    "word_tokens = word_tokenize(example)\n",
    "\n",
    "result = []\n",
    "for word in word_tokens: \n",
    "    if word not in stop_words: \n",
    "        result.append(word) \n",
    "\n",
    "print('불용어 제거 전 :',word_tokens) \n",
    "print('불용어 제거 후 :',result)"
   ]
  },
  {
   "cell_type": "code",
   "execution_count": null,
   "id": "541331f6",
   "metadata": {},
   "outputs": [],
   "source": [
    "#정규 표현식을 이용한 토큰화 \n",
    "from nltk.tokenize import RegexpTokenizer\n",
    "\n",
    "text = \"Don't be fooled by the dark sounding name, Mr. Jone's Orphanage is as cheery as cheery goes for a pastry shop\"\n",
    "\n",
    "tokenizer1 = RegexpTokenizer(\"[\\w]+\")\n",
    "tokenizer2 = RegexpTokenizer(\"\\s+\", gaps=True)\n",
    "\n",
    "print(tokenizer1.tokenize(text))\n",
    "print(tokenizer2.tokenize(text))"
   ]
  },
  {
   "cell_type": "code",
   "execution_count": null,
   "id": "e9fe8162",
   "metadata": {},
   "outputs": [],
   "source": [
    "#정수인코딩\n",
    "from nltk.tokenize import sent_tokenize\n",
    "from nltk.tokenize import word_tokenize\n",
    "from nltk.corpus import stopwords\n",
    "\n",
    "# 문장 토큰화\n",
    "sentences = sent_tokenize(raw_text)\n",
    "print(sentences)\n",
    "\n",
    "vocab = {}\n",
    "preprocessed_sentences = []\n",
    "stop_words = set(stopwords.words('english'))\n",
    "\n",
    "for sentence in sentences:\n",
    "    # 단어 토큰화\n",
    "    tokenized_sentence = word_tokenize(sentence)\n",
    "    result = []\n",
    "\n",
    "    for word in tokenized_sentence: \n",
    "        word = word.lower() # 모든 단어를 소문자화하여 단어의 개수를 줄인다.\n",
    "        if word not in stop_words: # 단어 토큰화 된 결과에 대해서 불용어를 제거한다.\n",
    "            if len(word) > 2: # 단어 길이가 2이하인 경우에 대하여 추가로 단어를 제거한다.\n",
    "                result.append(word)\n",
    "                if word not in vocab:\n",
    "                    vocab[word] = 0 \n",
    "                vocab[word] += 1\n",
    "    preprocessed_sentences.append(result) \n",
    "print(preprocessed_sentences)"
   ]
  },
  {
   "cell_type": "code",
   "execution_count": null,
   "id": "8c809288",
   "metadata": {},
   "outputs": [],
   "source": [
    "#numpy 패딩\n",
    "import numpy as np\n",
    "from tensorflow.keras.preprocessing.text import Tokenizer\n",
    "\n",
    "tokenizer = Tokenizer()\n",
    "tokenizer.fit_on_texts(preprocessed_sentences)\n",
    "encoded = tokenizer.texts_to_sequences(preprocessed_sentences)\n",
    "print(encoded)\n",
    "\n",
    "max_len = max(len(item) for item in encoded)\n",
    "print('최대 길이 :',max_len)\n",
    "\n",
    "for sentence in encoded:\n",
    "    while len(sentence) < max_len:\n",
    "        sentence.append(0)\n",
    "\n",
    "padded_np = np.array(encoded)\n",
    "padded_np\n",
    "\n",
    "#keras 패딩\n",
    "from tensorflow.keras.preprocessing.sequence import pad_sequences\n",
    "encoded = tokenizer.texts_to_sequences(preprocessed_sentences)\n",
    "print(encoded)\n",
    "padded = pad_sequences(encoded)\n",
    "padded\n",
    "\n",
    "#기존에 5보다 짧은 문서들을 0으로 패딩 \n",
    "padded = pad_sequences(encoded, padding='post', maxlen=5)\n",
    "padded\n",
    "\n"
   ]
  },
  {
   "cell_type": "code",
   "execution_count": null,
   "id": "82c9c796",
   "metadata": {},
   "outputs": [],
   "source": [
    "#원핫인코딩\n",
    "one_hot = to_categorical(encoded)\n",
    "print(one_hot)"
   ]
  },
  {
   "cell_type": "code",
   "execution_count": null,
   "id": "cb1050be",
   "metadata": {},
   "outputs": [],
   "source": [
    "from nltk.tokenize import sent_tokenize\n",
    "from nltk.tokenize import word_tokenize\n",
    "from nltk.corpus import stopwords\n",
    "\n",
    "def tokeniz(sentences):\n",
    "#정수인코딩\n",
    "#문장 토큰화\n",
    "sentences = sent_tokenize(raw_text)\n",
    "# print(sentences)\n",
    "\n",
    "vocab = {}\n",
    "preprocessed_sentences = []\n",
    "stop_words = set(stopwords.words('english'))\n",
    "\n",
    "for sentence in sentences:\n",
    "    # 단어 토큰화\n",
    "    tokenized_sentence = word_tokenize(sentence)\n",
    "    result = []\n",
    "\n",
    "    for word in tokenized_sentence: \n",
    "        word = word.lower() # 모든 단어를 소문자화하여 단어의 개수를 줄인다.\n",
    "        if word not in stop_words: # 단어 토큰화 된 결과에 대해서 불용어를 제거한다.\n",
    "            if len(word) > 2: # 단어 길이가 2이하인 경우에 대하여 추가로 단어를 제거한다.\n",
    "                result.append(word)\n",
    "                if word not in vocab:\n",
    "                    vocab[word] = 0 \n",
    "                vocab[word] += 1\n",
    "    preprocessed_sentences.append(result) \n",
    "# print(preprocessed_sentences)\n",
    "return preprocessed_sentences"
   ]
  },
  {
   "cell_type": "code",
   "execution_count": null,
   "id": "4de26586",
   "metadata": {},
   "outputs": [],
   "source": [
    "def preprocessing(review, remove_stopwords = False):\n",
    "    #불용어 제거는 선택이 가능하도록\n",
    "    \n",
    "    # HTML 태그 제거\n",
    "    review_text = BeautifulSoup(review, \"html5lib\").get_text()\n",
    "    \n",
    "    # 영어가 아닌 특수문자를 공백(\" \")으로 바꾸기\n",
    "    review_text = re.sub(\"[^a-zA-Z]\",\" \", review_text)\n",
    "    \n",
    "    # 대문자를 소문자로 바꾸고 공백 단위로 텍스트를 나누어 리스트화\n",
    "    words = review_text.lower().split()\n",
    "    \n",
    "    if remove_stopwords:\n",
    "        # 불용어 제거\n",
    "        \n",
    "        # 영어 불용어 사전 불러오기\n",
    "        stops = set(stopwords.words(\"english\"))\n",
    "        # 불용어가 아닌 단어로 이뤄진 새로운 리스트 생성\n",
    "        words = [w for w in words if not w in stops]\n",
    "        # 단어 리스트를 하나의 글로 합성\n",
    "        clean_review = ' '.join(words)\n",
    "        \n",
    "    else: # 불용어 제거 옵션이 안 걸렸을시\n",
    "        clean_review = ' '.join(words)\n",
    "        \n",
    "    return clean_review"
   ]
  },
  {
   "cell_type": "code",
   "execution_count": null,
   "id": "17642900",
   "metadata": {},
   "outputs": [],
   "source": []
  },
  {
   "cell_type": "code",
   "execution_count": null,
   "id": "1ccaceea",
   "metadata": {},
   "outputs": [],
   "source": []
  },
  {
   "cell_type": "code",
   "execution_count": null,
   "id": "69dfd429",
   "metadata": {},
   "outputs": [],
   "source": []
  },
  {
   "cell_type": "code",
   "execution_count": null,
   "id": "67d6265f",
   "metadata": {},
   "outputs": [],
   "source": []
  },
  {
   "cell_type": "code",
   "execution_count": null,
   "id": "b07eee01",
   "metadata": {},
   "outputs": [],
   "source": []
  },
  {
   "cell_type": "code",
   "execution_count": null,
   "id": "8673f2a4",
   "metadata": {},
   "outputs": [],
   "source": []
  },
  {
   "cell_type": "code",
   "execution_count": null,
   "id": "a9c4d5c4",
   "metadata": {},
   "outputs": [],
   "source": []
  },
  {
   "cell_type": "code",
   "execution_count": null,
   "id": "98722148",
   "metadata": {},
   "outputs": [],
   "source": []
  },
  {
   "cell_type": "code",
   "execution_count": null,
   "id": "2edcc30e",
   "metadata": {},
   "outputs": [],
   "source": []
  },
  {
   "cell_type": "code",
   "execution_count": null,
   "id": "9024a929",
   "metadata": {},
   "outputs": [],
   "source": []
  },
  {
   "cell_type": "code",
   "execution_count": null,
   "id": "c90529ac",
   "metadata": {},
   "outputs": [],
   "source": []
  },
  {
   "cell_type": "code",
   "execution_count": null,
   "id": "ae85a8f9",
   "metadata": {},
   "outputs": [],
   "source": []
  }
 ],
 "metadata": {
  "kernelspec": {
   "display_name": "cuda",
   "language": "python",
   "name": "cuda"
  },
  "language_info": {
   "codemirror_mode": {
    "name": "ipython",
    "version": 3
   },
   "file_extension": ".py",
   "mimetype": "text/x-python",
   "name": "python",
   "nbconvert_exporter": "python",
   "pygments_lexer": "ipython3",
   "version": "3.7.13"
  }
 },
 "nbformat": 4,
 "nbformat_minor": 5
}
