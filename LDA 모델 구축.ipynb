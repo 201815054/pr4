{
 "cells": [
  {
   "cell_type": "markdown",
   "id": "9465ec65",
   "metadata": {},
   "source": [
    "# 토픽모델링(Topic Modeling)\n",
    "- 텍스트 본문의 숨겨진 의미 구조를 발견하기 위해 사용되는 텍스트 마이닝 기법 "
   ]
  },
  {
   "cell_type": "markdown",
   "id": "d628be0d",
   "metadata": {},
   "source": [
    "## 잠재 디레클레 할당 (Latenet Dirichlet Allocation, LDA)\n",
    "- 토픽모델링 : 문서의 집합에서 토픽을 찾아내는 프로세스 \n",
    "- ex) 검색, 엔진, 고객 민원시스템 등과 같이 문서의 주제를 알아내는 일이 중요한곳에서 사용됨. \n",
    "- LDA의 문서들은 토픽들의 혼합으로 구성되어있으며 토픽들은 확률분포에 기반하여 단어들을 생성함\n",
    "- 데이터가 주어지면 LDA는 문서가 생성되던 과정을 역추적함. "
   ]
  },
  {
   "cell_type": "markdown",
   "id": "b6443d59",
   "metadata": {},
   "source": [
    "### 1. 잠재 디레클레 할당 개요 \n",
    "- LDA는 토픽의 제목을 정해주진 않지만 \n",
    "- 알고리즘의 사용자는 결과로부터 각각의 토픽이 무엇에 대한 토픽이라고 판단 가능함"
   ]
  },
  {
   "cell_type": "markdown",
   "id": "34c2a99b",
   "metadata": {},
   "source": [
    "### 2. LDA의 가정 \n",
    "- LDA는 단어의 순서 신경쓰지 않음\n"
   ]
  },
  {
   "cell_type": "markdown",
   "id": "f917b1cd",
   "metadata": {},
   "source": [
    "### 3. LDA 수행하기 \n",
    "- 1) 알고리즘에게 토픽의 개수 k를 알려줌\n",
    "- 2) 모든단어를 k중 하나의 토픽에 할당함 \n",
    "- 3) 모든 문서의 모든 단어에 대해 아래 과정 반복\n",
    "- 3-1) 각 단어 w는 자신은 잘못된 토픽에 할당되어있지만 다른 모든 단어들은 전부 올바른\n",
    "- 토픽에 할당되어있다고 가정함. \n",
    "- => 이에따라 단어 w는 두가지 기준에 따라 토픽을 '재할당'시킴\n",
    "- 1. p(topic|document d): 문서 d의 단어들 중 토픽 t에 해당하는 단어들의 비율\n",
    "- 2. p(word w| topic t): 각 토픽들 t에서 해당 단어 w의 분포 \n",
    "- 이를 반복하면 모든 할당이 완료된 수렴상태가 됨. \n"
   ]
  },
  {
   "cell_type": "markdown",
   "id": "07e13e2d",
   "metadata": {},
   "source": [
    "### 4. 잠재 디리클레 할당과 잠재 의미 분석의 차이 \n",
    "- LSA: DTM을 차원축소하여 축소차원에서 근접단어들을 토픽으로 묶음\n",
    "- LDA: 특정 토픽에 존재할 확률과 문서에 특정 토픽이 존재할 확률을 결합함\n"
   ]
  },
  {
   "cell_type": "markdown",
   "id": "17c89864",
   "metadata": {},
   "source": [
    "### 5. 실습을 통한 이해 \n",
    "- gensim을 사용함.. \n",
    "#### 1) 정수 인코딩과 단어집합 만들기 \n",
    "- 20개의 다른 주제를 가진 뉴스데이터를 사용함.. \n",
    "\n"
   ]
  },
  {
   "cell_type": "code",
   "execution_count": null,
   "id": "80725e05",
   "metadata": {},
   "outputs": [],
   "source": [
    "tokenized_doc[:5]"
   ]
  },
  {
   "cell_type": "code",
   "execution_count": 5,
   "id": "53218476",
   "metadata": {
    "collapsed": true
   },
   "outputs": [
    {
     "data": {
      "text/html": [
       "<div>\n",
       "<style scoped>\n",
       "    .dataframe tbody tr th:only-of-type {\n",
       "        vertical-align: middle;\n",
       "    }\n",
       "\n",
       "    .dataframe tbody tr th {\n",
       "        vertical-align: top;\n",
       "    }\n",
       "\n",
       "    .dataframe thead th {\n",
       "        text-align: right;\n",
       "    }\n",
       "</style>\n",
       "<table border=\"1\" class=\"dataframe\">\n",
       "  <thead>\n",
       "    <tr style=\"text-align: right;\">\n",
       "      <th></th>\n",
       "      <th>date</th>\n",
       "      <th>전일비</th>\n",
       "      <th>clean_title</th>\n",
       "    </tr>\n",
       "  </thead>\n",
       "  <tbody>\n",
       "    <tr>\n",
       "      <th>0</th>\n",
       "      <td>2022-01-24</td>\n",
       "      <td>-1.557902</td>\n",
       "      <td>['tennis', 'where', 'is', 'peng', 'shuai', 'sh...</td>\n",
       "    </tr>\n",
       "    <tr>\n",
       "      <th>1</th>\n",
       "      <td>2022-01-25</td>\n",
       "      <td>-4.786643</td>\n",
       "      <td>['debt', 'dispute', 'probably', 'sparked', 'ki...</td>\n",
       "    </tr>\n",
       "    <tr>\n",
       "      <th>2</th>\n",
       "      <td>2022-01-26</td>\n",
       "      <td>-0.292913</td>\n",
       "      <td>['justice', 'breyer', 'fortified', 'abortion',...</td>\n",
       "    </tr>\n",
       "    <tr>\n",
       "      <th>3</th>\n",
       "      <td>2022-01-27</td>\n",
       "      <td>-5.978427</td>\n",
       "      <td>['search', 'halted', 'for', 'survivors', 'of',...</td>\n",
       "    </tr>\n",
       "    <tr>\n",
       "      <th>4</th>\n",
       "      <td>2022-01-28</td>\n",
       "      <td>1.163178</td>\n",
       "      <td>['senior', 'official', 'to', 'visit', 'lithuan...</td>\n",
       "    </tr>\n",
       "    <tr>\n",
       "      <th>5</th>\n",
       "      <td>2022-02-03</td>\n",
       "      <td>1.143301</td>\n",
       "      <td>['isis', 'leader', 'quraishi', 'kills', 'himse...</td>\n",
       "    </tr>\n",
       "    <tr>\n",
       "      <th>6</th>\n",
       "      <td>2022-02-04</td>\n",
       "      <td>3.413554</td>\n",
       "      <td>['want', 'north', 'korea', 'breakthrough', 'ch...</td>\n",
       "    </tr>\n",
       "    <tr>\n",
       "      <th>7</th>\n",
       "      <td>2022-02-07</td>\n",
       "      <td>-0.660128</td>\n",
       "      <td>['putin', 'says', 'some', 'of', 'macron', 'ide...</td>\n",
       "    </tr>\n",
       "    <tr>\n",
       "      <th>8</th>\n",
       "      <td>2022-02-08</td>\n",
       "      <td>-4.064312</td>\n",
       "      <td>['france', 'macron', 'calls', 'for', 'calm', '...</td>\n",
       "    </tr>\n",
       "    <tr>\n",
       "      <th>9</th>\n",
       "      <td>2022-02-09</td>\n",
       "      <td>0.650807</td>\n",
       "      <td>['missouri', 'texas', 'to', 'probe', 'gofundme...</td>\n",
       "    </tr>\n",
       "    <tr>\n",
       "      <th>10</th>\n",
       "      <td>2022-02-10</td>\n",
       "      <td>-1.717033</td>\n",
       "      <td>['congress', 'passes', 'ban', 'on', 'forced', ...</td>\n",
       "    </tr>\n",
       "    <tr>\n",
       "      <th>11</th>\n",
       "      <td>2022-02-11</td>\n",
       "      <td>-0.820491</td>\n",
       "      <td>['phoenix', 'gunfight', 'leaves', 'victim', 'a...</td>\n",
       "    </tr>\n",
       "    <tr>\n",
       "      <th>12</th>\n",
       "      <td>2022-02-14</td>\n",
       "      <td>-0.523152</td>\n",
       "      <td>['canadian', 'police', 'arrest', 'people', 'se...</td>\n",
       "    </tr>\n",
       "    <tr>\n",
       "      <th>13</th>\n",
       "      <td>2022-02-15</td>\n",
       "      <td>-1.922467</td>\n",
       "      <td>['remington', 'arms', 'to', 'pay', 'million', ...</td>\n",
       "    </tr>\n",
       "    <tr>\n",
       "      <th>14</th>\n",
       "      <td>2022-02-16</td>\n",
       "      <td>0.926706</td>\n",
       "      <td>['russia', 'military', 'build', 'up', 'near', ...</td>\n",
       "    </tr>\n",
       "    <tr>\n",
       "      <th>15</th>\n",
       "      <td>2022-02-17</td>\n",
       "      <td>2.574362</td>\n",
       "      <td>['new', 'york', 'state', 'trooper', 'sues', 'f...</td>\n",
       "    </tr>\n",
       "    <tr>\n",
       "      <th>16</th>\n",
       "      <td>2022-02-18</td>\n",
       "      <td>-0.744652</td>\n",
       "      <td>['analysis', 'hong', 'kong', 'zero', 'covid', ...</td>\n",
       "    </tr>\n",
       "    <tr>\n",
       "      <th>17</th>\n",
       "      <td>2022-02-21</td>\n",
       "      <td>-0.785662</td>\n",
       "      <td>['putin', 'orders', 'russian', 'troops', 'to',...</td>\n",
       "    </tr>\n",
       "    <tr>\n",
       "      <th>18</th>\n",
       "      <td>2022-02-22</td>\n",
       "      <td>-2.540400</td>\n",
       "      <td>['myanmar', 'expert', 'says', 'junta', 'using'...</td>\n",
       "    </tr>\n",
       "    <tr>\n",
       "      <th>19</th>\n",
       "      <td>2022-02-23</td>\n",
       "      <td>0.238875</td>\n",
       "      <td>['secretary', 'general', 'to', 'putin', 'in', ...</td>\n",
       "    </tr>\n",
       "    <tr>\n",
       "      <th>20</th>\n",
       "      <td>2022-02-24</td>\n",
       "      <td>-1.491326</td>\n",
       "      <td>['nato', 'leaves', 'black', 'sea', 'exposed', ...</td>\n",
       "    </tr>\n",
       "    <tr>\n",
       "      <th>21</th>\n",
       "      <td>2022-02-25</td>\n",
       "      <td>1.612952</td>\n",
       "      <td>['russia', 'vetoes', 'security', 'action', 'on...</td>\n",
       "    </tr>\n",
       "    <tr>\n",
       "      <th>22</th>\n",
       "      <td>2022-02-28</td>\n",
       "      <td>-0.139085</td>\n",
       "      <td>['ukraine', 'calls', 'for', 'no', 'fly', 'zone...</td>\n",
       "    </tr>\n",
       "    <tr>\n",
       "      <th>23</th>\n",
       "      <td>2022-03-02</td>\n",
       "      <td>3.113054</td>\n",
       "      <td>['general', 'assembly', 'in', 'historic', 'vot...</td>\n",
       "    </tr>\n",
       "    <tr>\n",
       "      <th>24</th>\n",
       "      <td>2022-03-03</td>\n",
       "      <td>1.608935</td>\n",
       "      <td>['florida', 'senate', 'passes', 'week', 'abort...</td>\n",
       "    </tr>\n",
       "    <tr>\n",
       "      <th>25</th>\n",
       "      <td>2022-03-04</td>\n",
       "      <td>-0.089186</td>\n",
       "      <td>['embassy', 'in', 'ukraine', 'calls', 'nuclear...</td>\n",
       "    </tr>\n",
       "    <tr>\n",
       "      <th>26</th>\n",
       "      <td>2022-03-07</td>\n",
       "      <td>-1.633535</td>\n",
       "      <td>['venezuela', 'maduro', 'says', 'work', 'agend...</td>\n",
       "    </tr>\n",
       "    <tr>\n",
       "      <th>27</th>\n",
       "      <td>2022-03-08</td>\n",
       "      <td>-1.455209</td>\n",
       "      <td>['analysis', 'taiwan', 'studies', 'ukraine', '...</td>\n",
       "    </tr>\n",
       "    <tr>\n",
       "      <th>28</th>\n",
       "      <td>2022-03-10</td>\n",
       "      <td>-0.330376</td>\n",
       "      <td>['in', 'chile', 'edgy', 'barrio', 'yungay', 'p...</td>\n",
       "    </tr>\n",
       "    <tr>\n",
       "      <th>29</th>\n",
       "      <td>2022-03-11</td>\n",
       "      <td>-2.308310</td>\n",
       "      <td>['harris', 'slams', 'putin', 'credits', 'roman...</td>\n",
       "    </tr>\n",
       "    <tr>\n",
       "      <th>30</th>\n",
       "      <td>2022-03-14</td>\n",
       "      <td>-0.261426</td>\n",
       "      <td>['bermuda', 'ban', 'on', 'same', 'sex', 'marri...</td>\n",
       "    </tr>\n",
       "    <tr>\n",
       "      <th>31</th>\n",
       "      <td>2022-03-15</td>\n",
       "      <td>-2.107064</td>\n",
       "      <td>['suspect', 'arrested', 'after', 'homeless', '...</td>\n",
       "    </tr>\n",
       "    <tr>\n",
       "      <th>32</th>\n",
       "      <td>2022-03-16</td>\n",
       "      <td>2.637722</td>\n",
       "      <td>['japan', 'spots', 'four', 'russian', 'amphibi...</td>\n",
       "    </tr>\n",
       "    <tr>\n",
       "      <th>33</th>\n",
       "      <td>2022-03-17</td>\n",
       "      <td>0.587766</td>\n",
       "      <td>['australian', 'watchdog', 'sues', 'facebook',...</td>\n",
       "    </tr>\n",
       "    <tr>\n",
       "      <th>34</th>\n",
       "      <td>2022-03-18</td>\n",
       "      <td>-0.183699</td>\n",
       "      <td>['xi', 'says', 'improper', 'handling', 'of', '...</td>\n",
       "    </tr>\n",
       "    <tr>\n",
       "      <th>35</th>\n",
       "      <td>2022-03-21</td>\n",
       "      <td>2.019096</td>\n",
       "      <td>['all', 'chernobyl', 'staff', 'who', 'wanted',...</td>\n",
       "    </tr>\n",
       "    <tr>\n",
       "      <th>36</th>\n",
       "      <td>2022-03-22</td>\n",
       "      <td>2.387645</td>\n",
       "      <td>['russian', 'strikes', 'turning', 'mariupol', ...</td>\n",
       "    </tr>\n",
       "    <tr>\n",
       "      <th>37</th>\n",
       "      <td>2022-03-23</td>\n",
       "      <td>-0.471626</td>\n",
       "      <td>['ukraine', 'and', 'russia', 'what', 'you', 'n...</td>\n",
       "    </tr>\n",
       "    <tr>\n",
       "      <th>38</th>\n",
       "      <td>2022-03-24</td>\n",
       "      <td>0.450931</td>\n",
       "      <td>['ambassador', 'urges', 'mexico', 'to', 'side'...</td>\n",
       "    </tr>\n",
       "    <tr>\n",
       "      <th>39</th>\n",
       "      <td>2022-03-25</td>\n",
       "      <td>-1.410084</td>\n",
       "      <td>['chinese', 'minister', 'seeks', 'normal', 'in...</td>\n",
       "    </tr>\n",
       "    <tr>\n",
       "      <th>40</th>\n",
       "      <td>2022-03-28</td>\n",
       "      <td>2.465600</td>\n",
       "      <td>['korea', 'kim', 'calls', 'for', 'ramping', 'u...</td>\n",
       "    </tr>\n",
       "    <tr>\n",
       "      <th>41</th>\n",
       "      <td>2022-03-29</td>\n",
       "      <td>-0.177402</td>\n",
       "      <td>['sends', 'senior', 'national', 'security', 'o...</td>\n",
       "    </tr>\n",
       "    <tr>\n",
       "      <th>42</th>\n",
       "      <td>2022-03-30</td>\n",
       "      <td>0.441494</td>\n",
       "      <td>['says', 'china', 'pressure', 'on', 'taiwan', ...</td>\n",
       "    </tr>\n",
       "    <tr>\n",
       "      <th>43</th>\n",
       "      <td>2022-03-31</td>\n",
       "      <td>1.455139</td>\n",
       "      <td>['in', 'setback', 'for', 'democrats', 'new', '...</td>\n",
       "    </tr>\n",
       "    <tr>\n",
       "      <th>44</th>\n",
       "      <td>2022-04-01</td>\n",
       "      <td>0.229489</td>\n",
       "      <td>['discusses', 'opportunities', 'for', 'taiwan'...</td>\n",
       "    </tr>\n",
       "    <tr>\n",
       "      <th>45</th>\n",
       "      <td>2022-04-04</td>\n",
       "      <td>1.154264</td>\n",
       "      <td>['biden', 'urges', 'putin', 'war', 'crimes', '...</td>\n",
       "    </tr>\n",
       "    <tr>\n",
       "      <th>46</th>\n",
       "      <td>2022-04-05</td>\n",
       "      <td>-0.588267</td>\n",
       "      <td>['to', 'provide', 'additional', 'million', 'in...</td>\n",
       "    </tr>\n",
       "    <tr>\n",
       "      <th>47</th>\n",
       "      <td>2022-04-06</td>\n",
       "      <td>-1.797060</td>\n",
       "      <td>['jury', 'still', 'deliberating', 'on', 'michi...</td>\n",
       "    </tr>\n",
       "    <tr>\n",
       "      <th>48</th>\n",
       "      <td>2022-04-07</td>\n",
       "      <td>-3.251977</td>\n",
       "      <td>['alabama', 'passes', 'bill', 'making', 'some'...</td>\n",
       "    </tr>\n",
       "    <tr>\n",
       "      <th>49</th>\n",
       "      <td>2022-04-08</td>\n",
       "      <td>1.735947</td>\n",
       "      <td>['judge', 'weighs', 'detention', 'for', 'two',...</td>\n",
       "    </tr>\n",
       "    <tr>\n",
       "      <th>50</th>\n",
       "      <td>2022-04-11</td>\n",
       "      <td>0.844246</td>\n",
       "      <td>['prosecutor', 'to', 'drop', 'charges', 'again...</td>\n",
       "    </tr>\n",
       "    <tr>\n",
       "      <th>51</th>\n",
       "      <td>2022-04-12</td>\n",
       "      <td>-2.483065</td>\n",
       "      <td>['golf', 'major', 'win', 'cements', 'scheffler...</td>\n",
       "    </tr>\n",
       "    <tr>\n",
       "      <th>52</th>\n",
       "      <td>2022-04-13</td>\n",
       "      <td>2.430165</td>\n",
       "      <td>['state', 'securities', 'regulators', 'order',...</td>\n",
       "    </tr>\n",
       "    <tr>\n",
       "      <th>53</th>\n",
       "      <td>2022-04-14</td>\n",
       "      <td>1.103000</td>\n",
       "      <td>['new', 'york', 'subway', 'shooting', 'suspect...</td>\n",
       "    </tr>\n",
       "    <tr>\n",
       "      <th>54</th>\n",
       "      <td>2022-04-15</td>\n",
       "      <td>-0.340995</td>\n",
       "      <td>['pro', 'russia', 'serbs', 'protest', 'in', 'b...</td>\n",
       "    </tr>\n",
       "  </tbody>\n",
       "</table>\n",
       "</div>"
      ],
      "text/plain": [
       "          date       전일비                                        clean_title\n",
       "0   2022-01-24 -1.557902  ['tennis', 'where', 'is', 'peng', 'shuai', 'sh...\n",
       "1   2022-01-25 -4.786643  ['debt', 'dispute', 'probably', 'sparked', 'ki...\n",
       "2   2022-01-26 -0.292913  ['justice', 'breyer', 'fortified', 'abortion',...\n",
       "3   2022-01-27 -5.978427  ['search', 'halted', 'for', 'survivors', 'of',...\n",
       "4   2022-01-28  1.163178  ['senior', 'official', 'to', 'visit', 'lithuan...\n",
       "5   2022-02-03  1.143301  ['isis', 'leader', 'quraishi', 'kills', 'himse...\n",
       "6   2022-02-04  3.413554  ['want', 'north', 'korea', 'breakthrough', 'ch...\n",
       "7   2022-02-07 -0.660128  ['putin', 'says', 'some', 'of', 'macron', 'ide...\n",
       "8   2022-02-08 -4.064312  ['france', 'macron', 'calls', 'for', 'calm', '...\n",
       "9   2022-02-09  0.650807  ['missouri', 'texas', 'to', 'probe', 'gofundme...\n",
       "10  2022-02-10 -1.717033  ['congress', 'passes', 'ban', 'on', 'forced', ...\n",
       "11  2022-02-11 -0.820491  ['phoenix', 'gunfight', 'leaves', 'victim', 'a...\n",
       "12  2022-02-14 -0.523152  ['canadian', 'police', 'arrest', 'people', 'se...\n",
       "13  2022-02-15 -1.922467  ['remington', 'arms', 'to', 'pay', 'million', ...\n",
       "14  2022-02-16  0.926706  ['russia', 'military', 'build', 'up', 'near', ...\n",
       "15  2022-02-17  2.574362  ['new', 'york', 'state', 'trooper', 'sues', 'f...\n",
       "16  2022-02-18 -0.744652  ['analysis', 'hong', 'kong', 'zero', 'covid', ...\n",
       "17  2022-02-21 -0.785662  ['putin', 'orders', 'russian', 'troops', 'to',...\n",
       "18  2022-02-22 -2.540400  ['myanmar', 'expert', 'says', 'junta', 'using'...\n",
       "19  2022-02-23  0.238875  ['secretary', 'general', 'to', 'putin', 'in', ...\n",
       "20  2022-02-24 -1.491326  ['nato', 'leaves', 'black', 'sea', 'exposed', ...\n",
       "21  2022-02-25  1.612952  ['russia', 'vetoes', 'security', 'action', 'on...\n",
       "22  2022-02-28 -0.139085  ['ukraine', 'calls', 'for', 'no', 'fly', 'zone...\n",
       "23  2022-03-02  3.113054  ['general', 'assembly', 'in', 'historic', 'vot...\n",
       "24  2022-03-03  1.608935  ['florida', 'senate', 'passes', 'week', 'abort...\n",
       "25  2022-03-04 -0.089186  ['embassy', 'in', 'ukraine', 'calls', 'nuclear...\n",
       "26  2022-03-07 -1.633535  ['venezuela', 'maduro', 'says', 'work', 'agend...\n",
       "27  2022-03-08 -1.455209  ['analysis', 'taiwan', 'studies', 'ukraine', '...\n",
       "28  2022-03-10 -0.330376  ['in', 'chile', 'edgy', 'barrio', 'yungay', 'p...\n",
       "29  2022-03-11 -2.308310  ['harris', 'slams', 'putin', 'credits', 'roman...\n",
       "30  2022-03-14 -0.261426  ['bermuda', 'ban', 'on', 'same', 'sex', 'marri...\n",
       "31  2022-03-15 -2.107064  ['suspect', 'arrested', 'after', 'homeless', '...\n",
       "32  2022-03-16  2.637722  ['japan', 'spots', 'four', 'russian', 'amphibi...\n",
       "33  2022-03-17  0.587766  ['australian', 'watchdog', 'sues', 'facebook',...\n",
       "34  2022-03-18 -0.183699  ['xi', 'says', 'improper', 'handling', 'of', '...\n",
       "35  2022-03-21  2.019096  ['all', 'chernobyl', 'staff', 'who', 'wanted',...\n",
       "36  2022-03-22  2.387645  ['russian', 'strikes', 'turning', 'mariupol', ...\n",
       "37  2022-03-23 -0.471626  ['ukraine', 'and', 'russia', 'what', 'you', 'n...\n",
       "38  2022-03-24  0.450931  ['ambassador', 'urges', 'mexico', 'to', 'side'...\n",
       "39  2022-03-25 -1.410084  ['chinese', 'minister', 'seeks', 'normal', 'in...\n",
       "40  2022-03-28  2.465600  ['korea', 'kim', 'calls', 'for', 'ramping', 'u...\n",
       "41  2022-03-29 -0.177402  ['sends', 'senior', 'national', 'security', 'o...\n",
       "42  2022-03-30  0.441494  ['says', 'china', 'pressure', 'on', 'taiwan', ...\n",
       "43  2022-03-31  1.455139  ['in', 'setback', 'for', 'democrats', 'new', '...\n",
       "44  2022-04-01  0.229489  ['discusses', 'opportunities', 'for', 'taiwan'...\n",
       "45  2022-04-04  1.154264  ['biden', 'urges', 'putin', 'war', 'crimes', '...\n",
       "46  2022-04-05 -0.588267  ['to', 'provide', 'additional', 'million', 'in...\n",
       "47  2022-04-06 -1.797060  ['jury', 'still', 'deliberating', 'on', 'michi...\n",
       "48  2022-04-07 -3.251977  ['alabama', 'passes', 'bill', 'making', 'some'...\n",
       "49  2022-04-08  1.735947  ['judge', 'weighs', 'detention', 'for', 'two',...\n",
       "50  2022-04-11  0.844246  ['prosecutor', 'to', 'drop', 'charges', 'again...\n",
       "51  2022-04-12 -2.483065  ['golf', 'major', 'win', 'cements', 'scheffler...\n",
       "52  2022-04-13  2.430165  ['state', 'securities', 'regulators', 'order',...\n",
       "53  2022-04-14  1.103000  ['new', 'york', 'subway', 'shooting', 'suspect...\n",
       "54  2022-04-15 -0.340995  ['pro', 'russia', 'serbs', 'protest', 'in', 'b..."
      ]
     },
     "execution_count": 5,
     "metadata": {},
     "output_type": "execute_result"
    }
   ],
   "source": [
    "from gensim import corpora\n",
    "dictionary = corpora.Dictionary(tokenized_doc)\n",
    "corpus = [dictionary.doc2bow(text) for text in tokenized_doc]\n",
    "print(corpus[1]) # 수행된 결과에서 두번째 뉴스 출력. 첫번째 문서의 인덱스는 0"
   ]
  },
  {
   "cell_type": "code",
   "execution_count": null,
   "id": "81e27d76",
   "metadata": {},
   "outputs": [],
   "source": [
    "print(dictionary[66])"
   ]
  },
  {
   "cell_type": "code",
   "execution_count": null,
   "id": "9cd4d54d",
   "metadata": {},
   "outputs": [],
   "source": [
    "len(dictionary)"
   ]
  },
  {
   "cell_type": "code",
   "execution_count": null,
   "id": "490a8348",
   "metadata": {},
   "outputs": [],
   "source": [
    "import gensim\n",
    "NUM_TOPICS = 20 # 20개의 토픽, k=20\n",
    "ldamodel = gensim.models.ldamodel.LdaModel(corpus, num_topics = NUM_TOPICS, id2word=dictionary, passes=15)\n",
    "topics = ldamodel.print_topics(num_words=4)\n",
    "for topic in topics:\n",
    "    print(topic)"
   ]
  },
  {
   "cell_type": "code",
   "execution_count": null,
   "id": "44dd624e",
   "metadata": {},
   "outputs": [],
   "source": [
    "print(ldamodel.print_topics())"
   ]
  },
  {
   "cell_type": "code",
   "execution_count": null,
   "id": "37dd0ff0",
   "metadata": {},
   "outputs": [],
   "source": [
    "#시각화 "
   ]
  },
  {
   "cell_type": "code",
   "execution_count": null,
   "id": "f9dc29d6",
   "metadata": {},
   "outputs": [],
   "source": [
    "pip install pyLDAvis"
   ]
  },
  {
   "cell_type": "code",
   "execution_count": null,
   "id": "f219bc00",
   "metadata": {},
   "outputs": [],
   "source": [
    "import pyLDAvis.gensim_models\n",
    "\n",
    "pyLDAvis.enable_notebook()\n",
    "vis = pyLDAvis.gensim_models.prepare(ldamodel, corpus, dictionary)\n",
    "pyLDAvis.display(vis)"
   ]
  },
  {
   "cell_type": "code",
   "execution_count": null,
   "id": "24d8d8d9",
   "metadata": {},
   "outputs": [],
   "source": [
    "# 문서 별 토픽 분포 확인 "
   ]
  },
  {
   "cell_type": "code",
   "execution_count": null,
   "id": "e1d3535d",
   "metadata": {},
   "outputs": [],
   "source": [
    "for i, topic_list in enumerate(ldamodel[corpus]):\n",
    "    if i==5:\n",
    "        break\n",
    "    print(i,'번째 문서의 topic 비율은',topic_list)"
   ]
  },
  {
   "cell_type": "code",
   "execution_count": null,
   "id": "975f8b34",
   "metadata": {},
   "outputs": [],
   "source": [
    "def make_topictable_per_doc(ldamodel, corpus):\n",
    "    topic_table = pd.DataFrame()\n",
    "\n",
    "    # 몇 번째 문서인지를 의미하는 문서 번호와 해당 문서의 토픽 비중을 한 줄씩 꺼내온다.\n",
    "    for i, topic_list in enumerate(ldamodel[corpus]):\n",
    "        doc = topic_list[0] if ldamodel.per_word_topics else topic_list            \n",
    "        doc = sorted(doc, key=lambda x: (x[1]), reverse=True)\n",
    "        # 각 문서에 대해서 비중이 높은 토픽순으로 토픽을 정렬한다.\n",
    "        # EX) 정렬 전 0번 문서 : (2번 토픽, 48.5%), (8번 토픽, 25%), (10번 토픽, 5%), (12번 토픽, 21.5%), \n",
    "        # Ex) 정렬 후 0번 문서 : (2번 토픽, 48.5%), (8번 토픽, 25%), (12번 토픽, 21.5%), (10번 토픽, 5%)\n",
    "        # 48 > 25 > 21 > 5 순으로 정렬이 된 것.\n",
    "\n",
    "        # 모든 문서에 대해서 각각 아래를 수행\n",
    "        for j, (topic_num, prop_topic) in enumerate(doc): #  몇 번 토픽인지와 비중을 나눠서 저장한다.\n",
    "            if j == 0:  # 정렬을 한 상태이므로 가장 앞에 있는 것이 가장 비중이 높은 토픽\n",
    "                topic_table = topic_table.append(pd.Series([int(topic_num), round(prop_topic,4), topic_list]), ignore_index=True)\n",
    "                # 가장 비중이 높은 토픽과, 가장 비중이 높은 토픽의 비중과, 전체 토픽의 비중을 저장한다.\n",
    "            else:\n",
    "                break\n",
    "    return(topic_table)"
   ]
  },
  {
   "cell_type": "code",
   "execution_count": null,
   "id": "866dd8cf",
   "metadata": {},
   "outputs": [],
   "source": [
    "topictable = make_topictable_per_doc(ldamodel, corpus)\n",
    "topictable = topictable.reset_index() # 문서 번호을 의미하는 열(column)로 사용하기 위해서 인덱스 열을 하나 더 만든다.\n",
    "topictable.columns = ['문서 번호', '가장 비중이 높은 토픽', '가장 높은 토픽의 비중', '각 토픽의 비중']\n",
    "topictable[:10]"
   ]
  },
  {
   "cell_type": "markdown",
   "id": "cfea3fb3",
   "metadata": {},
   "source": [
    "# 강사님코드"
   ]
  },
  {
   "cell_type": "code",
   "execution_count": 44,
   "id": "235c83be",
   "metadata": {},
   "outputs": [],
   "source": [
    "from nltk.corpus import stopwords\n",
    "from nltk.stem.porter import PorterStemmer\n",
    "from gensim import corpora, models\n",
    "import gensim\n",
    "from nltk.tokenize import RegexpTokenizer"
   ]
  },
  {
   "cell_type": "code",
   "execution_count": 45,
   "id": "28ebfef1",
   "metadata": {},
   "outputs": [
    {
     "name": "stdout",
     "output_type": "stream",
     "text": [
      "(0, 'female')\n",
      "(1, 'human')\n",
      "(2, 'man')\n",
      "(3, 'boy')\n",
      "(4, 'woman')\n"
     ]
    }
   ],
   "source": [
    "from gensim.corpora import Dictionary\n",
    "text1 = [['man','female','man','human','man'],['woman','boy','human','man','woman']]\n",
    "\n",
    "dictionary = Dictionary(text1)\n",
    "for i in dictionary.items():\n",
    "    print(i)"
   ]
  },
  {
   "cell_type": "code",
   "execution_count": 46,
   "id": "97e703dc",
   "metadata": {},
   "outputs": [
    {
     "data": {
      "text/plain": [
       "[[(0, 1), (1, 1), (2, 3)], [(1, 1), (2, 1), (3, 1), (4, 2)]]"
      ]
     },
     "execution_count": 46,
     "metadata": {},
     "output_type": "execute_result"
    }
   ],
   "source": [
    "[dictionary.doc2bow(text) for text in text1]"
   ]
  },
  {
   "cell_type": "code",
   "execution_count": 47,
   "id": "16077e22",
   "metadata": {},
   "outputs": [
    {
     "data": {
      "text/plain": [
       "[(0, 1), (2, 3), (3, 1), (4, 2)]"
      ]
     },
     "execution_count": 47,
     "metadata": {},
     "output_type": "execute_result"
    }
   ],
   "source": [
    "dictionary.doc2bow(['man','woman','boy','female','man','woman','man'])"
   ]
  },
  {
   "cell_type": "code",
   "execution_count": 48,
   "id": "efc31ea9",
   "metadata": {},
   "outputs": [
    {
     "data": {
      "text/plain": [
       "[2, 4, 3, 0, 2, 4, 2]"
      ]
     },
     "execution_count": 48,
     "metadata": {},
     "output_type": "execute_result"
    }
   ],
   "source": [
    "dictionary.doc2idx(['man','woman','boy','female','man','woman','man'])"
   ]
  },
  {
   "cell_type": "code",
   "execution_count": 49,
   "id": "9b5dd3b9",
   "metadata": {},
   "outputs": [],
   "source": [
    "tokenizer = RegexpTokenizer('[\\w]+')"
   ]
  },
  {
   "cell_type": "code",
   "execution_count": 50,
   "id": "6a764065",
   "metadata": {},
   "outputs": [],
   "source": [
    "stop_words = stopwords.words('english')"
   ]
  },
  {
   "cell_type": "code",
   "execution_count": 51,
   "id": "45c939ec",
   "metadata": {},
   "outputs": [],
   "source": [
    "p_stemmer = PorterStemmer()  # 어근 복원 : runs, running, ran => run,  cars => car"
   ]
  },
  {
   "cell_type": "code",
   "execution_count": 52,
   "id": "3fa92ccf",
   "metadata": {},
   "outputs": [],
   "source": [
    "doc_a = \"Brocolli is good to eat. My brother likes to eat good brocolli, but not my mother.\"\n",
    "doc_b = \"My mother spends a lot of time driving my brother around to baseball practice.\"\n",
    "doc_c = \"Some health experts suggest that driving may cause increased tension and blood pressure.\"\n",
    "doc_d = \"I often feel pressure to perform well at school, but my mother never seems to drive my brother to do better.\"\n",
    "doc_e = \"Health professionals say that brocolli is good for your health.\"\n",
    "doc_f = \"Big data is a term used to refer to data sets that are too large or complex for traditional data-processing application software to adequately deal with.\"\n",
    "doc_g = \"Data with many cases offer greater statistical power, while data with higher complexity may lead to a higher false discovery rate\"\n",
    "doc_h = \"Big data was originally associated with three key concepts: volume, variety, and velocity.\"\n",
    "doc_i = \"A 2016 definition states that 'Big data represents the information assets characterized by such a high volume, velocity and variety to require specific technology and analytical methods for its transformation into value'.\"\n",
    "doc_j = \"Data must be processed with advanced tools to reveal meaningful information.\""
   ]
  },
  {
   "cell_type": "code",
   "execution_count": 53,
   "id": "38a66add",
   "metadata": {},
   "outputs": [],
   "source": [
    "# topics - keywords를 기준으로 keywords의 빈도(중요도)를 계산해서 문서의 유사도\n",
    "\n",
    "# 1. health, \n",
    "# 2. food\n",
    "# 3. bigdata\n",
    "# 4. drive\n",
    "# 5. data"
   ]
  },
  {
   "cell_type": "code",
   "execution_count": 54,
   "id": "f8ac0fc0",
   "metadata": {},
   "outputs": [],
   "source": [
    "p_stemmer = PorterStemmer()  # 어근 복원 : runs, running, ran => run,  cars => car"
   ]
  },
  {
   "cell_type": "code",
   "execution_count": 55,
   "id": "89486efe",
   "metadata": {},
   "outputs": [],
   "source": [
    "doc_set = [doc_a, doc_b, doc_c, doc_d, doc_e, doc_f, doc_g, doc_h, doc_i,doc_j]"
   ]
  },
  {
   "cell_type": "code",
   "execution_count": 56,
   "id": "14e2742e",
   "metadata": {},
   "outputs": [],
   "source": [
    "texts = []"
   ]
  },
  {
   "cell_type": "code",
   "execution_count": 57,
   "id": "8c53b987",
   "metadata": {},
   "outputs": [],
   "source": [
    "for w in doc_set:\n",
    "    raw = w.lower()\n",
    "    tokens = tokenizer.tokenize(raw)\n",
    "    stopped_tokens = [i for i in tokens if not i in stop_words]\n",
    "    stemmer_tokens = [p_stemmer.stem(i) for i in stopped_tokens]\n",
    "    texts.append(stemmer_tokens)"
   ]
  },
  {
   "cell_type": "code",
   "execution_count": 58,
   "id": "d78de60e",
   "metadata": {
    "collapsed": true
   },
   "outputs": [
    {
     "data": {
      "text/plain": [
       "[['brocolli',\n",
       "  'good',\n",
       "  'eat',\n",
       "  'brother',\n",
       "  'like',\n",
       "  'eat',\n",
       "  'good',\n",
       "  'brocolli',\n",
       "  'mother'],\n",
       " ['mother',\n",
       "  'spend',\n",
       "  'lot',\n",
       "  'time',\n",
       "  'drive',\n",
       "  'brother',\n",
       "  'around',\n",
       "  'basebal',\n",
       "  'practic'],\n",
       " ['health',\n",
       "  'expert',\n",
       "  'suggest',\n",
       "  'drive',\n",
       "  'may',\n",
       "  'caus',\n",
       "  'increas',\n",
       "  'tension',\n",
       "  'blood',\n",
       "  'pressur'],\n",
       " ['often',\n",
       "  'feel',\n",
       "  'pressur',\n",
       "  'perform',\n",
       "  'well',\n",
       "  'school',\n",
       "  'mother',\n",
       "  'never',\n",
       "  'seem',\n",
       "  'drive',\n",
       "  'brother',\n",
       "  'better'],\n",
       " ['health', 'profession', 'say', 'brocolli', 'good', 'health'],\n",
       " ['big',\n",
       "  'data',\n",
       "  'term',\n",
       "  'use',\n",
       "  'refer',\n",
       "  'data',\n",
       "  'set',\n",
       "  'larg',\n",
       "  'complex',\n",
       "  'tradit',\n",
       "  'data',\n",
       "  'process',\n",
       "  'applic',\n",
       "  'softwar',\n",
       "  'adequ',\n",
       "  'deal'],\n",
       " ['data',\n",
       "  'mani',\n",
       "  'case',\n",
       "  'offer',\n",
       "  'greater',\n",
       "  'statist',\n",
       "  'power',\n",
       "  'data',\n",
       "  'higher',\n",
       "  'complex',\n",
       "  'may',\n",
       "  'lead',\n",
       "  'higher',\n",
       "  'fals',\n",
       "  'discoveri',\n",
       "  'rate'],\n",
       " ['big',\n",
       "  'data',\n",
       "  'origin',\n",
       "  'associ',\n",
       "  'three',\n",
       "  'key',\n",
       "  'concept',\n",
       "  'volum',\n",
       "  'varieti',\n",
       "  'veloc'],\n",
       " ['2016',\n",
       "  'definit',\n",
       "  'state',\n",
       "  'big',\n",
       "  'data',\n",
       "  'repres',\n",
       "  'inform',\n",
       "  'asset',\n",
       "  'character',\n",
       "  'high',\n",
       "  'volum',\n",
       "  'veloc',\n",
       "  'varieti',\n",
       "  'requir',\n",
       "  'specif',\n",
       "  'technolog',\n",
       "  'analyt',\n",
       "  'method',\n",
       "  'transform',\n",
       "  'valu'],\n",
       " ['data', 'must', 'process', 'advanc', 'tool', 'reveal', 'meaning', 'inform']]"
      ]
     },
     "execution_count": 58,
     "metadata": {},
     "output_type": "execute_result"
    }
   ],
   "source": [
    "texts"
   ]
  },
  {
   "cell_type": "code",
   "execution_count": 59,
   "id": "f0fa756e",
   "metadata": {},
   "outputs": [],
   "source": [
    "dictionary = corpora.Dictionary(texts)  # Dictionary : token에 index를 붙여서 사전을 만든다"
   ]
  },
  {
   "cell_type": "code",
   "execution_count": 60,
   "id": "1fb70659",
   "metadata": {
    "collapsed": true
   },
   "outputs": [
    {
     "name": "stdout",
     "output_type": "stream",
     "text": [
      "(0, 'brocolli')\n",
      "(1, 'brother')\n",
      "(2, 'eat')\n",
      "(3, 'good')\n",
      "(4, 'like')\n",
      "(5, 'mother')\n",
      "(6, 'around')\n",
      "(7, 'basebal')\n",
      "(8, 'drive')\n",
      "(9, 'lot')\n",
      "(10, 'practic')\n",
      "(11, 'spend')\n",
      "(12, 'time')\n",
      "(13, 'blood')\n",
      "(14, 'caus')\n",
      "(15, 'expert')\n",
      "(16, 'health')\n",
      "(17, 'increas')\n",
      "(18, 'may')\n",
      "(19, 'pressur')\n",
      "(20, 'suggest')\n",
      "(21, 'tension')\n",
      "(22, 'better')\n",
      "(23, 'feel')\n",
      "(24, 'never')\n",
      "(25, 'often')\n",
      "(26, 'perform')\n",
      "(27, 'school')\n",
      "(28, 'seem')\n",
      "(29, 'well')\n",
      "(30, 'profession')\n",
      "(31, 'say')\n",
      "(32, 'adequ')\n",
      "(33, 'applic')\n",
      "(34, 'big')\n",
      "(35, 'complex')\n",
      "(36, 'data')\n",
      "(37, 'deal')\n",
      "(38, 'larg')\n",
      "(39, 'process')\n",
      "(40, 'refer')\n",
      "(41, 'set')\n",
      "(42, 'softwar')\n",
      "(43, 'term')\n",
      "(44, 'tradit')\n",
      "(45, 'use')\n",
      "(46, 'case')\n",
      "(47, 'discoveri')\n",
      "(48, 'fals')\n",
      "(49, 'greater')\n",
      "(50, 'higher')\n",
      "(51, 'lead')\n",
      "(52, 'mani')\n",
      "(53, 'offer')\n",
      "(54, 'power')\n",
      "(55, 'rate')\n",
      "(56, 'statist')\n",
      "(57, 'associ')\n",
      "(58, 'concept')\n",
      "(59, 'key')\n",
      "(60, 'origin')\n",
      "(61, 'three')\n",
      "(62, 'varieti')\n",
      "(63, 'veloc')\n",
      "(64, 'volum')\n",
      "(65, '2016')\n",
      "(66, 'analyt')\n",
      "(67, 'asset')\n",
      "(68, 'character')\n",
      "(69, 'definit')\n",
      "(70, 'high')\n",
      "(71, 'inform')\n",
      "(72, 'method')\n",
      "(73, 'repres')\n",
      "(74, 'requir')\n",
      "(75, 'specif')\n",
      "(76, 'state')\n",
      "(77, 'technolog')\n",
      "(78, 'transform')\n",
      "(79, 'valu')\n",
      "(80, 'advanc')\n",
      "(81, 'meaning')\n",
      "(82, 'must')\n",
      "(83, 'reveal')\n",
      "(84, 'tool')\n"
     ]
    }
   ],
   "source": [
    "for w in dictionary.items():\n",
    "    print(w)"
   ]
  },
  {
   "cell_type": "code",
   "execution_count": 61,
   "id": "66df73d5",
   "metadata": {
    "collapsed": true
   },
   "outputs": [
    {
     "data": {
      "text/plain": [
       "{'brocolli': 0,\n",
       " 'brother': 1,\n",
       " 'eat': 2,\n",
       " 'good': 3,\n",
       " 'like': 4,\n",
       " 'mother': 5,\n",
       " 'around': 6,\n",
       " 'basebal': 7,\n",
       " 'drive': 8,\n",
       " 'lot': 9,\n",
       " 'practic': 10,\n",
       " 'spend': 11,\n",
       " 'time': 12,\n",
       " 'blood': 13,\n",
       " 'caus': 14,\n",
       " 'expert': 15,\n",
       " 'health': 16,\n",
       " 'increas': 17,\n",
       " 'may': 18,\n",
       " 'pressur': 19,\n",
       " 'suggest': 20,\n",
       " 'tension': 21,\n",
       " 'better': 22,\n",
       " 'feel': 23,\n",
       " 'never': 24,\n",
       " 'often': 25,\n",
       " 'perform': 26,\n",
       " 'school': 27,\n",
       " 'seem': 28,\n",
       " 'well': 29,\n",
       " 'profession': 30,\n",
       " 'say': 31,\n",
       " 'adequ': 32,\n",
       " 'applic': 33,\n",
       " 'big': 34,\n",
       " 'complex': 35,\n",
       " 'data': 36,\n",
       " 'deal': 37,\n",
       " 'larg': 38,\n",
       " 'process': 39,\n",
       " 'refer': 40,\n",
       " 'set': 41,\n",
       " 'softwar': 42,\n",
       " 'term': 43,\n",
       " 'tradit': 44,\n",
       " 'use': 45,\n",
       " 'case': 46,\n",
       " 'discoveri': 47,\n",
       " 'fals': 48,\n",
       " 'greater': 49,\n",
       " 'higher': 50,\n",
       " 'lead': 51,\n",
       " 'mani': 52,\n",
       " 'offer': 53,\n",
       " 'power': 54,\n",
       " 'rate': 55,\n",
       " 'statist': 56,\n",
       " 'associ': 57,\n",
       " 'concept': 58,\n",
       " 'key': 59,\n",
       " 'origin': 60,\n",
       " 'three': 61,\n",
       " 'varieti': 62,\n",
       " 'veloc': 63,\n",
       " 'volum': 64,\n",
       " '2016': 65,\n",
       " 'analyt': 66,\n",
       " 'asset': 67,\n",
       " 'character': 68,\n",
       " 'definit': 69,\n",
       " 'high': 70,\n",
       " 'inform': 71,\n",
       " 'method': 72,\n",
       " 'repres': 73,\n",
       " 'requir': 74,\n",
       " 'specif': 75,\n",
       " 'state': 76,\n",
       " 'technolog': 77,\n",
       " 'transform': 78,\n",
       " 'valu': 79,\n",
       " 'advanc': 80,\n",
       " 'meaning': 81,\n",
       " 'must': 82,\n",
       " 'reveal': 83,\n",
       " 'tool': 84}"
      ]
     },
     "execution_count": 61,
     "metadata": {},
     "output_type": "execute_result"
    }
   ],
   "source": [
    "dictionary.token2id"
   ]
  },
  {
   "cell_type": "code",
   "execution_count": 62,
   "id": "e888c05b",
   "metadata": {},
   "outputs": [],
   "source": [
    "import numpy as np"
   ]
  },
  {
   "cell_type": "code",
   "execution_count": 63,
   "id": "364c48a4",
   "metadata": {},
   "outputs": [
    {
     "name": "stdout",
     "output_type": "stream",
     "text": [
      "['brocolli', 'good', 'eat', 'brother', 'like', 'eat', 'good', 'brocolli', 'mother']\n"
     ]
    }
   ],
   "source": [
    "print(texts[0])"
   ]
  },
  {
   "cell_type": "code",
   "execution_count": 64,
   "id": "fdde5fa1",
   "metadata": {},
   "outputs": [
    {
     "name": "stdout",
     "output_type": "stream",
     "text": [
      "['brocolli' 'brother' 'eat' 'good' 'like' 'mother']\n"
     ]
    }
   ],
   "source": [
    "print(np.unique(np.array(texts[0])))"
   ]
  },
  {
   "cell_type": "code",
   "execution_count": 65,
   "id": "fa71f32a",
   "metadata": {},
   "outputs": [
    {
     "data": {
      "text/plain": [
       "[(0, 2), (1, 1), (2, 2), (3, 2), (4, 1), (5, 1)]"
      ]
     },
     "execution_count": 65,
     "metadata": {},
     "output_type": "execute_result"
    }
   ],
   "source": [
    "dictionary.doc2bow(texts[0])  # token의 빈도를 tuple"
   ]
  },
  {
   "cell_type": "code",
   "execution_count": 66,
   "id": "adc0ff20",
   "metadata": {
    "collapsed": true
   },
   "outputs": [
    {
     "data": {
      "text/plain": [
       "['mother',\n",
       " 'spend',\n",
       " 'lot',\n",
       " 'time',\n",
       " 'drive',\n",
       " 'brother',\n",
       " 'around',\n",
       " 'basebal',\n",
       " 'practic']"
      ]
     },
     "execution_count": 66,
     "metadata": {},
     "output_type": "execute_result"
    }
   ],
   "source": [
    "texts[1]"
   ]
  },
  {
   "cell_type": "code",
   "execution_count": 67,
   "id": "11ae50b5",
   "metadata": {
    "collapsed": true
   },
   "outputs": [
    {
     "data": {
      "text/plain": [
       "[[(0, 2), (1, 1), (2, 2), (3, 2), (4, 1), (5, 1)],\n",
       " [(1, 1), (5, 1), (6, 1), (7, 1), (8, 1), (9, 1), (10, 1), (11, 1), (12, 1)],\n",
       " [(8, 1),\n",
       "  (13, 1),\n",
       "  (14, 1),\n",
       "  (15, 1),\n",
       "  (16, 1),\n",
       "  (17, 1),\n",
       "  (18, 1),\n",
       "  (19, 1),\n",
       "  (20, 1),\n",
       "  (21, 1)],\n",
       " [(1, 1),\n",
       "  (5, 1),\n",
       "  (8, 1),\n",
       "  (19, 1),\n",
       "  (22, 1),\n",
       "  (23, 1),\n",
       "  (24, 1),\n",
       "  (25, 1),\n",
       "  (26, 1),\n",
       "  (27, 1),\n",
       "  (28, 1),\n",
       "  (29, 1)],\n",
       " [(0, 1), (3, 1), (16, 2), (30, 1), (31, 1)],\n",
       " [(32, 1),\n",
       "  (33, 1),\n",
       "  (34, 1),\n",
       "  (35, 1),\n",
       "  (36, 3),\n",
       "  (37, 1),\n",
       "  (38, 1),\n",
       "  (39, 1),\n",
       "  (40, 1),\n",
       "  (41, 1),\n",
       "  (42, 1),\n",
       "  (43, 1),\n",
       "  (44, 1),\n",
       "  (45, 1)],\n",
       " [(18, 1),\n",
       "  (35, 1),\n",
       "  (36, 2),\n",
       "  (46, 1),\n",
       "  (47, 1),\n",
       "  (48, 1),\n",
       "  (49, 1),\n",
       "  (50, 2),\n",
       "  (51, 1),\n",
       "  (52, 1),\n",
       "  (53, 1),\n",
       "  (54, 1),\n",
       "  (55, 1),\n",
       "  (56, 1)],\n",
       " [(34, 1),\n",
       "  (36, 1),\n",
       "  (57, 1),\n",
       "  (58, 1),\n",
       "  (59, 1),\n",
       "  (60, 1),\n",
       "  (61, 1),\n",
       "  (62, 1),\n",
       "  (63, 1),\n",
       "  (64, 1)],\n",
       " [(34, 1),\n",
       "  (36, 1),\n",
       "  (62, 1),\n",
       "  (63, 1),\n",
       "  (64, 1),\n",
       "  (65, 1),\n",
       "  (66, 1),\n",
       "  (67, 1),\n",
       "  (68, 1),\n",
       "  (69, 1),\n",
       "  (70, 1),\n",
       "  (71, 1),\n",
       "  (72, 1),\n",
       "  (73, 1),\n",
       "  (74, 1),\n",
       "  (75, 1),\n",
       "  (76, 1),\n",
       "  (77, 1),\n",
       "  (78, 1),\n",
       "  (79, 1)],\n",
       " [(36, 1), (39, 1), (71, 1), (80, 1), (81, 1), (82, 1), (83, 1), (84, 1)]]"
      ]
     },
     "execution_count": 67,
     "metadata": {},
     "output_type": "execute_result"
    }
   ],
   "source": [
    "corpus = [dictionary.doc2bow(text) for text in texts]   # (token idx, frequency)\n",
    "corpus"
   ]
  },
  {
   "cell_type": "code",
   "execution_count": null,
   "id": "a68df1c1",
   "metadata": {},
   "outputs": [],
   "source": []
  },
  {
   "cell_type": "code",
   "execution_count": 68,
   "id": "9f227ef5",
   "metadata": {},
   "outputs": [],
   "source": [
    "ldamodel = gensim.models.ldamodel.LdaModel(corpus, num_topics=4, id2word = dictionary)"
   ]
  },
  {
   "cell_type": "code",
   "execution_count": 69,
   "id": "c5299f43",
   "metadata": {
    "collapsed": true
   },
   "outputs": [
    {
     "data": {
      "text/plain": [
       "[(0,\n",
       "  '0.068*\"health\" + 0.047*\"drive\" + 0.026*\"mother\" + 0.026*\"pressur\" + 0.026*\"brother\" + 0.026*\"may\" + 0.026*\"lot\"'),\n",
       " (1,\n",
       "  '0.059*\"data\" + 0.035*\"higher\" + 0.033*\"veloc\" + 0.033*\"volum\" + 0.033*\"big\" + 0.031*\"varieti\" + 0.021*\"concept\"'),\n",
       " (2,\n",
       "  '0.030*\"mother\" + 0.030*\"drive\" + 0.030*\"brother\" + 0.030*\"seem\" + 0.030*\"pressur\" + 0.030*\"feel\" + 0.030*\"well\"'),\n",
       " (3,\n",
       "  '0.078*\"data\" + 0.042*\"good\" + 0.042*\"brocolli\" + 0.042*\"eat\" + 0.040*\"process\" + 0.024*\"big\" + 0.024*\"brother\"')]"
      ]
     },
     "execution_count": 69,
     "metadata": {},
     "output_type": "execute_result"
    }
   ],
   "source": [
    "ldamodel.print_topics(num_words=7)  # topic별 중요 token"
   ]
  },
  {
   "cell_type": "code",
   "execution_count": 70,
   "id": "3d07100e",
   "metadata": {},
   "outputs": [
    {
     "data": {
      "text/plain": [
       "<gensim.interfaces.TransformedCorpus at 0x17b17dfbaf0>"
      ]
     },
     "execution_count": 70,
     "metadata": {},
     "output_type": "execute_result"
    }
   ],
   "source": [
    "ldamodel.get_document_topics(corpus)"
   ]
  },
  {
   "cell_type": "code",
   "execution_count": 71,
   "id": "9e27f815",
   "metadata": {},
   "outputs": [
    {
     "data": {
      "text/plain": [
       "[(0, 0.025832806), (1, 0.025017586), (2, 0.025472917), (3, 0.92367667)]"
      ]
     },
     "execution_count": 71,
     "metadata": {},
     "output_type": "execute_result"
    }
   ],
   "source": [
    "ldamodel.get_document_topics(corpus)[0]"
   ]
  },
  {
   "cell_type": "code",
   "execution_count": 72,
   "id": "b6729307",
   "metadata": {},
   "outputs": [
    {
     "data": {
      "text/plain": [
       "[(0, 0.931414), (1, 0.022842094), (2, 0.022995897), (3, 0.02274797)]"
      ]
     },
     "execution_count": 72,
     "metadata": {},
     "output_type": "execute_result"
    }
   ],
   "source": [
    "ldamodel.get_document_topics(corpus)[2]"
   ]
  },
  {
   "cell_type": "code",
   "execution_count": 73,
   "id": "90560b70",
   "metadata": {
    "collapsed": true
   },
   "outputs": [
    {
     "name": "stdout",
     "output_type": "stream",
     "text": [
      "[(0, 0.02582455), (1, 0.025017586), (2, 0.025472876), (3, 0.923685)]\n",
      "[(0, 0.9241107), (1, 0.025022395), (2, 0.02553338), (3, 0.025333518)]\n",
      "[(0, 0.93141454), (1, 0.022842081), (2, 0.022995383), (3, 0.022747967)]\n",
      "[(0, 0.019741345), (1, 0.019246882), (2, 0.9416094), (3, 0.0194024)]\n",
      "[(0, 0.8909574), (1, 0.035741877), (2, 0.035752557), (3, 0.03754818)]\n",
      "[(0, 0.014725073), (1, 0.014998599), (2, 0.014777383), (3, 0.95549893)]\n",
      "[(0, 0.014806288), (1, 0.95540696), (2, 0.014829709), (3, 0.014957035)]\n",
      "[(0, 0.022754189), (1, 0.93130857), (2, 0.022902722), (3, 0.023034547)]\n",
      "[(0, 0.011934887), (1, 0.9636686), (2, 0.01234857), (3, 0.012047951)]\n",
      "[(0, 0.027984722), (1, 0.02813192), (2, 0.027936349), (3, 0.915947)]\n"
     ]
    }
   ],
   "source": [
    "for d in ldamodel.get_document_topics(corpus):\n",
    "    print(d)"
   ]
  },
  {
   "cell_type": "code",
   "execution_count": 74,
   "id": "b79d8c76",
   "metadata": {},
   "outputs": [],
   "source": [
    "# LDA Topic modeling : perplexity, coherence\n",
    "\n",
    "# perplexity (혼란)\n",
    "# 문헌 내 주제 출현확률과 주제 내 용어출현 확률"
   ]
  },
  {
   "cell_type": "code",
   "execution_count": 75,
   "id": "595e0af6",
   "metadata": {},
   "outputs": [],
   "source": [
    "import matplotlib.pyplot as plt"
   ]
  },
  {
   "cell_type": "code",
   "execution_count": 76,
   "id": "972780c7",
   "metadata": {},
   "outputs": [
    {
     "name": "stdout",
     "output_type": "stream",
     "text": [
      "-5.039875822848287\n"
     ]
    }
   ],
   "source": [
    "from gensim.models import CoherenceModel\n",
    "\n",
    "print(ldamodel.log_perplexity(corpus))"
   ]
  },
  {
   "cell_type": "code",
   "execution_count": 77,
   "id": "5e075020",
   "metadata": {},
   "outputs": [],
   "source": [
    "perplexity_values = []\n",
    "\n",
    "for i in range(2,10):\n",
    "    ldamodel = gensim.models.ldamodel.LdaModel(corpus, num_topics=i, \\\n",
    "                                               id2word=dictionary)\n",
    "    perplexity_values.append(ldamodel.log_perplexity(corpus))"
   ]
  },
  {
   "cell_type": "code",
   "execution_count": 78,
   "id": "b3060279",
   "metadata": {},
   "outputs": [
    {
     "data": {
      "text/plain": [
       "[<matplotlib.lines.Line2D at 0x17b18b5c370>]"
      ]
     },
     "execution_count": 78,
     "metadata": {},
     "output_type": "execute_result"
    },
    {
     "data": {
      "image/png": "[encoded data removed]",
      "text/plain": [
       "<Figure size 432x288 with 1 Axes>"
      ]
     },
     "metadata": {
      "needs_background": "light"
     },
     "output_type": "display_data"
    }
   ],
   "source": [
    "plt.plot(range(2,10), perplexity_values)"
   ]
  },
  {
   "cell_type": "code",
   "execution_count": null,
   "id": "9f710c7e",
   "metadata": {},
   "outputs": [],
   "source": []
  },
  {
   "cell_type": "code",
   "execution_count": null,
   "id": "103922fa",
   "metadata": {},
   "outputs": [],
   "source": []
  },
  {
   "cell_type": "code",
   "execution_count": null,
   "id": "ce17cc5e",
   "metadata": {},
   "outputs": [],
   "source": []
  },
  {
   "cell_type": "code",
   "execution_count": null,
   "id": "3e68027c",
   "metadata": {},
   "outputs": [],
   "source": []
  },
  {
   "cell_type": "code",
   "execution_count": null,
   "id": "85e32695",
   "metadata": {},
   "outputs": [],
   "source": []
  },
  {
   "cell_type": "code",
   "execution_count": null,
   "id": "0e76872e",
   "metadata": {},
   "outputs": [],
   "source": []
  },
  {
   "cell_type": "code",
   "execution_count": null,
   "id": "d3f06035",
   "metadata": {},
   "outputs": [],
   "source": []
  },
  {
   "cell_type": "code",
   "execution_count": null,
   "id": "5f8db115",
   "metadata": {},
   "outputs": [],
   "source": []
  }
 ],
 "metadata": {
  "kernelspec": {
   "display_name": "Python 3 (ipykernel)",
   "language": "python",
   "name": "python3"
  },
  "language_info": {
   "codemirror_mode": {
    "name": "ipython",
    "version": 3
   },
   "file_extension": ".py",
   "mimetype": "text/x-python",
   "name": "python",
   "nbconvert_exporter": "python",
   "pygments_lexer": "ipython3",
   "version": "3.9.7"
  }
 },
 "nbformat": 4,
 "nbformat_minor": 5
}
