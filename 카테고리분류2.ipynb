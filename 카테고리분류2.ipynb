{
 "cells": [
  {
   "cell_type": "code",
   "execution_count": 1,
   "id": "dce4fc23",
   "metadata": {
    "scrolled": true
   },
   "outputs": [
    {
     "data": {
      "text/plain": [
       "[name: \"/device:CPU:0\"\n",
       " device_type: \"CPU\"\n",
       " memory_limit: 268435456\n",
       " locality {\n",
       " }\n",
       " incarnation: 2120214103554001710\n",
       " xla_global_id: -1,\n",
       " name: \"/device:GPU:0\"\n",
       " device_type: \"GPU\"\n",
       " memory_limit: 6259015680\n",
       " locality {\n",
       "   bus_id: 1\n",
       "   links {\n",
       "   }\n",
       " }\n",
       " incarnation: 6992225141639690626\n",
       " physical_device_desc: \"device: 0, name: NVIDIA GeForce RTX 2080, pci bus id: 0000:01:00.0, compute capability: 7.5\"\n",
       " xla_global_id: 416903419]"
      ]
     },
     "execution_count": 1,
     "metadata": {},
     "output_type": "execute_result"
    }
   ],
   "source": [
    "# # GPU 확인 \n",
    "# from tensorflow.python.client import device_lib\n",
    "# device_lib.list_local_devices()"
   ]
  },
  {
   "cell_type": "code",
   "execution_count": 3,
   "id": "2845ca41",
   "metadata": {},
   "outputs": [],
   "source": [
    "import pandas as pd\n",
    "import numpy as np \n",
    "import matplotlib.pyplot as plt \n",
    "import seaborn as sns\n",
    "from tensorflow.keras.models import Sequential\n",
    "from tensorflow.keras.layers import Dense, LSTM, Embedding\n",
    "from tensorflow.keras.preprocessing.sequence import pad_sequences\n",
    "from tensorflow.keras.utils import to_categorical\n",
    "from tensorflow.keras.callbacks import EarlyStopping, ModelCheckpoint\n",
    "from tensorflow.keras.models import load_model\n",
    "from sklearn.model_selection import train_test_split"
   ]
  },
  {
   "cell_type": "code",
   "execution_count": 5,
   "id": "31236ed2",
   "metadata": {},
   "outputs": [
    {
     "data": {
      "text/plain": [
       "['.git',\n",
       " '.ipynb_checkpoints',\n",
       " '0411_RNN_LSTM.ipynb',\n",
       " '20220418.ipynb',\n",
       " 'BERT.ipynb',\n",
       " 'best_model',\n",
       " 'chromedriver.exe',\n",
       " 'data',\n",
       " 'gitignore.txt',\n",
       " 'investing_scrap.ipynb',\n",
       " 'labeled_news_oil_0_100_oil_price.csv.csv',\n",
       " 'LDA 모델 구축.ipynb',\n",
       " 'LDA모델구축_최종.ipynb',\n",
       " 'Reuter_Crawling_Code.ipynb',\n",
       " 'RNN_CNBC뉴스 분류  - 복사본.ipynb',\n",
       " 'RNN_CNBC뉴스 분류 .ipynb',\n",
       " 'tokenizer.pickle',\n",
       " 'Tokenizing.ipynb',\n",
       " '당일뉴스분류_0422.csv',\n",
       " '석유와가스_지수.csv',\n",
       " '카테고리35개_분류모델.ipynb',\n",
       " '카테고리분류.ipynb',\n",
       " '카테고리분류2.ipynb',\n",
       " '카테고리분류모델피클',\n",
       " '토크나이징']"
      ]
     },
     "execution_count": 5,
     "metadata": {},
     "output_type": "execute_result"
    }
   ],
   "source": [
    "import os\n",
    "# csv파일 경로 리스팅 \n",
    "data_lis = os.listdir('./')\n",
    "data_lis"
   ]
  },
  {
   "cell_type": "code",
   "execution_count": 1,
   "id": "59744ad6",
   "metadata": {},
   "outputs": [
    {
     "data": {
      "text/plain": [
       "'C:\\\\Users\\\\bitcamp\\\\Project4'"
      ]
     },
     "execution_count": 1,
     "metadata": {},
     "output_type": "execute_result"
    }
   ],
   "source": [
    "pwd"
   ]
  },
  {
   "cell_type": "code",
   "execution_count": 63,
   "id": "9d76c821",
   "metadata": {},
   "outputs": [
    {
     "name": "stdout",
     "output_type": "stream",
     "text": [
      "C:\\Users\\bitcamp\\Project4\\data\\1차뉴스분류-20220425T013418Z-001\\1차뉴스분류\\commodities\n"
     ]
    }
   ],
   "source": [
    "cd C:\\Users\\bitcamp\\Project4\\data\\1차뉴스분류-20220425T013418Z-001\\1차뉴스분류\\commodities"
   ]
  },
  {
   "cell_type": "code",
   "execution_count": 17,
   "id": "f02a062d",
   "metadata": {},
   "outputs": [],
   "source": [
    "# csv파일 여러개 읽어와서 합치기 \n",
    "df_cnbc = pd.DataFrame()\n",
    "\n",
    "for files in data_lis:\n",
    "    # advertisement 빼고 합치기 \n",
    "    if \"당일뉴스\" in files:\n",
    "        df = pd.read_csv(files,index_col=0)\n",
    "        df_cnbc = pd.concat([df_cnbc,df])  "
   ]
  },
  {
   "cell_type": "code",
   "execution_count": 18,
   "id": "a9b50934",
   "metadata": {},
   "outputs": [],
   "source": [
    "df = df_cnbc"
   ]
  },
  {
   "cell_type": "code",
   "execution_count": 19,
   "id": "03529dd0",
   "metadata": {},
   "outputs": [
    {
     "data": {
      "text/html": [
       "<div>\n",
       "<style scoped>\n",
       "    .dataframe tbody tr th:only-of-type {\n",
       "        vertical-align: middle;\n",
       "    }\n",
       "\n",
       "    .dataframe tbody tr th {\n",
       "        vertical-align: top;\n",
       "    }\n",
       "\n",
       "    .dataframe thead th {\n",
       "        text-align: right;\n",
       "    }\n",
       "</style>\n",
       "<table border=\"1\" class=\"dataframe\">\n",
       "  <thead>\n",
       "    <tr style=\"text-align: right;\">\n",
       "      <th></th>\n",
       "      <th>date</th>\n",
       "      <th>news_oil</th>\n",
       "      <th>news_ship</th>\n",
       "      <th>news_sc</th>\n",
       "      <th>news_steel</th>\n",
       "      <th>news_vh</th>\n",
       "      <th>news_others</th>\n",
       "    </tr>\n",
       "  </thead>\n",
       "  <tbody>\n",
       "    <tr>\n",
       "      <th>0</th>\n",
       "      <td>2022-04-22</td>\n",
       "      <td>As a candidate, Joe Biden made climate change ...</td>\n",
       "      <td>NaN</td>\n",
       "      <td>NaN</td>\n",
       "      <td>NaN</td>\n",
       "      <td>NaN</td>\n",
       "      <td>NaN</td>\n",
       "    </tr>\n",
       "    <tr>\n",
       "      <th>1</th>\n",
       "      <td>2022-04-22</td>\n",
       "      <td>By David Gaffen\\nNEW YORK (Reuters) -Oil price...</td>\n",
       "      <td>NaN</td>\n",
       "      <td>NaN</td>\n",
       "      <td>NaN</td>\n",
       "      <td>NaN</td>\n",
       "      <td>NaN</td>\n",
       "    </tr>\n",
       "    <tr>\n",
       "      <th>2</th>\n",
       "      <td>2022-04-22</td>\n",
       "      <td>By Barani Krishnan\\nInvesting.com -- Oil price...</td>\n",
       "      <td>NaN</td>\n",
       "      <td>NaN</td>\n",
       "      <td>NaN</td>\n",
       "      <td>NaN</td>\n",
       "      <td>NaN</td>\n",
       "    </tr>\n",
       "    <tr>\n",
       "      <th>3</th>\n",
       "      <td>2022-04-22</td>\n",
       "      <td>NaN</td>\n",
       "      <td>NaN</td>\n",
       "      <td>NaN</td>\n",
       "      <td>NaN</td>\n",
       "      <td>NaN</td>\n",
       "      <td>(Bloomberg) -- The U.S. West Coast is importin...</td>\n",
       "    </tr>\n",
       "    <tr>\n",
       "      <th>4</th>\n",
       "      <td>2022-04-22</td>\n",
       "      <td>U.S. companies can help rebuild Ukraine with d...</td>\n",
       "      <td>NaN</td>\n",
       "      <td>NaN</td>\n",
       "      <td>NaN</td>\n",
       "      <td>NaN</td>\n",
       "      <td>NaN</td>\n",
       "    </tr>\n",
       "  </tbody>\n",
       "</table>\n",
       "</div>"
      ],
      "text/plain": [
       "         date                                           news_oil  news_ship  \\\n",
       "0  2022-04-22  As a candidate, Joe Biden made climate change ...        NaN   \n",
       "1  2022-04-22  By David Gaffen\\nNEW YORK (Reuters) -Oil price...        NaN   \n",
       "2  2022-04-22  By Barani Krishnan\\nInvesting.com -- Oil price...        NaN   \n",
       "3  2022-04-22                                                NaN        NaN   \n",
       "4  2022-04-22  U.S. companies can help rebuild Ukraine with d...        NaN   \n",
       "\n",
       "  news_sc  news_steel news_vh  \\\n",
       "0     NaN         NaN     NaN   \n",
       "1     NaN         NaN     NaN   \n",
       "2     NaN         NaN     NaN   \n",
       "3     NaN         NaN     NaN   \n",
       "4     NaN         NaN     NaN   \n",
       "\n",
       "                                         news_others  \n",
       "0                                                NaN  \n",
       "1                                                NaN  \n",
       "2                                                NaN  \n",
       "3  (Bloomberg) -- The U.S. West Coast is importin...  \n",
       "4                                                NaN  "
      ]
     },
     "execution_count": 19,
     "metadata": {},
     "output_type": "execute_result"
    }
   ],
   "source": [
    "df.head()"
   ]
  },
  {
   "cell_type": "code",
   "execution_count": 14,
   "id": "9e3f7c4d",
   "metadata": {},
   "outputs": [],
   "source": [
    "df = df[['date','news_oil']]"
   ]
  },
  {
   "cell_type": "code",
   "execution_count": 15,
   "id": "00e5199e",
   "metadata": {},
   "outputs": [
    {
     "data": {
      "text/html": [
       "<div>\n",
       "<style scoped>\n",
       "    .dataframe tbody tr th:only-of-type {\n",
       "        vertical-align: middle;\n",
       "    }\n",
       "\n",
       "    .dataframe tbody tr th {\n",
       "        vertical-align: top;\n",
       "    }\n",
       "\n",
       "    .dataframe thead th {\n",
       "        text-align: right;\n",
       "    }\n",
       "</style>\n",
       "<table border=\"1\" class=\"dataframe\">\n",
       "  <thead>\n",
       "    <tr style=\"text-align: right;\">\n",
       "      <th></th>\n",
       "      <th>date</th>\n",
       "      <th>news_oil</th>\n",
       "    </tr>\n",
       "  </thead>\n",
       "  <tbody>\n",
       "    <tr>\n",
       "      <th>0</th>\n",
       "      <td>&lt;span&gt;Apr 15, 2022 04:50PM ET&lt;/span&gt;</td>\n",
       "      <td>NaN</td>\n",
       "    </tr>\n",
       "    <tr>\n",
       "      <th>1</th>\n",
       "      <td>&lt;span&gt;Apr 15, 2022 04:30PM ET&lt;/span&gt;</td>\n",
       "      <td>NaN</td>\n",
       "    </tr>\n",
       "    <tr>\n",
       "      <th>2</th>\n",
       "      <td>&lt;span&gt;Apr 15, 2022 12:35AM ET&lt;/span&gt;</td>\n",
       "      <td>NaN</td>\n",
       "    </tr>\n",
       "    <tr>\n",
       "      <th>3</th>\n",
       "      <td>&lt;span&gt;Apr 14, 2022 02:00PM ET&lt;/span&gt;</td>\n",
       "      <td>NaN</td>\n",
       "    </tr>\n",
       "    <tr>\n",
       "      <th>4</th>\n",
       "      <td>&lt;span&gt;Apr 14, 2022 11:41AM ET&lt;/span&gt;</td>\n",
       "      <td>By Timothy Aeppel\\n(Reuters) - Through most of...</td>\n",
       "    </tr>\n",
       "  </tbody>\n",
       "</table>\n",
       "</div>"
      ],
      "text/plain": [
       "                                   date  \\\n",
       "0  <span>Apr 15, 2022 04:50PM ET</span>   \n",
       "1  <span>Apr 15, 2022 04:30PM ET</span>   \n",
       "2  <span>Apr 15, 2022 12:35AM ET</span>   \n",
       "3  <span>Apr 14, 2022 02:00PM ET</span>   \n",
       "4  <span>Apr 14, 2022 11:41AM ET</span>   \n",
       "\n",
       "                                            news_oil  \n",
       "0                                                NaN  \n",
       "1                                                NaN  \n",
       "2                                                NaN  \n",
       "3                                                NaN  \n",
       "4  By Timothy Aeppel\\n(Reuters) - Through most of...  "
      ]
     },
     "execution_count": 15,
     "metadata": {},
     "output_type": "execute_result"
    }
   ],
   "source": [
    "df.head()"
   ]
  },
  {
   "cell_type": "code",
   "execution_count": 25,
   "id": "f657fb3c",
   "metadata": {},
   "outputs": [],
   "source": [
    "df = df.dropna().reset_index().drop('index',axis=1)"
   ]
  },
  {
   "cell_type": "code",
   "execution_count": 27,
   "id": "af64c144",
   "metadata": {},
   "outputs": [
    {
     "data": {
      "text/html": [
       "<div>\n",
       "<style scoped>\n",
       "    .dataframe tbody tr th:only-of-type {\n",
       "        vertical-align: middle;\n",
       "    }\n",
       "\n",
       "    .dataframe tbody tr th {\n",
       "        vertical-align: top;\n",
       "    }\n",
       "\n",
       "    .dataframe thead th {\n",
       "        text-align: right;\n",
       "    }\n",
       "</style>\n",
       "<table border=\"1\" class=\"dataframe\">\n",
       "  <thead>\n",
       "    <tr style=\"text-align: right;\">\n",
       "      <th></th>\n",
       "      <th>date</th>\n",
       "      <th>news_others</th>\n",
       "    </tr>\n",
       "  </thead>\n",
       "  <tbody>\n",
       "    <tr>\n",
       "      <th>0</th>\n",
       "      <td>2022-04-22</td>\n",
       "      <td>(Bloomberg) -- The U.S. West Coast is importin...</td>\n",
       "    </tr>\n",
       "    <tr>\n",
       "      <th>111</th>\n",
       "      <td>2022-04-22</td>\n",
       "      <td>(Reuters) -The head of luxury house LVMH, Bern...</td>\n",
       "    </tr>\n",
       "    <tr>\n",
       "      <th>112</th>\n",
       "      <td>2022-04-22</td>\n",
       "      <td>Union Pacific  (NYSE:UNP) reported on Thursda...</td>\n",
       "    </tr>\n",
       "    <tr>\n",
       "      <th>113</th>\n",
       "      <td>2022-04-22</td>\n",
       "      <td>By Peter Nurse\\nInvesting.com -- Stocks in foc...</td>\n",
       "    </tr>\n",
       "    <tr>\n",
       "      <th>114</th>\n",
       "      <td>2022-04-22</td>\n",
       "      <td>Generali (BIT:GASI) boss Philippe Donnet, faci...</td>\n",
       "    </tr>\n",
       "    <tr>\n",
       "      <th>...</th>\n",
       "      <td>...</td>\n",
       "      <td>...</td>\n",
       "    </tr>\n",
       "    <tr>\n",
       "      <th>60</th>\n",
       "      <td>2022-04-22</td>\n",
       "      <td>Gap Inc. (NYSE:GPS) shares were trading more t...</td>\n",
       "    </tr>\n",
       "    <tr>\n",
       "      <th>61</th>\n",
       "      <td>2022-04-22</td>\n",
       "      <td>Boston Beer Co. (NYSE:SAM) shares were trading...</td>\n",
       "    </tr>\n",
       "    <tr>\n",
       "      <th>62</th>\n",
       "      <td>2022-04-22</td>\n",
       "      <td>Mexico's Grupo Financiero Banorte on Thursday ...</td>\n",
       "    </tr>\n",
       "    <tr>\n",
       "      <th>54</th>\n",
       "      <td>2022-04-22</td>\n",
       "      <td>By Geoffrey Smith \\nInvesting.com -- The euro ...</td>\n",
       "    </tr>\n",
       "    <tr>\n",
       "      <th>173</th>\n",
       "      <td>2022-04-22</td>\n",
       "      <td>By Jonathan Allen\\n(Reuters) -South Carolina's...</td>\n",
       "    </tr>\n",
       "  </tbody>\n",
       "</table>\n",
       "<p>174 rows × 2 columns</p>\n",
       "</div>"
      ],
      "text/plain": [
       "           date                                        news_others\n",
       "0    2022-04-22  (Bloomberg) -- The U.S. West Coast is importin...\n",
       "111  2022-04-22  (Reuters) -The head of luxury house LVMH, Bern...\n",
       "112  2022-04-22   Union Pacific  (NYSE:UNP) reported on Thursda...\n",
       "113  2022-04-22  By Peter Nurse\\nInvesting.com -- Stocks in foc...\n",
       "114  2022-04-22  Generali (BIT:GASI) boss Philippe Donnet, faci...\n",
       "..          ...                                                ...\n",
       "60   2022-04-22  Gap Inc. (NYSE:GPS) shares were trading more t...\n",
       "61   2022-04-22  Boston Beer Co. (NYSE:SAM) shares were trading...\n",
       "62   2022-04-22  Mexico's Grupo Financiero Banorte on Thursday ...\n",
       "54   2022-04-22  By Geoffrey Smith \\nInvesting.com -- The euro ...\n",
       "173  2022-04-22  By Jonathan Allen\\n(Reuters) -South Carolina's...\n",
       "\n",
       "[174 rows x 2 columns]"
      ]
     },
     "execution_count": 27,
     "metadata": {},
     "output_type": "execute_result"
    }
   ],
   "source": [
    "df.sort_values('date')"
   ]
  },
  {
   "cell_type": "code",
   "execution_count": 22,
   "id": "6c6f4b5f",
   "metadata": {},
   "outputs": [],
   "source": [
    "df = df[['date','news_others']]"
   ]
  },
  {
   "cell_type": "code",
   "execution_count": 9,
   "id": "0fb998f2",
   "metadata": {},
   "outputs": [],
   "source": [
    "from nltk.tokenize import RegexpTokenizer\n",
    "from nltk.corpus import stopwords\n",
    "from nltk.stem import PorterStemmer\n",
    "from bs4 import BeautifulSoup\n",
    "import re"
   ]
  },
  {
   "cell_type": "code",
   "execution_count": 10,
   "id": "468f0822",
   "metadata": {},
   "outputs": [],
   "source": [
    "def preprocessing(docs):\n",
    "    tokenizer = RegexpTokenizer('[\\w]+')\n",
    "    stop_words = stopwords.words('english')\n",
    "    p_stemmer = PorterStemmer()  # 어근 복원 : runs, running, ran => run,  cars => car\n",
    "#     p = re.compile(\"[0-9]+\")\n",
    "#     숫자제거해야됨\n",
    "#     docs = [p.sub(i) for i in docs]\n",
    "    docs = BeautifulSoup(docs, \"html5lib\").get_text()\n",
    "    low = docs.lower()\n",
    "    tokens = tokenizer.tokenize(low)\n",
    "    stopped_tokens = [i for i in tokens if not i in stop_words]\n",
    "    stopped_tokens = [re.sub('[^a-zA-Z0-9]',' ',i) for i in stopped_tokens]\n",
    "    stemmer_tokens = [p_stemmer.stem(i) for i in stopped_tokens]\n",
    "    one_rmv = [w for w in stemmer_tokens if len(w)>1]\n",
    "  \n",
    "    return one_rmv"
   ]
  },
  {
   "cell_type": "code",
   "execution_count": 28,
   "id": "9e51eb9a",
   "metadata": {},
   "outputs": [],
   "source": [
    "# import nltk\n",
    "# nltk.download('stopwords')\n",
    "# df['date']= df['date'].apply(preprocessing)\n",
    "df['clean_others'] = df['news_others'].apply(preprocessing)"
   ]
  },
  {
   "cell_type": "code",
   "execution_count": 29,
   "id": "02380861",
   "metadata": {},
   "outputs": [
    {
     "data": {
      "text/html": [
       "<div>\n",
       "<style scoped>\n",
       "    .dataframe tbody tr th:only-of-type {\n",
       "        vertical-align: middle;\n",
       "    }\n",
       "\n",
       "    .dataframe tbody tr th {\n",
       "        vertical-align: top;\n",
       "    }\n",
       "\n",
       "    .dataframe thead th {\n",
       "        text-align: right;\n",
       "    }\n",
       "</style>\n",
       "<table border=\"1\" class=\"dataframe\">\n",
       "  <thead>\n",
       "    <tr style=\"text-align: right;\">\n",
       "      <th></th>\n",
       "      <th>date</th>\n",
       "      <th>news_others</th>\n",
       "      <th>clean_others</th>\n",
       "    </tr>\n",
       "  </thead>\n",
       "  <tbody>\n",
       "    <tr>\n",
       "      <th>0</th>\n",
       "      <td>2022-04-22</td>\n",
       "      <td>(Bloomberg) -- The U.S. West Coast is importin...</td>\n",
       "      <td>[bloomberg, west, coast, import, gasolin, near...</td>\n",
       "    </tr>\n",
       "    <tr>\n",
       "      <th>1</th>\n",
       "      <td>2022-04-22</td>\n",
       "      <td>U.S. farmers are off to a slow start in their ...</td>\n",
       "      <td>[farmer, slow, start, corn, plant, year, farme...</td>\n",
       "    </tr>\n",
       "    <tr>\n",
       "      <th>2</th>\n",
       "      <td>2022-04-22</td>\n",
       "      <td>Exxon Mobil  Corp (NYSE:XOM). estimates there...</td>\n",
       "      <td>[exxon, mobil, corp, nyse, xom, estim, trillio...</td>\n",
       "    </tr>\n",
       "    <tr>\n",
       "      <th>3</th>\n",
       "      <td>2022-04-22</td>\n",
       "      <td>from Apple (NASDAQ:AAPL) and Boeing (NYSE:BA) ...</td>\n",
       "      <td>[appl, nasdaq, aapl, boe, nyse, ba, bp, nyse, ...</td>\n",
       "    </tr>\n",
       "    <tr>\n",
       "      <th>4</th>\n",
       "      <td>2022-04-22</td>\n",
       "      <td>OPEC told the International Monetary Fund's st...</td>\n",
       "      <td>[opec, told, intern, monetari, fund, steer, co...</td>\n",
       "    </tr>\n",
       "    <tr>\n",
       "      <th>...</th>\n",
       "      <td>...</td>\n",
       "      <td>...</td>\n",
       "      <td>...</td>\n",
       "    </tr>\n",
       "    <tr>\n",
       "      <th>169</th>\n",
       "      <td>2022-04-22</td>\n",
       "      <td>U.S. President Joe Biden will unveil a new str...</td>\n",
       "      <td>[presid, joe, biden, unveil, new, strategi, de...</td>\n",
       "    </tr>\n",
       "    <tr>\n",
       "      <th>170</th>\n",
       "      <td>2022-04-22</td>\n",
       "      <td>their only one of the campaign</td>\n",
       "      <td>[one, campaign]</td>\n",
       "    </tr>\n",
       "    <tr>\n",
       "      <th>171</th>\n",
       "      <td>2022-04-22</td>\n",
       "      <td>By Kanishka Singh and David Shepardson\\nWASHIN...</td>\n",
       "      <td>[kanishka, singh, david, shepardson, washingto...</td>\n",
       "    </tr>\n",
       "    <tr>\n",
       "      <th>172</th>\n",
       "      <td>2022-04-22</td>\n",
       "      <td>suddenly in my 50s</td>\n",
       "      <td>[suddenli, 50]</td>\n",
       "    </tr>\n",
       "    <tr>\n",
       "      <th>173</th>\n",
       "      <td>2022-04-22</td>\n",
       "      <td>By Jonathan Allen\\n(Reuters) -South Carolina's...</td>\n",
       "      <td>[jonathan, allen, reuter, south, carolina, sup...</td>\n",
       "    </tr>\n",
       "  </tbody>\n",
       "</table>\n",
       "<p>174 rows × 3 columns</p>\n",
       "</div>"
      ],
      "text/plain": [
       "           date                                        news_others  \\\n",
       "0    2022-04-22  (Bloomberg) -- The U.S. West Coast is importin...   \n",
       "1    2022-04-22  U.S. farmers are off to a slow start in their ...   \n",
       "2    2022-04-22   Exxon Mobil  Corp (NYSE:XOM). estimates there...   \n",
       "3    2022-04-22  from Apple (NASDAQ:AAPL) and Boeing (NYSE:BA) ...   \n",
       "4    2022-04-22  OPEC told the International Monetary Fund's st...   \n",
       "..          ...                                                ...   \n",
       "169  2022-04-22  U.S. President Joe Biden will unveil a new str...   \n",
       "170  2022-04-22                     their only one of the campaign   \n",
       "171  2022-04-22  By Kanishka Singh and David Shepardson\\nWASHIN...   \n",
       "172  2022-04-22                                 suddenly in my 50s   \n",
       "173  2022-04-22  By Jonathan Allen\\n(Reuters) -South Carolina's...   \n",
       "\n",
       "                                          clean_others  \n",
       "0    [bloomberg, west, coast, import, gasolin, near...  \n",
       "1    [farmer, slow, start, corn, plant, year, farme...  \n",
       "2    [exxon, mobil, corp, nyse, xom, estim, trillio...  \n",
       "3    [appl, nasdaq, aapl, boe, nyse, ba, bp, nyse, ...  \n",
       "4    [opec, told, intern, monetari, fund, steer, co...  \n",
       "..                                                 ...  \n",
       "169  [presid, joe, biden, unveil, new, strategi, de...  \n",
       "170                                    [one, campaign]  \n",
       "171  [kanishka, singh, david, shepardson, washingto...  \n",
       "172                                     [suddenli, 50]  \n",
       "173  [jonathan, allen, reuter, south, carolina, sup...  \n",
       "\n",
       "[174 rows x 3 columns]"
      ]
     },
     "execution_count": 29,
     "metadata": {},
     "output_type": "execute_result"
    }
   ],
   "source": [
    "df"
   ]
  },
  {
   "cell_type": "code",
   "execution_count": 120,
   "id": "e3692cb7",
   "metadata": {},
   "outputs": [
    {
     "data": {
      "text/plain": [
       "'C:\\\\Users\\\\bitcamp\\\\Project4\\\\data\\\\investing.com news-20220425T032341Z-001\\\\investing.com news\\\\commodities-news'"
      ]
     },
     "execution_count": 120,
     "metadata": {},
     "output_type": "execute_result"
    }
   ],
   "source": [
    "pwd"
   ]
  },
  {
   "cell_type": "code",
   "execution_count": 128,
   "id": "5f60666a",
   "metadata": {},
   "outputs": [
    {
     "name": "stdout",
     "output_type": "stream",
     "text": [
      "C:\\Users\\bitcamp\\Project4\\best_model\n"
     ]
    }
   ],
   "source": [
    "cd C:/Users/bitcamp/Project4/best_model/"
   ]
  },
  {
   "cell_type": "code",
   "execution_count": 22,
   "id": "fedfa61c",
   "metadata": {},
   "outputs": [],
   "source": [
    "df = df.sort_values('date')"
   ]
  },
  {
   "cell_type": "code",
   "execution_count": 23,
   "id": "ad865875",
   "metadata": {
    "collapsed": true
   },
   "outputs": [
    {
     "data": {
      "text/html": [
       "<div>\n",
       "<style scoped>\n",
       "    .dataframe tbody tr th:only-of-type {\n",
       "        vertical-align: middle;\n",
       "    }\n",
       "\n",
       "    .dataframe tbody tr th {\n",
       "        vertical-align: top;\n",
       "    }\n",
       "\n",
       "    .dataframe thead th {\n",
       "        text-align: right;\n",
       "    }\n",
       "</style>\n",
       "<table border=\"1\" class=\"dataframe\">\n",
       "  <thead>\n",
       "    <tr style=\"text-align: right;\">\n",
       "      <th></th>\n",
       "      <th>date</th>\n",
       "      <th>news_oil</th>\n",
       "    </tr>\n",
       "  </thead>\n",
       "  <tbody>\n",
       "    <tr>\n",
       "      <th>7</th>\n",
       "      <td>&lt;span&gt;Apr 01, 2022 03:31PM ET&lt;/span&gt;</td>\n",
       "      <td>[howard, schneider, dan, burn, reuter, coronav...</td>\n",
       "    </tr>\n",
       "    <tr>\n",
       "      <th>6</th>\n",
       "      <td>&lt;span&gt;Apr 05, 2022 02:01PM ET&lt;/span&gt;</td>\n",
       "      <td>[lucia, mutikani, washington, reuter, servic, ...</td>\n",
       "    </tr>\n",
       "    <tr>\n",
       "      <th>230</th>\n",
       "      <td>&lt;span&gt;Apr 06, 2021 05:00AM ET&lt;/span&gt;</td>\n",
       "      <td>[emma, pinedo, aida, pelaez, fernandez, madrid...</td>\n",
       "    </tr>\n",
       "    <tr>\n",
       "      <th>229</th>\n",
       "      <td>&lt;span&gt;Apr 08, 2021 07:30AM ET&lt;/span&gt;</td>\n",
       "      <td>[david, milliken, london, reuter, british, hou...</td>\n",
       "    </tr>\n",
       "    <tr>\n",
       "      <th>228</th>\n",
       "      <td>&lt;span&gt;Apr 09, 2021 06:55AM ET&lt;/span&gt;</td>\n",
       "      <td>[leika, kihara, tokyo, reuter, number, japan, ...</td>\n",
       "    </tr>\n",
       "    <tr>\n",
       "      <th>...</th>\n",
       "      <td>...</td>\n",
       "      <td>...</td>\n",
       "    </tr>\n",
       "    <tr>\n",
       "      <th>331</th>\n",
       "      <td>&lt;span&gt;Sep 30, 2020 06:15AM ET&lt;/span&gt;</td>\n",
       "      <td>[michael, nienab, berlin, reuter, german, reta...</td>\n",
       "    </tr>\n",
       "    <tr>\n",
       "      <th>110</th>\n",
       "      <td>&lt;span&gt;Sep 30, 2021 01:16PM ET&lt;/span&gt;</td>\n",
       "      <td>[lucia, mutikani, washington, reuter, number, ...</td>\n",
       "    </tr>\n",
       "    <tr>\n",
       "      <th>109</th>\n",
       "      <td>&lt;span&gt;Sep 30, 2021 04:37PM ET&lt;/span&gt;</td>\n",
       "      <td>[reuter, retail, neiman, marcu, group, said, t...</td>\n",
       "    </tr>\n",
       "    <tr>\n",
       "      <th>112</th>\n",
       "      <td>&lt;span&gt;Sep 30, 2021 05:31AM ET&lt;/span&gt;</td>\n",
       "      <td>[hong, kong, reuter, hong, kong, retail, sale,...</td>\n",
       "    </tr>\n",
       "    <tr>\n",
       "      <th>111</th>\n",
       "      <td>&lt;span&gt;Sep 30, 2021 07:31AM ET&lt;/span&gt;</td>\n",
       "      <td>[sao, paulo, reuter, brazilian, state, run, oi...</td>\n",
       "    </tr>\n",
       "  </tbody>\n",
       "</table>\n",
       "<p>352 rows × 2 columns</p>\n",
       "</div>"
      ],
      "text/plain": [
       "                                     date  \\\n",
       "7    <span>Apr 01, 2022 03:31PM ET</span>   \n",
       "6    <span>Apr 05, 2022 02:01PM ET</span>   \n",
       "230  <span>Apr 06, 2021 05:00AM ET</span>   \n",
       "229  <span>Apr 08, 2021 07:30AM ET</span>   \n",
       "228  <span>Apr 09, 2021 06:55AM ET</span>   \n",
       "..                                    ...   \n",
       "331  <span>Sep 30, 2020 06:15AM ET</span>   \n",
       "110  <span>Sep 30, 2021 01:16PM ET</span>   \n",
       "109  <span>Sep 30, 2021 04:37PM ET</span>   \n",
       "112  <span>Sep 30, 2021 05:31AM ET</span>   \n",
       "111  <span>Sep 30, 2021 07:31AM ET</span>   \n",
       "\n",
       "                                              news_oil  \n",
       "7    [howard, schneider, dan, burn, reuter, coronav...  \n",
       "6    [lucia, mutikani, washington, reuter, servic, ...  \n",
       "230  [emma, pinedo, aida, pelaez, fernandez, madrid...  \n",
       "229  [david, milliken, london, reuter, british, hou...  \n",
       "228  [leika, kihara, tokyo, reuter, number, japan, ...  \n",
       "..                                                 ...  \n",
       "331  [michael, nienab, berlin, reuter, german, reta...  \n",
       "110  [lucia, mutikani, washington, reuter, number, ...  \n",
       "109  [reuter, retail, neiman, marcu, group, said, t...  \n",
       "112  [hong, kong, reuter, hong, kong, retail, sale,...  \n",
       "111  [sao, paulo, reuter, brazilian, state, run, oi...  \n",
       "\n",
       "[352 rows x 2 columns]"
      ]
     },
     "execution_count": 23,
     "metadata": {},
     "output_type": "execute_result"
    }
   ],
   "source": [
    "df"
   ]
  },
  {
   "cell_type": "code",
   "execution_count": 97,
   "id": "d3313a60",
   "metadata": {},
   "outputs": [],
   "source": [
    "# 전처리 "
   ]
  },
  {
   "cell_type": "code",
   "execution_count": 30,
   "id": "573ac618",
   "metadata": {},
   "outputs": [],
   "source": [
    "preprocessed_sentences = df['clean_others']"
   ]
  },
  {
   "cell_type": "code",
   "execution_count": 31,
   "id": "cc90c8f1",
   "metadata": {},
   "outputs": [],
   "source": [
    "import pickle\n",
    "import re\n",
    "with open('tokenizer.pickle', 'rb') as handle:\n",
    "    tokenizer = pickle.load(handle)"
   ]
  },
  {
   "cell_type": "code",
   "execution_count": 32,
   "id": "e9773f64",
   "metadata": {},
   "outputs": [],
   "source": [
    "x = tokenizer.texts_to_sequences(preprocessed_sentences)"
   ]
  },
  {
   "cell_type": "code",
   "execution_count": 131,
   "id": "77dcbff3",
   "metadata": {
    "collapsed": true
   },
   "outputs": [
    {
     "name": "stderr",
     "output_type": "stream",
     "text": [
      "IOPub data rate exceeded.\n",
      "The notebook server will temporarily stop sending output\n",
      "to the client in order to avoid crashing it.\n",
      "To change this limit, set the config variable\n",
      "`--NotebookApp.iopub_data_rate_limit`.\n",
      "\n",
      "Current values:\n",
      "NotebookApp.iopub_data_rate_limit=1000000.0 (bytes/sec)\n",
      "NotebookApp.rate_limit_window=3.0 (secs)\n",
      "\n"
     ]
    }
   ],
   "source": [
    "print(x)"
   ]
  },
  {
   "cell_type": "code",
   "execution_count": 34,
   "id": "9af3872c",
   "metadata": {},
   "outputs": [
    {
     "data": {
      "text/plain": [
       "604"
      ]
     },
     "execution_count": 34,
     "metadata": {},
     "output_type": "execute_result"
    }
   ],
   "source": [
    "max_len = max([len(i) for i in df['clean_others']]) \n",
    "max_len"
   ]
  },
  {
   "cell_type": "code",
   "execution_count": 35,
   "id": "cbd5e8f0",
   "metadata": {},
   "outputs": [],
   "source": [
    "x = pad_sequences(x, maxlen=max_len)"
   ]
  },
  {
   "cell_type": "code",
   "execution_count": 70,
   "id": "ed02b8f2",
   "metadata": {},
   "outputs": [],
   "source": [
    "import tensorflow as tf\n",
    "import numpy as np\n",
    "\n",
    "##########모델 로드\n",
    "\n",
    "model = tf.keras.models.load_model('./best_model/best_mode5l.h5')"
   ]
  },
  {
   "cell_type": "code",
   "execution_count": 71,
   "id": "4d145390",
   "metadata": {},
   "outputs": [],
   "source": [
    "y_predict = model.predict(x)"
   ]
  },
  {
   "cell_type": "code",
   "execution_count": 72,
   "id": "be7cf45e",
   "metadata": {},
   "outputs": [
    {
     "data": {
      "text/plain": [
       "array([[9.89150643e-01, 6.78305840e-03, 8.55556573e-04, 1.25571771e-03,\n",
       "        1.95496972e-03],\n",
       "       [1.41774900e-02, 2.25481801e-02, 7.06865907e-01, 2.30162993e-01,\n",
       "        2.62455493e-02],\n",
       "       [7.84067035e-01, 2.23629493e-02, 3.05412784e-02, 1.14449402e-02,\n",
       "        1.51583776e-01],\n",
       "       [7.92556167e-01, 1.93336770e-01, 4.75521665e-03, 4.00201464e-03,\n",
       "        5.34978928e-03],\n",
       "       [8.71373415e-01, 1.01980112e-01, 6.24768529e-03, 1.56076886e-02,\n",
       "        4.79118060e-03],\n",
       "       [1.28283473e-02, 5.63352881e-03, 4.27409541e-03, 6.30445080e-04,\n",
       "        9.76633608e-01],\n",
       "       [2.90972918e-01, 1.09106004e-01, 2.11802587e-01, 2.08881572e-01,\n",
       "        1.79236963e-01],\n",
       "       [9.85243559e-01, 9.81700141e-03, 9.83484671e-04, 2.63881776e-03,\n",
       "        1.31723075e-03],\n",
       "       [7.79812643e-03, 1.52407046e-02, 2.18298696e-02, 9.47781861e-01,\n",
       "        7.34942826e-03],\n",
       "       [9.77126002e-01, 1.06781842e-02, 3.51322792e-03, 3.56390071e-03,\n",
       "        5.11871185e-03],\n",
       "       [6.87134862e-02, 7.06751525e-01, 7.32405558e-02, 5.33508547e-02,\n",
       "        9.79435220e-02],\n",
       "       [9.75601017e-01, 1.19845886e-02, 2.16177315e-03, 3.00749950e-03,\n",
       "        7.24524027e-03],\n",
       "       [9.66905057e-01, 1.42629575e-02, 4.64103092e-03, 8.80963635e-03,\n",
       "        5.38130803e-03],\n",
       "       [3.90275091e-01, 2.06812993e-01, 1.28988773e-01, 1.02805249e-01,\n",
       "        1.71117902e-01],\n",
       "       [9.97661829e-01, 1.78328494e-03, 1.22747020e-04, 1.52784603e-04,\n",
       "        2.79373198e-04],\n",
       "       [9.62856948e-01, 1.38527872e-02, 4.18540044e-03, 7.12707825e-03,\n",
       "        1.19778002e-02],\n",
       "       [7.09947050e-02, 7.89333761e-01, 2.18994189e-02, 1.12042114e-01,\n",
       "        5.73005201e-03],\n",
       "       [1.24975517e-02, 2.28677243e-02, 1.29009765e-02, 9.44886386e-01,\n",
       "        6.84738811e-03],\n",
       "       [4.78842929e-02, 7.63899982e-01, 9.98387858e-03, 1.70499355e-01,\n",
       "        7.73255853e-03],\n",
       "       [1.02843985e-01, 6.38572812e-01, 5.18079065e-02, 5.50987348e-02,\n",
       "        1.51676580e-01],\n",
       "       [3.22539024e-02, 3.88483070e-02, 3.35134387e-01, 5.47606349e-01,\n",
       "        4.61570285e-02],\n",
       "       [1.03127845e-01, 7.02005327e-01, 1.68522093e-02, 1.63028970e-01,\n",
       "        1.49855576e-02],\n",
       "       [7.07506984e-02, 1.85612544e-01, 1.83156282e-01, 4.89838451e-01,\n",
       "        7.06420019e-02],\n",
       "       [2.92280279e-02, 7.44545236e-02, 5.82124814e-02, 8.23345423e-01,\n",
       "        1.47595033e-02],\n",
       "       [2.52166968e-02, 9.13711071e-01, 6.75088540e-03, 5.01207300e-02,\n",
       "        4.20053024e-03],\n",
       "       [2.56579015e-02, 2.82307491e-02, 6.13442481e-01, 8.14154521e-02,\n",
       "        2.51253456e-01],\n",
       "       [2.86123175e-02, 2.79627051e-02, 4.40470934e-01, 4.60483432e-01,\n",
       "        4.24706489e-02],\n",
       "       [2.06923112e-02, 7.80112073e-02, 2.98347268e-02, 8.51406813e-01,\n",
       "        2.00548824e-02],\n",
       "       [4.68390286e-02, 8.43537629e-01, 4.32827184e-03, 1.02222010e-01,\n",
       "        3.07311141e-03],\n",
       "       [1.10511454e-02, 1.61567386e-02, 1.77253317e-02, 9.51012552e-01,\n",
       "        4.05419338e-03],\n",
       "       [6.42602071e-02, 8.59784663e-01, 2.06913929e-02, 1.88000314e-02,\n",
       "        3.64635661e-02],\n",
       "       [7.59567097e-02, 8.40465501e-02, 8.84663612e-02, 7.10935891e-01,\n",
       "        4.05944064e-02],\n",
       "       [1.03496082e-01, 7.36321926e-01, 6.40108362e-02, 6.08520322e-02,\n",
       "        3.53191309e-02],\n",
       "       [2.54730266e-02, 1.61652323e-02, 7.23163128e-01, 2.00801373e-01,\n",
       "        3.43972296e-02],\n",
       "       [1.31431594e-02, 9.11872089e-03, 7.20043659e-01, 2.37474829e-01,\n",
       "        2.02196650e-02],\n",
       "       [3.06737074e-03, 3.69324116e-03, 1.44168846e-02, 9.77112532e-01,\n",
       "        1.70995959e-03],\n",
       "       [1.13393310e-02, 1.75502840e-02, 8.75012577e-03, 9.59831417e-01,\n",
       "        2.52882252e-03],\n",
       "       [2.85927858e-02, 1.05161034e-02, 8.92620385e-01, 2.13444754e-02,\n",
       "        4.69262525e-02],\n",
       "       [3.95118780e-02, 2.76071429e-01, 2.44834453e-01, 1.05257124e-01,\n",
       "        3.34325135e-01],\n",
       "       [8.03672433e-01, 3.00726909e-02, 4.75610308e-02, 3.58228870e-02,\n",
       "        8.28709900e-02],\n",
       "       [4.80400287e-02, 7.23402143e-01, 1.18024712e-02, 2.14292571e-01,\n",
       "        2.46278965e-03],\n",
       "       [5.38487546e-02, 1.89670086e-01, 7.99960420e-02, 6.60213530e-01,\n",
       "        1.62715409e-02],\n",
       "       [8.22812095e-02, 7.84763396e-01, 3.90947722e-02, 8.57318118e-02,\n",
       "        8.12883675e-03],\n",
       "       [1.72291547e-02, 9.33256924e-01, 7.92961661e-03, 3.88007388e-02,\n",
       "        2.78351968e-03],\n",
       "       [7.65161365e-02, 3.71843636e-01, 6.26782551e-02, 4.50751603e-01,\n",
       "        3.82103696e-02],\n",
       "       [8.01698864e-01, 9.59270447e-02, 2.24626865e-02, 4.74040620e-02,\n",
       "        3.25073451e-02],\n",
       "       [6.65861554e-03, 1.27889737e-02, 9.94210690e-03, 9.68718469e-01,\n",
       "        1.89178565e-03],\n",
       "       [9.99266002e-03, 9.06592328e-03, 2.59871073e-02, 9.47875619e-01,\n",
       "        7.07870396e-03],\n",
       "       [1.70587488e-02, 1.21488078e-02, 2.77731773e-02, 9.36606050e-01,\n",
       "        6.41330658e-03],\n",
       "       [1.48256402e-02, 4.33271602e-02, 7.20572829e-01, 1.16444334e-01,\n",
       "        1.04829952e-01],\n",
       "       [3.20294425e-02, 3.76563556e-02, 5.44367075e-01, 3.24571520e-01,\n",
       "        6.13756850e-02],\n",
       "       [6.81455880e-02, 3.42973769e-02, 3.79143715e-01, 4.39715177e-01,\n",
       "        7.86982179e-02],\n",
       "       [1.69133484e-01, 7.95344710e-01, 1.82492763e-03, 3.06411758e-02,\n",
       "        3.05569777e-03],\n",
       "       [6.88633174e-02, 6.29420698e-01, 7.98101574e-02, 1.10701419e-01,\n",
       "        1.11204430e-01],\n",
       "       [9.42760613e-03, 2.47537214e-02, 2.76878700e-02, 9.34050322e-01,\n",
       "        4.08038450e-03],\n",
       "       [6.21496839e-03, 3.53052914e-02, 1.72199626e-02, 9.37674522e-01,\n",
       "        3.58516327e-03],\n",
       "       [9.75590479e-03, 1.07717728e-02, 8.45337749e-01, 1.12960353e-01,\n",
       "        2.11742874e-02],\n",
       "       [3.68747532e-01, 2.09850997e-01, 5.24315611e-02, 2.69998908e-01,\n",
       "        9.89710391e-02],\n",
       "       [2.13598460e-02, 1.04830582e-02, 7.47479722e-02, 8.87867928e-01,\n",
       "        5.54116536e-03],\n",
       "       [2.31869449e-03, 7.23838247e-03, 3.03705549e-03, 5.40100911e-04,\n",
       "        9.86865819e-01],\n",
       "       [3.27637680e-02, 2.34124556e-01, 1.24667846e-01, 5.82646012e-01,\n",
       "        2.57978328e-02],\n",
       "       [1.26313642e-01, 8.07777226e-01, 1.69928521e-02, 1.41458614e-02,\n",
       "        3.47705185e-02],\n",
       "       [7.74095068e-03, 3.81491631e-02, 1.75694022e-02, 9.33707535e-01,\n",
       "        2.83284974e-03],\n",
       "       [5.54612614e-02, 7.47149408e-01, 3.06372792e-02, 1.50590301e-01,\n",
       "        1.61617715e-02],\n",
       "       [9.47000310e-02, 6.87876463e-01, 1.64061058e-02, 1.94805980e-01,\n",
       "        6.21139724e-03],\n",
       "       [1.19433165e-01, 6.46005750e-01, 4.30484973e-02, 1.05734862e-01,\n",
       "        8.57777745e-02],\n",
       "       [1.60862580e-01, 3.46346349e-01, 4.33061495e-02, 4.27402079e-01,\n",
       "        2.20829118e-02],\n",
       "       [1.14719331e-01, 2.34804481e-01, 3.71929221e-02, 6.02804720e-01,\n",
       "        1.04785515e-02],\n",
       "       [6.14414923e-03, 3.87411658e-03, 9.24717069e-01, 4.28128205e-02,\n",
       "        2.24518757e-02],\n",
       "       [1.26564249e-01, 3.18676561e-01, 7.53352046e-02, 4.38698828e-02,\n",
       "        4.35554057e-01],\n",
       "       [1.41889334e-01, 2.15181872e-01, 1.16586685e-01, 4.53155935e-01,\n",
       "        7.31860697e-02],\n",
       "       [4.95876409e-02, 3.08749884e-01, 6.10410683e-02, 5.34818232e-01,\n",
       "        4.58031930e-02],\n",
       "       [9.25574079e-03, 3.96184511e-02, 7.04598753e-03, 9.42753971e-01,\n",
       "        1.32585899e-03],\n",
       "       [4.51289028e-01, 4.85982090e-01, 1.11780250e-02, 2.65043192e-02,\n",
       "        2.50465423e-02],\n",
       "       [2.92612612e-03, 6.58079563e-03, 6.17288565e-03, 9.83440280e-01,\n",
       "        8.79893370e-04],\n",
       "       [2.41068341e-02, 1.60888005e-02, 2.27560475e-01, 7.18199670e-01,\n",
       "        1.40441991e-02],\n",
       "       [2.42683098e-01, 2.45130077e-01, 6.76556900e-02, 4.19522345e-01,\n",
       "        2.50087399e-02],\n",
       "       [2.96978056e-02, 8.67278814e-01, 3.43439952e-02, 5.17998934e-02,\n",
       "        1.68794785e-02],\n",
       "       [4.51309413e-01, 4.85940665e-01, 1.11805070e-02, 2.65148152e-02,\n",
       "        2.50546262e-02],\n",
       "       [4.88144122e-02, 5.90684749e-02, 3.05725515e-01, 5.50696611e-01,\n",
       "        3.56949493e-02],\n",
       "       [1.92277059e-02, 1.25048637e-01, 2.26857122e-02, 5.01266122e-03,\n",
       "        8.28025281e-01],\n",
       "       [5.13353832e-02, 6.19604178e-02, 4.43117052e-01, 3.82383078e-01,\n",
       "        6.12040125e-02],\n",
       "       [9.14199412e-01, 2.23187786e-02, 9.73616354e-03, 9.10202879e-03,\n",
       "        4.46437113e-02],\n",
       "       [6.14017947e-03, 1.31633049e-02, 1.76466536e-02, 9.58661914e-01,\n",
       "        4.38793562e-03],\n",
       "       [2.13449225e-01, 9.62687284e-02, 3.64375599e-02, 6.39524519e-01,\n",
       "        1.43199917e-02],\n",
       "       [3.78163196e-02, 3.61926146e-02, 6.52926266e-01, 2.17994392e-01,\n",
       "        5.50704487e-02],\n",
       "       [2.16216352e-02, 1.10518411e-01, 1.81134865e-02, 8.47225547e-01,\n",
       "        2.52099894e-03],\n",
       "       [1.72783551e-03, 5.93279675e-03, 2.24589929e-03, 2.18817600e-04,\n",
       "        9.89874721e-01],\n",
       "       [4.48986024e-01, 2.91949362e-01, 7.29202330e-02, 4.56199199e-02,\n",
       "        1.40524447e-01],\n",
       "       [2.62980387e-02, 6.92532718e-01, 4.49503660e-02, 2.24997073e-01,\n",
       "        1.12217637e-02],\n",
       "       [1.47799149e-01, 4.77349237e-02, 1.62354767e-01, 5.92346370e-01,\n",
       "        4.97647747e-02],\n",
       "       [1.15047336e-01, 4.93542343e-01, 3.28020155e-02, 3.40589017e-01,\n",
       "        1.80193316e-02],\n",
       "       [1.41094178e-02, 1.57489311e-02, 7.48128414e-01, 1.43252239e-01,\n",
       "        7.87609890e-02],\n",
       "       [5.06171957e-02, 7.00524926e-01, 1.81567464e-02, 2.24937901e-01,\n",
       "        5.76321268e-03],\n",
       "       [5.45181632e-01, 1.48256376e-01, 7.73120224e-02, 9.42588821e-02,\n",
       "        1.34991124e-01],\n",
       "       [2.89032981e-02, 3.36487770e-01, 2.55402233e-02, 5.96361041e-01,\n",
       "        1.27077186e-02],\n",
       "       [9.87102807e-01, 7.70971086e-03, 1.10606104e-03, 2.67894426e-03,\n",
       "        1.40243350e-03],\n",
       "       [3.45651135e-02, 9.21376705e-01, 1.00681316e-02, 2.86254343e-02,\n",
       "        5.36456704e-03],\n",
       "       [2.83353664e-02, 2.36302987e-02, 7.56323114e-02, 8.56582284e-01,\n",
       "        1.58196371e-02],\n",
       "       [5.77012539e-01, 3.23406547e-01, 9.50982701e-03, 7.73295760e-02,\n",
       "        1.27415080e-02],\n",
       "       [5.98874927e-01, 3.34253818e-01, 1.70963276e-02, 2.92460956e-02,\n",
       "        2.05288716e-02],\n",
       "       [1.30870387e-01, 7.14642525e-01, 2.51131579e-02, 1.17987975e-01,\n",
       "        1.13859922e-02],\n",
       "       [7.76975474e-04, 7.02029606e-03, 1.31957408e-03, 1.55218091e-04,\n",
       "        9.90727901e-01],\n",
       "       [4.77347411e-02, 1.93940401e-01, 2.34486774e-01, 4.92438793e-01,\n",
       "        3.13993320e-02],\n",
       "       [7.19932467e-02, 5.99688888e-01, 4.07493711e-02, 2.74867475e-01,\n",
       "        1.27009656e-02],\n",
       "       [5.76920584e-02, 6.42880499e-01, 1.62655506e-02, 2.74725676e-01,\n",
       "        8.43620300e-03],\n",
       "       [1.01453871e-01, 1.87457368e-01, 1.41410574e-01, 5.34106016e-01,\n",
       "        3.55722122e-02],\n",
       "       [1.64071739e-01, 8.27309936e-02, 2.82062054e-01, 3.05161476e-01,\n",
       "        1.65973693e-01],\n",
       "       [5.20108780e-03, 3.41390222e-02, 6.83024945e-03, 9.52077687e-01,\n",
       "        1.75194151e-03],\n",
       "       [3.45633328e-02, 3.64959180e-01, 8.64415020e-02, 4.87059146e-01,\n",
       "        2.69769281e-02],\n",
       "       [5.45409089e-03, 7.12468149e-03, 2.06955764e-02, 9.63723958e-01,\n",
       "        3.00168176e-03],\n",
       "       [2.18353674e-01, 3.03912818e-01, 1.06096968e-01, 3.38132709e-01,\n",
       "        3.35038528e-02],\n",
       "       [7.67259719e-03, 4.01609531e-03, 8.66903543e-01, 1.05668448e-01,\n",
       "        1.57392658e-02],\n",
       "       [1.76085215e-02, 9.23237085e-01, 1.18870549e-02, 4.23438177e-02,\n",
       "        4.92352201e-03],\n",
       "       [2.21301597e-02, 1.78320911e-02, 7.18866289e-02, 8.77852917e-01,\n",
       "        1.02982102e-02],\n",
       "       [1.32577673e-01, 4.92168874e-01, 3.75822932e-02, 3.25337052e-01,\n",
       "        1.23341307e-02],\n",
       "       [1.99569184e-02, 1.38395820e-02, 2.67674625e-01, 6.81225061e-01,\n",
       "        1.73038524e-02],\n",
       "       [7.96652660e-02, 4.77651328e-01, 1.83402039e-02, 9.77585372e-03,\n",
       "        4.14567322e-01],\n",
       "       [1.28353899e-02, 6.57423958e-03, 8.11688721e-01, 1.45126298e-01,\n",
       "        2.37752832e-02],\n",
       "       [3.70987542e-02, 8.13297778e-02, 2.81435195e-02, 8.44956815e-01,\n",
       "        8.47116299e-03],\n",
       "       [8.92731547e-01, 9.19031072e-03, 4.51834016e-02, 1.78652760e-02,\n",
       "        3.50294858e-02],\n",
       "       [2.93031521e-02, 3.48208956e-02, 5.19069493e-01, 3.68844569e-01,\n",
       "        4.79618534e-02],\n",
       "       [9.17497277e-01, 3.70323472e-02, 5.18297963e-03, 3.62200662e-02,\n",
       "        4.06728266e-03],\n",
       "       [5.05554937e-02, 6.93186224e-01, 8.11829716e-02, 9.69170332e-02,\n",
       "        7.81583115e-02],\n",
       "       [8.50425661e-02, 2.86181986e-01, 1.94543712e-02, 6.04089081e-01,\n",
       "        5.23195462e-03],\n",
       "       [4.44016010e-02, 1.10339850e-01, 6.03081472e-02, 7.40494788e-01,\n",
       "        4.44556288e-02],\n",
       "       [1.73389018e-02, 1.02283712e-02, 5.20321369e-01, 4.30456400e-01,\n",
       "        2.16549337e-02],\n",
       "       [5.08869663e-02, 5.28709710e-01, 4.10049036e-02, 3.45543921e-01,\n",
       "        3.38545591e-02],\n",
       "       [2.61074137e-02, 1.29767591e-02, 6.91685081e-01, 2.42865264e-01,\n",
       "        2.63654888e-02],\n",
       "       [7.84688219e-02, 1.04157731e-01, 2.40509599e-01, 5.48607409e-01,\n",
       "        2.82564964e-02],\n",
       "       [9.91440751e-03, 8.33233353e-03, 1.42043293e-01, 8.31416547e-01,\n",
       "        8.29340890e-03],\n",
       "       [5.98131120e-02, 3.69492099e-02, 2.13854507e-01, 6.69200063e-01,\n",
       "        2.01831292e-02],\n",
       "       [6.60558641e-01, 1.37191057e-01, 5.39912470e-02, 7.58797452e-02,\n",
       "        7.23793060e-02],\n",
       "       [1.00339532e-01, 7.47204006e-01, 3.10921595e-02, 3.16403881e-02,\n",
       "        8.97240117e-02],\n",
       "       [7.21549764e-02, 6.83593571e-01, 1.16191618e-01, 6.74888119e-02,\n",
       "        6.05710931e-02],\n",
       "       [2.61368454e-02, 9.78007019e-02, 4.25801873e-02, 7.63171539e-03,\n",
       "        8.25850487e-01],\n",
       "       [8.52514505e-02, 4.46496099e-01, 2.09764138e-01, 1.00057051e-01,\n",
       "        1.58431277e-01],\n",
       "       [2.97067404e-01, 1.67160049e-01, 1.40584573e-01, 1.94637224e-01,\n",
       "        2.00550810e-01],\n",
       "       [1.49935797e-01, 1.38817683e-01, 5.23029529e-02, 6.33696795e-01,\n",
       "        2.52467468e-02],\n",
       "       [1.83649927e-01, 1.55730724e-01, 3.19777466e-02, 6.13017738e-01,\n",
       "        1.56238852e-02],\n",
       "       [9.27321054e-03, 4.21809778e-02, 9.19723324e-03, 9.34763491e-01,\n",
       "        4.58516413e-03],\n",
       "       [3.51528116e-02, 2.40760017e-02, 5.53987086e-01, 3.42233717e-01,\n",
       "        4.45504002e-02],\n",
       "       [2.05142447e-03, 9.38836206e-03, 4.25873091e-03, 6.98960153e-04,\n",
       "        9.83602524e-01],\n",
       "       [1.29703343e-01, 8.10763836e-02, 4.63905483e-01, 2.60857403e-01,\n",
       "        6.44574240e-02],\n",
       "       [5.07300831e-02, 8.05712402e-01, 3.42300907e-02, 8.48429427e-02,\n",
       "        2.44844873e-02],\n",
       "       [8.37924331e-02, 8.53151023e-01, 1.66230053e-02, 3.03480495e-02,\n",
       "        1.60855595e-02],\n",
       "       [5.19441674e-03, 1.41902072e-02, 9.97178629e-03, 9.68466818e-01,\n",
       "        2.17667525e-03],\n",
       "       [3.59915122e-02, 4.19713378e-01, 2.08402649e-01, 2.81846106e-01,\n",
       "        5.40463887e-02],\n",
       "       [4.95821945e-02, 8.28332305e-01, 1.36838900e-02, 1.00595467e-01,\n",
       "        7.80614186e-03],\n",
       "       [2.08569139e-01, 6.70347273e-01, 4.98162434e-02, 3.27026919e-02,\n",
       "        3.85646299e-02],\n",
       "       [1.23046868e-01, 4.40983661e-02, 1.91099793e-01, 6.00533009e-01,\n",
       "        4.12219912e-02],\n",
       "       [4.48785536e-02, 2.19007567e-01, 2.52437741e-01, 3.59475434e-01,\n",
       "        1.24200627e-01],\n",
       "       [7.47698247e-02, 7.22927749e-02, 1.11452222e-01, 6.82721794e-01,\n",
       "        5.87634370e-02],\n",
       "       [6.95791021e-02, 7.88714886e-01, 4.59021442e-02, 6.97168410e-02,\n",
       "        2.60870829e-02],\n",
       "       [8.27973883e-04, 6.04365661e-04, 9.83235896e-01, 1.26726888e-02,\n",
       "        2.65901256e-03],\n",
       "       [9.48815942e-01, 3.78003903e-02, 2.50215945e-03, 6.99232100e-03,\n",
       "        3.88916372e-03],\n",
       "       [1.65644300e-03, 1.35460019e-03, 9.78940904e-01, 6.99226558e-03,\n",
       "        1.10558141e-02],\n",
       "       [9.27745625e-02, 1.00155592e-01, 2.56133676e-01, 3.55200559e-01,\n",
       "        1.95735663e-01],\n",
       "       [6.26116917e-02, 5.27916551e-01, 3.25054191e-02, 3.58691692e-01,\n",
       "        1.82746667e-02],\n",
       "       [7.33461529e-02, 1.34208426e-01, 3.36675316e-01, 6.59635663e-02,\n",
       "        3.89806569e-01],\n",
       "       [2.07846910e-02, 3.24991234e-02, 7.56054401e-01, 1.55579612e-01,\n",
       "        3.50821167e-02],\n",
       "       [1.91493277e-02, 9.30256367e-01, 8.94940831e-03, 3.72671746e-02,\n",
       "        4.37771389e-03],\n",
       "       [5.59897535e-02, 1.63288966e-01, 1.92235023e-01, 5.30958176e-01,\n",
       "        5.75280748e-02],\n",
       "       [1.01354860e-01, 2.40528360e-01, 1.15186095e-01, 7.41318762e-02,\n",
       "        4.68798757e-01],\n",
       "       [9.19649228e-02, 2.58215368e-02, 6.40644908e-01, 1.17372312e-01,\n",
       "        1.24196313e-01],\n",
       "       [8.62730492e-04, 6.36985293e-03, 3.52543592e-03, 3.94863397e-04,\n",
       "        9.88847136e-01],\n",
       "       [2.17050631e-02, 2.24673189e-02, 5.23123205e-01, 2.86579859e-02,\n",
       "        4.04046446e-01],\n",
       "       [5.54557964e-02, 8.14764649e-02, 3.44339937e-01, 3.63924861e-01,\n",
       "        1.54802948e-01],\n",
       "       [2.67867018e-02, 2.00008899e-02, 8.64535511e-01, 3.59554999e-02,\n",
       "        5.27214147e-02],\n",
       "       [2.53945030e-02, 2.81644296e-02, 2.43563235e-01, 6.71512961e-01,\n",
       "        3.13648432e-02],\n",
       "       [1.25427783e-01, 6.47852957e-01, 9.71029773e-02, 6.08868562e-02,\n",
       "        6.87294528e-02],\n",
       "       [3.08881909e-01, 1.67855874e-01, 1.00132853e-01, 3.45134318e-01,\n",
       "        7.79950395e-02],\n",
       "       [9.37934443e-02, 7.58652687e-01, 5.72990216e-02, 7.09588528e-02,\n",
       "        1.92959215e-02],\n",
       "       [3.22816451e-03, 1.72437206e-02, 9.36656632e-03, 1.35779905e-03,\n",
       "        9.68803704e-01]], dtype=float32)"
      ]
     },
     "execution_count": 72,
     "metadata": {},
     "output_type": "execute_result"
    }
   ],
   "source": [
    "y_predict"
   ]
  },
  {
   "cell_type": "code",
   "execution_count": 68,
   "id": "6c453dbe",
   "metadata": {},
   "outputs": [
    {
     "ename": "AttributeError",
     "evalue": "'function' object has no attribute 'evaluate'",
     "output_type": "error",
     "traceback": [
      "\u001b[1;31m---------------------------------------------------------------------------\u001b[0m",
      "\u001b[1;31mAttributeError\u001b[0m                            Traceback (most recent call last)",
      "\u001b[1;32m~\\AppData\\Local\\Temp/ipykernel_20336/1724586317.py\u001b[0m in \u001b[0;36m<module>\u001b[1;34m\u001b[0m\n\u001b[0;32m      1\u001b[0m \u001b[1;31m# model evaluation\u001b[0m\u001b[1;33m\u001b[0m\u001b[1;33m\u001b[0m\u001b[0m\n\u001b[1;32m----> 2\u001b[1;33m \u001b[0mscore\u001b[0m \u001b[1;33m=\u001b[0m \u001b[0mload_model\u001b[0m\u001b[1;33m.\u001b[0m\u001b[0mevaluate\u001b[0m\u001b[1;33m(\u001b[0m\u001b[0mX\u001b[0m\u001b[1;33m,\u001b[0m\u001b[0mY\u001b[0m\u001b[1;33m,\u001b[0m\u001b[0mverbose\u001b[0m\u001b[1;33m=\u001b[0m\u001b[1;36m0\u001b[0m\u001b[1;33m)\u001b[0m\u001b[1;33m\u001b[0m\u001b[1;33m\u001b[0m\u001b[0m\n\u001b[0m\u001b[0;32m      3\u001b[0m \u001b[1;33m\u001b[0m\u001b[0m\n\u001b[0;32m      4\u001b[0m \u001b[0mprint\u001b[0m\u001b[1;33m(\u001b[0m\u001b[1;34m\"%s : %.2f%%\"\u001b[0m \u001b[1;33m%\u001b[0m \u001b[1;33m(\u001b[0m\u001b[0mloaded_model\u001b[0m\u001b[1;33m.\u001b[0m\u001b[0mmetrics_names\u001b[0m\u001b[1;33m[\u001b[0m\u001b[1;36m1\u001b[0m\u001b[1;33m]\u001b[0m\u001b[1;33m,\u001b[0m \u001b[0mscore\u001b[0m\u001b[1;33m[\u001b[0m\u001b[1;36m1\u001b[0m\u001b[1;33m]\u001b[0m\u001b[1;33m*\u001b[0m\u001b[1;36m100\u001b[0m\u001b[1;33m)\u001b[0m\u001b[1;33m)\u001b[0m\u001b[1;33m\u001b[0m\u001b[1;33m\u001b[0m\u001b[0m\n\u001b[0;32m      5\u001b[0m \u001b[1;33m\u001b[0m\u001b[0m\n",
      "\u001b[1;31mAttributeError\u001b[0m: 'function' object has no attribute 'evaluate'"
     ]
    }
   ],
   "source": [
    "from keras import models \n",
    "model = models.load_model(model_path, custom_objects= {'f1_score': f1_score})"
   ]
  },
  {
   "cell_type": "code",
   "execution_count": 60,
   "id": "07ac0c45",
   "metadata": {},
   "outputs": [],
   "source": [
    "predict_lis = []\n",
    "for i in range(len(y_predict)):\n",
    "    predict_lis.append(np.argmax(y_predict[i]))"
   ]
  },
  {
   "cell_type": "code",
   "execution_count": 41,
   "id": "ea519ff3",
   "metadata": {
    "scrolled": false
   },
   "outputs": [
    {
     "name": "stdout",
     "output_type": "stream",
     "text": [
      "Counter({3: 64, 1: 46, 0: 26, 2: 25, 4: 13})\n",
      "가장 많이 예측한 라벨은?:  3\n"
     ]
    }
   ],
   "source": [
    "import collections\n",
    "# apple3개, banana2개, cherry는 4개\n",
    "# list = ['apple', 'apple', 'apple', 'banana', 'banana',\n",
    "# 'cherry', 'cherry', 'cherry', 'cherry']\n",
    "# 빈도수를 세려면?\n",
    "counts = collections.Counter(리스)\n",
    "print(counts)\n",
    "# 가장 흔하게 등장하는 단어의 첫번째 값을 most_common(1)로 추출\n",
    "# most_common(1) => [('cherry',4)] _리스트\n",
    "# most_common(1)[0] => ('cherry', 4) _ 튜플\n",
    "# most_common(1)[0][0] => cherry _ 튜플에서 첫번째 추출\n",
    "print('가장 많이 예측한 라벨은?: ', counts.most_common(1)[0][0])\n"
   ]
  },
  {
   "cell_type": "code",
   "execution_count": 61,
   "id": "766968bd",
   "metadata": {
    "scrolled": true
   },
   "outputs": [
    {
     "name": "stdout",
     "output_type": "stream",
     "text": [
      "[0, 2, 0, 0, 0, 4, 0, 0, 3, 0, 1, 0, 0, 0, 0, 0, 1, 3, 1, 1]\n"
     ]
    }
   ],
   "source": [
    "print(predict_lis[:20])"
   ]
  },
  {
   "cell_type": "code",
   "execution_count": null,
   "id": "c8c6a254",
   "metadata": {},
   "outputs": [],
   "source": [
    "# 0 = oil \n",
    "# 1 = semi \n",
    "# 2 = ship \n",
    "# 3 = steel\n",
    "# 4 = vehicle \n"
   ]
  },
  {
   "cell_type": "code",
   "execution_count": 49,
   "id": "720a5766",
   "metadata": {},
   "outputs": [
    {
     "data": {
      "text/plain": [
       "'(Bloomberg) -- The U.S. West Coast is importing gasoline at a near-record pace this month to help ease supply constraints amid eye-popping pump prices just ahead of the peak summer driving season.\\nAround 120,000 barrels a day of gasoline and blending components are expected to reach the U.S. West Coast in April, including 95,000 barrels a day that have already arrived, marking the second-highest monthly level since oil analytics firm Vortexa began tracking the data in January 2016. The region imported 150,000 barrels a day in May 2019.\\nThese imports underscore the need to replenish supply ahead of what’s shaping up to be a tight summer for gasoline. A heavy maintenance season that’s just now winding down left West Coast refinery rates at 84% last week. That has put additional pressure on drivers, with Californians paying more than anywhere else in the U.S. for gasoline.\\n Chevron  Corp. (NYSE:CVX) is due to carry out major maintenance in June at its Richmond, California refinery, one of the West Coast’s largest, after a labor strike delayed the original schedule in April. This will tighten gasoline supplies during peak demand months. Meanwhile, signs that high fuel prices may have deterred some drivers in March have now evaporated with implied U.S. gasoline demand reverting to the seasonal rising norm, pushing inventories below the five-year average for this time of year nationally and on the West Coast.\\nThe jump in imports is driven by increased volumes from Asia, which accounted for about 60% of the monthly volume. Indian refineries have been operating at above 100% capacity in order to capture high export margins, while China is ramping up fuel exports as a Covid-19 resurgence weighs on local demand.\\nPump prices in California are still hovering near record levels, while the rest of the country saw a reprieve earlier this month. Californians are now paying an average of $5.689 a gallon for gasoline, 4% lower than the peak of $5.919 a gallon reached on March 29, according to auto club AAA. Meanwhile, national pump prices are heading higher once again at $4.12 a gallon.\\n©2022 Bloomberg L.P.\\n\\xa0'"
      ]
     },
     "execution_count": 49,
     "metadata": {},
     "output_type": "execute_result"
    }
   ],
   "source": [
    "df['news_others'][0]"
   ]
  },
  {
   "cell_type": "code",
   "execution_count": 48,
   "id": "88cf9c55",
   "metadata": {
    "scrolled": true
   },
   "outputs": [
    {
     "name": "stdout",
     "output_type": "stream",
     "text": [
      "Counter({'gasolin': 7, 'west': 5, 'coast': 5, 'import': 4, 'price': 4, 'month': 3, 'suppli': 3, 'pump': 3, 'peak': 3, 'season': 3, '000': 3, 'barrel': 3, 'day': 3, 'refineri': 3, 'demand': 3, 'gallon': 3, 'bloomberg': 2, 'near': 2, 'record': 2, 'ahead': 2, 'summer': 2, 'reach': 2, 'april': 2, 'monthli': 2, 'level': 2, 'may': 2, 'mainten': 2, 'driver': 2, 'californian': 2, 'pay': 2, 'california': 2, 'meanwhil': 2, 'high': 2, 'fuel': 2, 'march': 2, 'year': 2, 'averag': 2, 'nation': 2, 'volum': 2, 'export': 2, 'pace': 1, 'help': 1, 'eas': 1, 'constraint': 1, 'amid': 1, 'eye': 1, 'pop': 1, 'drive': 1, 'around': 1, '120': 1, 'blend': 1, 'compon': 1, 'expect': 1, 'includ': 1, '95': 1, 'alreadi': 1, 'arriv': 1, 'mark': 1, 'second': 1, 'highest': 1, 'sinc': 1, 'oil': 1, 'analyt': 1, 'firm': 1, 'vortexa': 1, 'began': 1, 'track': 1, 'data': 1, 'januari': 1, '2016': 1, 'region': 1, '150': 1, '2019': 1, 'underscor': 1, 'need': 1, 'replenish': 1, 'shape': 1, 'tight': 1, 'heavi': 1, 'wind': 1, 'left': 1, 'rate': 1, '84': 1, 'last': 1, 'week': 1, 'put': 1, 'addit': 1, 'pressur': 1, 'anywher': 1, 'els': 1, 'chevron': 1, 'corp': 1, 'nyse': 1, 'cvx': 1, 'due': 1, 'carri': 1, 'major': 1, 'june': 1, 'richmond': 1, 'one': 1, 'largest': 1, 'labor': 1, 'strike': 1, 'delay': 1, 'origin': 1, 'schedul': 1, 'tighten': 1, 'sign': 1, 'deter': 1, 'evapor': 1, 'impli': 1, 'revert': 1, 'rise': 1, 'norm': 1, 'push': 1, 'inventori': 1, 'five': 1, 'time': 1, 'jump': 1, 'driven': 1, 'increas': 1, 'asia': 1, 'account': 1, '60': 1, 'indian': 1, 'oper': 1, '100': 1, 'capac': 1, 'order': 1, 'captur': 1, 'margin': 1, 'china': 1, 'ramp': 1, 'covid': 1, '19': 1, 'resurg': 1, 'weigh': 1, 'local': 1, 'still': 1, 'hover': 1, 'rest': 1, 'countri': 1, 'saw': 1, 'repriev': 1, 'earlier': 1, '689': 1, 'lower': 1, '919': 1, '29': 1, 'accord': 1, 'auto': 1, 'club': 1, 'aaa': 1, 'head': 1, 'higher': 1, '12': 1, '2022': 1})\n"
     ]
    }
   ],
   "source": [
    "print(collections.Counter(df['clean_others'][0])) #ship"
   ]
  },
  {
   "cell_type": "code",
   "execution_count": 58,
   "id": "d45430d5",
   "metadata": {},
   "outputs": [
    {
     "data": {
      "text/plain": [
       "'By Lucy Craymer\\nWELLINGTON (Reuters) -New Zealand\\'s consumer prices rose at the fastest pace in three decades last quarter, underlining the need for the central bank to stay on its hawkish course to contain price pressures without tipping the economy into recession.\\nThe New Zealand dollar slipped after the data showed inflation was not quite as hot as feared though, slightly softening expectations the central bank would again hike rates by 50 basis points in May.\\nAnnual inflation rose 6.9% in the first quarter from 5.9% in the fourth quarter, the fastest since a 7.6% clip in the June quarter of 1990, Statistics New Zealand said in a statement on Thursday\\nCPI rose 1.8% in the quarter ending March from a 1.4% rise in the fourth quarter. But the data was below economists’ expectations in a Reuters poll that forecast a 2.0% rise for the quarter, and an annual rise of 7.1%.\\nThe Reserve Bank of New Zealand (RBNZ) raised interest rates by a hefty 50 basis points to 1.50% last Wednesday, its fourth increase in a row. It has signalled that further hikes will be needed if it wants to get ahead of inflation.\\nBROAD BASED PRICE RISES\\nInflation pressures were broad based with domestic price pressures continuing to intensify. Statistics New Zealand data showed rising prices for food, petrol, construction and housing.\\n\"This domestic inflation is the kind that doesn\\'t go away quickly,\" ANZ Bank economists said in a research note. \"This continued rise in domestic inflation pressures only reinforces the need for ongoing interest rate rises by the RBNZ.\"\\nANZ believes higher interest rates will squeeze indebted households this year and engineering a soft landing for the overheated economy could be challenging, especially with the housing market already softening.\\nThe kiwi dollar eased 0.4% to $0.6772, from $0.6804 just before the data hit dealing screens. Two-year swap rates dipped as much as six basis points to 3.52%.\\n\\nWith global inflation expected to stay elevated for some time, and prices of commodities and goods affected by supply issues, economists expect RBNZ to hike interest rates again. \\n\"Uncertainty is high but we could still see a 7% annual inflation print delivered in Q2 of this year,\" ASB Bank economists wrote in a note. It added the bigger issue for them was not when inflation would peak, but how persistent it was. \\n \\n'"
      ]
     },
     "execution_count": 58,
     "metadata": {},
     "output_type": "execute_result"
    }
   ],
   "source": [
    "df['news_others'][17]"
   ]
  },
  {
   "cell_type": "code",
   "execution_count": 62,
   "id": "38784f72",
   "metadata": {},
   "outputs": [
    {
     "name": "stdout",
     "output_type": "stream",
     "text": [
      "Counter({'farmer': 7, 'corn': 7, 'year': 6, 'crop': 4, 'plant': 3, 'forecast': 3, 'ukrain': 3, 'grain': 3, 'product': 3, 'said': 3, 'weather': 3, 'seed': 3, 'start': 2, 'key': 2, 'area': 2, 'next': 2, 'week': 2, 'temperatur': 2, 'southern': 2, 'midwest': 2, 'need': 2, 'left': 2, 'russia': 2, 'invas': 2, 'export': 2, '2022': 2, 'import': 2, 'produc': 2, 'agricultur': 2, 'north': 2, 'perfect': 2, '17': 2, 'world': 2, 'million': 2, 'tonn': 2, 'streit': 2, 'slow': 1, 'mani': 1, 'grow': 1, 'like': 1, 'remain': 1, 'sidelin': 1, 'much': 1, 'two': 1, 'latest': 1, 'show': 1, 'shower': 1, 'cool': 1, 'mississippi': 1, 'river': 1, 'delta': 1, 'big': 1, 'help': 1, 'fill': 1, 'gap': 1, 'suppli': 1, 'stock': 1, 'last': 1, 'strand': 1, 'countri': 1, 'threaten': 1, 'curtail': 1, 'unabl': 1, 'due': 1, 'fight': 1, 'incred': 1, 'maximum': 1, 'keep': 1, 'price': 1, 'stabl': 1, 'sterl': 1, 'smith': 1, 'director': 1, 'research': 1, 'agrisompo': 1, 'america': 1, 'go': 1, 'right': 1, 'chicago': 1, 'board': 1, 'trade': 1, 'futur': 1, 'surg': 1, 'sinc': 1, 'activ': 1, 'contract': 1, 'near': 1, '10': 1, 'high': 1, 'scrambl': 1, 'find': 1, 'altern': 1, 'supplier': 1, 'port': 1, 'shut': 1, 'intern': 1, 'council': 1, 'cut': 1, '23': 1, '13': 1, '197': 1, 'billion': 1, 'thursday': 1, 'fifth': 1, 'biggest': 1, 'harvest': 1, '41': 1, '2021': 1, 'depart': 1, 'april': 1, 'percentag': 1, 'point': 1, 'earlier': 1, 'five': 1, 'averag': 1, 'major': 1, 'state': 1, 'iowa': 1, 'illinoi': 1, 'indiana': 1, 'dakota': 1, 'yet': 1, 'us': 1, 'cor': 1, 'spring': 1, 'troubl': 1, 'get': 1, 'david': 1, 'commod': 1, 'group': 1, 'meteorologist': 1, 'rain': 1, 'weekend': 1, 'typic': 1, 'run': 1, 'planter': 1, 'cold': 1, 'return': 1, 'follow': 1, 'brief': 1, 'warm': 1, 'ad': 1, 'aim': 1, 'finish': 1, 'middl': 1, 'may': 1, 'yield': 1, 'potenti': 1, 'reduc': 1, 'bushel': 1, 'per': 1, 'acr': 1, 'day': 1, 'past': 1, 'deadlin': 1})\n"
     ]
    }
   ],
   "source": [
    "print(collections.Counter(df['clean_others'][1])) #semi "
   ]
  },
  {
   "cell_type": "code",
   "execution_count": 63,
   "id": "b8731497",
   "metadata": {
    "scrolled": true
   },
   "outputs": [
    {
     "data": {
      "text/plain": [
       "'U.S. farmers are off to a slow start in their corn planting this year and farmers in many key growing areas will likely remain sidelined for much of the next two weeks as the latest forecasts show showers and cool temperatures in the southern Midwest and Mississippi River Delta.\\nA big U.S. crop is needed this year to help fill the gap in supply left by Russia\\'s invasion of Ukraine, which has left grain stocks from last year stranded in that key export country and threatens to curtail production in 2022 as farmers there are unable to plant due to the fighting.\\n\"It is incredibly important that we produce a maximum crop to keep prices stable,\" said Sterling Smith, director of agricultural research at AgriSompo North America. \"We are going to need perfect weather and right now we do not have perfect weather.\" \\nChicago Board of Trade corn futures have surged 17.5% since Russia\\'s invasion, with the most-active contract nearing a 10-year high, as importers have scrambled to find alternative suppliers for their grain with Ukraine\\'s export ports shut down.\\nThe International Grains Council cut its forecast for 2022/23 world corn production by 13 million tonnes to 1.197 billion on Thursday. Ukraine is the world\\'s fifth biggest corn producer, with farmers harvesting 41.9 million tonnes in 2021.\\nThe U.S. Agriculture Department said that 4% of the U.S. corn crop had been seeded as of April 17, down 3 percentage points from a year earlier and below the five-year average of 6%. Farmers in major production states such as Iowa, Illinois, Indiana and North Dakota had not seeded any corn yet. [US/COR]\\n\"This has been a spring that\\'s had trouble getting started,\" said David Streit, a Commodity Weather Group meteorologist.\\n\\nMore rain was in the forecast this weekend for southern areas of the Midwest where farmers are typically running planters by now. And then cold temperatures return next week following a brief warm-up, Streit added.\\nU.S. farmers aim to have their corn seeding finished by the middle of May as yield potential can be reduced by about a bushel per acre for each day their crop is planted past that deadline. \\n \\n'"
      ]
     },
     "execution_count": 63,
     "metadata": {},
     "output_type": "execute_result"
    }
   ],
   "source": [
    "df['news_others'][1]"
   ]
  },
  {
   "cell_type": "code",
   "execution_count": 152,
   "id": "aee19f39",
   "metadata": {
    "scrolled": true
   },
   "outputs": [
    {
     "name": "stdout",
     "output_type": "stream",
     "text": [
      "Counter({'fire': 5, 'refineri': 5, 'pemex': 4, 'mexico': 3, 'salina': 3, 'cruz': 3, 'injuri': 3, 'reuter': 2, 'state': 2, 'oil': 2, 'said': 2, 'brought': 2, 'control': 2, 'without': 2, 'tank': 2, 'anoth': 2, 'citi': 1, 'mexican': 1, 'compani': 1, 'saturday': 1, 'southern': 1, 'oaxaca': 1, 'personnel': 1, 'start': 1, 'friday': 1, 'engulf': 1, 'gasolin': 1, 'storag': 1, 'send': 1, 'dens': 1, 'plume': 1, 'black': 1, 'smoke': 1, 'billow': 1, 'insid': 1, 'firefight': 1, 'conclud': 1, 'work': 1, 'suffoc': 1, 'cool': 1, 'august': 1, 'hit': 1, 'capac': 1, 'process': 1, '330': 1, '000': 1, 'barrel': 1, 'per': 1, 'day': 1, 'crude': 1, 'accord': 1, 'data': 1, 'eikon': 1, 'refinitiv': 1, 'novemb': 1, 'broke': 1, 'complex': 1, 'northern': 1, 'staff': 1, 'disrupt': 1, 'product': 1, 'http': 1, 'www': 1, 'com': 1, 'busi': 1, 'energi': 1, 'break': 1, 'cadereyta': 1, 'report': 1, 'sourc': 1, '2021': 1, '11': 1, '12': 1})\n"
     ]
    }
   ],
   "source": [
    "print(collections.Counter(df['content'][2])) #semi "
   ]
  },
  {
   "cell_type": "code",
   "execution_count": 56,
   "id": "8ee8efcd",
   "metadata": {},
   "outputs": [
    {
     "data": {
      "text/plain": [
       "'Some U.S. oilfield firms whose Venezuelan operations were frozen by sanctions are joining an appeal to Washington for authorizations to restart oil drilling in the South American country, according to eight sources with knowledge of the talks.\\nIf they are allowed to resume work, Venezuela could quickly ramp up production capacity beyond 1 million barrels per day (bpd), analysts said. \\nThe new supply could also fill a void left by U.S. ban on Russian energy imports over its invasion of Ukraine that has contributed to crude prices above $100 per barrel. \\nSchlumberger (NYSE:SLB), Halliburton (NYSE:HAL), Baker Hughes and Weatherford International (NASDAQ:WFRD) have been barred since 2019 from helping Venezuelan state-run PDVSA and its joint ventures produce oil. Any easing by the U.S. Treasury Department of a restricted license the four companies share with  Chevron  Corp (NYSE:CVX) could let them expand operations.\\nSince the United States first imposed oil trading sanctions on Venezuela, many firms removed equipment and staff and wrote off hundreds of millions dollars of their assets there. But over a dozen rigs remain stored near the nation\\'s largest oilfields.\\nA high-level meeting last month between U.S. and Venezuelan officials opened the door to a possible return of Venezuela\\'s oil to the United States. Sanctions were first imposed in 2019 to choke oil exports and deprive Caracas of its main source of revenue in its bid to see the ouster of Venezuelan President Nicolas Maduro. \\nThe talks coincided with Washington\\'s ban on Russian oil imports, a measure that will take full effect this week, potentially hurting U.S. refiners and contributing to rising fuel prices. \\nOil companies that still have a presence in Venezuela could promptly reactivate equipment in the country, the sources said, potentially reviving crude output, which remains at 40% of pre-sanction levels.\\n\"If PDVSA\\'s joint ventures are seeking to obtain licenses to operate, they will need the oil services companies,\" Reinaldo Quintero, president of Venezuela\\'s Petroleum Chamber told Reuters. \\nSeveral U.S.-based and local oilfield firms have approached the chamber to express their desire to resume work in Venezuela, he added, declining to provide details on the talks.\\nBaker Hughes said it would not comment on speculation or future activity. Schlumberger said its policies do not permit lobbying or political contributions. Halliburton declined to comment on future plans in Venezuela. \\nInvestment firm Amos Global Energy has submitted requests to the United States to participate in Venezuela\\'s energy sector and has an oilfield company ready to provide services if granted, founder Ali Moshiri said.\\nWeatherford and PDVSA did not reply to requests for comment.\\nLINING UP \\nChevron has requested authorization from U.S. President Joe Biden\\'s administration to take operating control of its projects with PDVSA. The oil major also has begun readying a team for returning Venezuelan crude to the United States.\\nBut U.S officials are still debating whether to revamp the current license, set to expire in June, sources in Washington familiar with the talks said. The move would be widely seen as an easing of U.S. sanctions on Venezuela\\'s oil sector. \\nProspects for a change dimmed after an outcry from Republican lawmakers and some of Biden\\'s fellow Democrats following the Caracas talks. U.S. officials are mindful that there could be further blowback if it proceeds, the people added. \\nSome U.S. oilfield firms have communicated individually to the U.S. Treasury through intermediaries support for Chevron\\'s efforts to get an expanded license and could provide services if an approval is granted, one of the Washington sources said.\\nThe talks were not made through formal lobbying, according to two company sources. \\nEven though the companies\\' current petition is for resuming some operations using mothballed drilling units in Venezuela, they hope to later secure U.S. permits to bring in additional equipment, the person added. \\nThe U.S. Treasury Department declined to comment. \\nLETHARGIC OUTPUT \\nSmall firms hired by PDVSA since 2021 to revive oil output mainly by coil tubing techniques and well maintenance have helped stop a free-fall in production and exports.\\nBut Venezuela\\'s active drilling rig count remains at zero since 2020, versus 87 units in 2013, according to Baker Hughes\\' statistics. A portion of equipment once operated by local contractors and Russia-controlled firms is now inactive.\\nOnly a handful of big drilling rigs are deployed in the Orinoco Belt, Venezuela\\'s main oil region, and the ones there'"
      ]
     },
     "execution_count": 56,
     "metadata": {},
     "output_type": "execute_result"
    }
   ],
   "source": [
    "df['news_others'][5]"
   ]
  },
  {
   "cell_type": "code",
   "execution_count": 153,
   "id": "2f0348e8",
   "metadata": {},
   "outputs": [
    {
     "name": "stdout",
     "output_type": "stream",
     "text": [
      "Counter({'flock': 6, 'poultri': 6, 'said': 5, 'state': 5, 'bird': 4, 'outbreak': 4, 'vaccin': 4, 'flu': 3, 'pennsylvania': 3, 'utah': 3, 'countri': 3, 'test': 3, 'laboratori': 3, 'usda': 3, 'import': 3, 'case': 2, 'commerci': 2, 'chicken': 2, 'depart': 2, 'saturday': 2, 'option': 2, 'sinc': 2, 'sampl': 2, 'veterinari': 2, 'health': 2, 'work': 2, 'addit': 2, 'unit': 2, 'world': 2, 'export': 2, 'kanishka': 1, 'singh': 1, 'washington': 1, 'reuter': 1, 'new': 1, 'detect': 1, 'backyard': 1, 'agricultur': 1, 'spread': 1, '30': 1, 'earlier': 1, 'month': 1, 'look': 1, 'protect': 1, 'deadli': 1, 'face': 1, 'worst': 1, '2015': 1, 'current': 1, 'wipe': 1, 'well': 1, 'twenti': 1, 'million': 1, 'turkey': 1, 'februari': 1, 'nyse': 1, 'lh': 1, 'diagnost': 1, 'part': 1, 'nation': 1, 'anim': 1, 'network': 1, 'statement': 1, 'feder': 1, 'offici': 1, 'jointli': 1, 'surveil': 1, 'area': 1, 'around': 1, 'affect': 1, 'recent': 1, 'highli': 1, 'pathogen': 1, 'avian': 1, 'influenza': 1, 'hpai': 1, 'present': 1, 'immedi': 1, 'public': 1, 'concern': 1, 'author': 1, 'previous': 1, 'eschew': 1, 'worri': 1, 'ban': 1, 'shipment': 1, 'cannot': 1, 'distinguish': 1, 'infect': 1, 'one': 1, 'second': 1, 'largest': 1, 'meat': 1, '2020': 1, 'valu': 1, 'product': 1, 'reach': 1, 'billion': 1, 'hit': 1, 'europ': 1, 'asia': 1, 'north': 1, 'america': 1, 'trade': 1, 'suffer': 1, 'like': 1, 'china': 1, 'block': 1, 'mani': 1})\n"
     ]
    }
   ],
   "source": [
    "print(collections.Counter(df['content'][3])) #vehicle"
   ]
  },
  {
   "cell_type": "code",
   "execution_count": 154,
   "id": "78b692a8",
   "metadata": {},
   "outputs": [
    {
     "name": "stdout",
     "output_type": "stream",
     "text": [
      "Counter({'macron': 10, 'melenchon': 6, 'franc': 5, 'first': 5, 'voter': 5, 'runoff': 5, 'vote': 5, 'left': 5, 'le': 5, 'pen': 5, 'said': 5, 'marseil': 4, 'plan': 4, 'want': 4, 'saturday': 3, 'nation': 3, 'coal': 3, 'ga': 3, 'energi': 3, 'wing': 3, 'round': 3, 'seek': 3, 'support': 3, 'nuclear': 3, 'year': 3, 'presid': 2, 'make': 2, 'great': 2, 'oil': 2, 'young': 2, 'green': 2, 'abstain': 2, 'next': 2, 'citi': 2, 'opinion': 2, 'poll': 2, 'show': 2, 'far': 2, 'right': 2, 'april': 2, 'attract': 2, 'prime': 2, 'minist': 2, 'war': 2, 'centuri': 2, 'climat': 2, 'old': 2, 'build': 2, 'also': 2, 'cost': 2, 'michel': 1, 'rose': 1, 'reuter': 1, 'emmanuel': 1, 'promis': 1, 'stop': 1, 'use': 1, 'sourc': 1, 'pitch': 1, 'fear': 1, 'could': 1, 'week': 1, 'elect': 1, 'ralli': 1, 'mediterranean': 1, 'massiv': 1, 'firebrand': 1, 'jean': 1, 'luc': 1, 'sought': 1, 'widen': 1, 'small': 1, 'lead': 1, 'rival': 1, 'marin': 1, 'ahead': 1, '24': 1, 'presidenti': 1, 'race': 1, 'fought': 1, 'contend': 1, 'chose': 1, 'last': 1, 'sunday': 1, 'would': 1, 'put': 1, 'directli': 1, 'charg': 1, 'call': 1, 'appeal': 1, 'nostalgia': 1, 'post': 1, 'communist': 1, 'inspir': 1, 'central': 1, 'tap': 1, '21st': 1, 'worri': 1, 'chang': 1, 'heard': 1, 'anxieti': 1, 'amongst': 1, 'peopl': 1, 'told': 1, 'flag': 1, 'wave': 1, 'park': 1, 'overlook': 1, 'port': 1, 'second': 1, 'mission': 1, 'exit': 1, 'possibl': 1, 'one': 1, 'hand': 1, 'choos': 1, 'six': 1, 'new': 1, 'reactor': 1, 'launch': 1, 'studi': 1, 'anoth': 1, 'eight': 1, 'increas': 1, 'solar': 1, 'capac': 1, 'tenfold': 1, '50': 1, 'wind': 1, 'farm': 1, 'sea': 1, 'mid': 1, 'insul': 1, '700': 1, '000': 1, 'home': 1, 'per': 1, 'save': 1, 'centrist': 1, 'creat': 1, 'day': 1, 'natur': 1, 'may': 1, 'everi': 1, 'slam': 1, 'sceptic': 1, 'came': 1, 'third': 1, '10': 1, '21': 1, 'candid': 1, 'go': 1, 'work': 1, 'class': 1, 'rural': 1, 'part': 1, 'elector': 1, 'focus': 1, 'live': 1, 'rise': 1, 'food': 1, 'high': 1, 'petrol': 1, 'price': 1, 'follow': 1, 'ukrain': 1, 'meanwhil': 1, 'tri': 1, 'woo': 1, 'educ': 1, 'centr': 1, 'urban': 1, 'segment': 1, 'ipso': 1, '33': 1, '16': 1, '51': 1, 'undecid': 1, 'thousand': 1, 'anti': 1, 'protest': 1, 'march': 1, 'across': 1, 'countri': 1, 'oppon': 1, 'form': 1, 'unit': 1, 'front': 1, 'prevent': 1, 'win': 1, 'mehdi': 1, 'sam': 1, '25': 1, 'engin': 1, 'found': 1, 'programm': 1, 'environ': 1, 'interest': 1, 'ad': 1, 'father': 1, 'think': 1, 'mistak': 1, 'understand': 1, 'everyth': 1, 'suit': 1, 'forget': 1, 'side': 1, 'camp': 1, 'extrem': 1, 'neg': 1, 'valu': 1, 'tomorrow': 1})\n"
     ]
    }
   ],
   "source": [
    "print(collections.Counter(df['content'][4])) #steel"
   ]
  },
  {
   "cell_type": "code",
   "execution_count": 140,
   "id": "d0f93ffa",
   "metadata": {
    "collapsed": true
   },
   "outputs": [
    {
     "name": "stdout",
     "output_type": "stream",
     "text": [
      "Collecting collection\n",
      "  Downloading collection-0.1.6.tar.gz (5.0 kB)\n",
      "Building wheels for collected packages: collection\n",
      "  Building wheel for collection (setup.py): started\n",
      "  Building wheel for collection (setup.py): finished with status 'done'\n",
      "  Created wheel for collection: filename=collection-0.1.6-py3-none-any.whl size=5117 sha256=ff48d5ecdbfe7edaba67baa4038cbd6240b3af83b3a397de1d5bc1af07b15ce4\n",
      "  Stored in directory: c:\\users\\bitcamp\\appdata\\local\\pip\\cache\\wheels\\b8\\eb\\72\\804383af94abbb9ac1893ace85e5620780f0819144486a8bc1\n",
      "Successfully built collection\n",
      "Installing collected packages: collection\n",
      "Successfully installed collection-0.1.6\n"
     ]
    }
   ],
   "source": [
    "# !pip install collection"
   ]
  },
  {
   "cell_type": "code",
   "execution_count": null,
   "id": "70daabe7",
   "metadata": {},
   "outputs": [],
   "source": [
    "# CNBC "
   ]
  },
  {
   "cell_type": "code",
   "execution_count": 88,
   "id": "7c7f80f2",
   "metadata": {},
   "outputs": [
    {
     "name": "stdout",
     "output_type": "stream",
     "text": [
      "C:\\Users\\bitcamp\\Project4\\best_model\n"
     ]
    }
   ],
   "source": [
    "cd C:/Users/bitcamp/Project4/best_model/"
   ]
  },
  {
   "cell_type": "code",
   "execution_count": 77,
   "id": "d5bc001b",
   "metadata": {},
   "outputs": [
    {
     "data": {
      "text/plain": [
       "'C:\\\\Users\\\\bitcamp\\\\Project4\\\\data\\\\카테고리뉴스_final-20220423T080818Z-001\\\\카테고리뉴스_final'"
      ]
     },
     "execution_count": 77,
     "metadata": {},
     "output_type": "execute_result"
    }
   ],
   "source": [
    "pwd"
   ]
  },
  {
   "cell_type": "code",
   "execution_count": 89,
   "id": "9de73164",
   "metadata": {
    "collapsed": true
   },
   "outputs": [
    {
     "data": {
      "text/plain": [
       "['best_mode5l.h5',\n",
       " 'best_model1.h5',\n",
       " 'best_model1.txt',\n",
       " 'best_model2.h5',\n",
       " 'best_model2.txt',\n",
       " 'best_model3.h5',\n",
       " 'tokenizer.pickle']"
      ]
     },
     "execution_count": 89,
     "metadata": {},
     "output_type": "execute_result"
    }
   ],
   "source": [
    "import os\n",
    "# csv파일 경로 리스팅 \n",
    "data_lis = os.listdir('./')\n",
    "data_lis"
   ]
  },
  {
   "cell_type": "code",
   "execution_count": 79,
   "id": "1eb91523",
   "metadata": {},
   "outputs": [],
   "source": [
    "# csv파일 여러개 읽어와서 합치기 \n",
    "df_cnbc = pd.DataFrame()\n",
    "\n",
    "for files in data_lis:\n",
    "    # advertisement 빼고 합치기 \n",
    "    if \"oil\" in files:\n",
    "        df = pd.read_csv(files,index_col=0)\n",
    "        df_cnbc = pd.concat([df_cnbc,df])  "
   ]
  },
  {
   "cell_type": "code",
   "execution_count": 80,
   "id": "cb048871",
   "metadata": {},
   "outputs": [],
   "source": [
    "df = df_cnbc"
   ]
  },
  {
   "cell_type": "code",
   "execution_count": 85,
   "id": "0d6e6b69",
   "metadata": {},
   "outputs": [],
   "source": [
    "df['content']=df['content'].apply(preprocessing)"
   ]
  },
  {
   "cell_type": "code",
   "execution_count": 118,
   "id": "80a20b04",
   "metadata": {},
   "outputs": [],
   "source": [
    "preprocessed_sentences = df['content']"
   ]
  },
  {
   "cell_type": "code",
   "execution_count": 91,
   "id": "8a01a5c7",
   "metadata": {
    "collapsed": true
   },
   "outputs": [
    {
     "data": {
      "text/plain": [
       "0     [oil, market, tighten, rbc, capit, market, thi...\n",
       "1     [stock, futur, slightli, lower, monday, morn, ...\n",
       "2     [presid, joe, biden, thursday, announc, histor...\n",
       "3     [presid, joe, biden, top, econom, advisor, sug...\n",
       "4     [oil, price, lower, thursday, white, hous, ann...\n",
       "                            ...                        \n",
       "45    [russia, ukrain, invas, could, set, motion, en...\n",
       "46    [oil, price, edg, higher, settl, green, monday...\n",
       "47    [ralli, kick, june, boost, oil, price, highest...\n",
       "48    [oil, price, risen, worri, washington, possibl...\n",
       "49    [oil, price, rose, two, week, monday, presid, ...\n",
       "Name: content, Length: 699, dtype: object"
      ]
     },
     "execution_count": 91,
     "metadata": {},
     "output_type": "execute_result"
    }
   ],
   "source": [
    "preprocessed_sentences"
   ]
  },
  {
   "cell_type": "code",
   "execution_count": 102,
   "id": "964fda50",
   "metadata": {},
   "outputs": [],
   "source": [
    "# Investing.com 뭉태기뉴스\n"
   ]
  },
  {
   "cell_type": "code",
   "execution_count": 103,
   "id": "14ba65b1",
   "metadata": {},
   "outputs": [
    {
     "name": "stdout",
     "output_type": "stream",
     "text": [
      "C:\\Users\\bitcamp\\Project4\\data\\investing.com news-20220425T032341Z-001\\investing.com news\\commodities-news\n"
     ]
    }
   ],
   "source": [
    "cd C:\\Users\\bitcamp\\Project4\\data\\investing.com news-20220425T032341Z-001\\investing.com news\\commodities-news"
   ]
  },
  {
   "cell_type": "code",
   "execution_count": 104,
   "id": "243db197",
   "metadata": {
    "collapsed": true
   },
   "outputs": [
    {
     "data": {
      "text/plain": [
       "['news_commodities-news_00001.csv',\n",
       " 'news_commodities-news_00002.csv',\n",
       " 'news_commodities-news_00003.csv',\n",
       " 'news_commodities-news_00004.csv',\n",
       " 'news_commodities-news_00005.csv',\n",
       " 'news_commodities-news_00006.csv',\n",
       " 'news_commodities-news_00007.csv',\n",
       " 'news_commodities-news_00008.csv',\n",
       " 'news_commodities-news_00009.csv',\n",
       " 'news_commodities-news_00010.csv',\n",
       " 'news_commodities-news_00011.csv',\n",
       " 'news_commodities-news_00012.csv',\n",
       " 'news_commodities-news_00013.csv',\n",
       " 'news_commodities-news_00014.csv',\n",
       " 'news_commodities-news_00015.csv',\n",
       " 'news_commodities-news_00016.csv',\n",
       " 'news_commodities-news_00017.csv',\n",
       " 'news_commodities-news_00018.csv',\n",
       " 'news_commodities-news_00019.csv',\n",
       " 'news_commodities-news_00020.csv',\n",
       " 'news_commodities-news_00021.csv',\n",
       " 'news_commodities-news_00022.csv',\n",
       " 'news_commodities-news_00023.csv']"
      ]
     },
     "execution_count": 104,
     "metadata": {},
     "output_type": "execute_result"
    }
   ],
   "source": [
    "import os\n",
    "# csv파일 경로 리스팅 \n",
    "data_lis = os.listdir('./')\n",
    "data_lis"
   ]
  },
  {
   "cell_type": "code",
   "execution_count": 105,
   "id": "bfda96ed",
   "metadata": {},
   "outputs": [],
   "source": [
    "# csv파일 여러개 읽어와서 합치기 \n",
    "df_cnbc = pd.DataFrame()\n",
    "\n",
    "for files in data_lis:\n",
    "    # advertisement 빼고 합치기 \n",
    "    if \"com\" in files:\n",
    "        df = pd.read_csv(files,index_col=0)\n",
    "        df_cnbc = pd.concat([df_cnbc,df])  "
   ]
  },
  {
   "cell_type": "code",
   "execution_count": 106,
   "id": "85098747",
   "metadata": {},
   "outputs": [],
   "source": [
    "df = df_cnbc"
   ]
  },
  {
   "cell_type": "code",
   "execution_count": 110,
   "id": "64371267",
   "metadata": {},
   "outputs": [],
   "source": [
    "df['content']=df['content'].dropna().reset_index().drop('index',axis=1)"
   ]
  },
  {
   "cell_type": "code",
   "execution_count": 114,
   "id": "2c9dbdbc",
   "metadata": {},
   "outputs": [],
   "source": [
    "df = df.reset_index().drop('index',axis=1)"
   ]
  },
  {
   "cell_type": "code",
   "execution_count": 117,
   "id": "fe96b7d4",
   "metadata": {},
   "outputs": [],
   "source": [
    "df['content'] = df['content'].apply(preprocessing)"
   ]
  },
  {
   "cell_type": "code",
   "execution_count": 162,
   "id": "f1a83d72",
   "metadata": {},
   "outputs": [
    {
     "data": {
      "text/html": [
       "<div>\n",
       "<style scoped>\n",
       "    .dataframe tbody tr th:only-of-type {\n",
       "        vertical-align: middle;\n",
       "    }\n",
       "\n",
       "    .dataframe tbody tr th {\n",
       "        vertical-align: top;\n",
       "    }\n",
       "\n",
       "    .dataframe thead th {\n",
       "        text-align: right;\n",
       "    }\n",
       "</style>\n",
       "<table border=\"1\" class=\"dataframe\">\n",
       "  <thead>\n",
       "    <tr style=\"text-align: right;\">\n",
       "      <th></th>\n",
       "      <th>company</th>\n",
       "      <th>date</th>\n",
       "      <th>title</th>\n",
       "      <th>content</th>\n",
       "      <th>category</th>\n",
       "    </tr>\n",
       "  </thead>\n",
       "  <tbody>\n",
       "    <tr>\n",
       "      <th>0</th>\n",
       "      <td>By Reuters</td>\n",
       "      <td>&lt;span&gt;3 hours ago (Apr 17, 2022 05:31AM ET)&lt;/s...</td>\n",
       "      <td>Tunisia says countries offer help to tackle im...</td>\n",
       "      <td>[tarek, amara, tuni, reuter, countri, offer, h...</td>\n",
       "      <td>2</td>\n",
       "    </tr>\n",
       "    <tr>\n",
       "      <th>1</th>\n",
       "      <td>By Investing.com</td>\n",
       "      <td>&lt;span&gt;5 hours ago (Apr 17, 2022 03:32AM ET)&lt;/s...</td>\n",
       "      <td>Energy &amp; Precious Metals - Weekly Review and O...</td>\n",
       "      <td>[barani, krishnan, invest, com, europ, forthco...</td>\n",
       "      <td>1</td>\n",
       "    </tr>\n",
       "    <tr>\n",
       "      <th>2</th>\n",
       "      <td>By Reuters</td>\n",
       "      <td>&lt;span&gt;8 hours ago (Apr 17, 2022 12:41AM ET)&lt;/s...</td>\n",
       "      <td>Mexico's Pemex says fire under control at Sali...</td>\n",
       "      <td>[mexico, citi, reuter, mexican, state, oil, co...</td>\n",
       "      <td>2</td>\n",
       "    </tr>\n",
       "    <tr>\n",
       "      <th>3</th>\n",
       "      <td>By Reuters</td>\n",
       "      <td>&lt;span&gt;14 hours ago (Apr 16, 2022 06:05PM ET)&lt;/...</td>\n",
       "      <td>New bird flu cases identified in Pennsylvania ...</td>\n",
       "      <td>[kanishka, singh, washington, reuter, new, bir...</td>\n",
       "      <td>4</td>\n",
       "    </tr>\n",
       "    <tr>\n",
       "      <th>4</th>\n",
       "      <td>By Oilprice.com</td>\n",
       "      <td>NaN</td>\n",
       "      <td>NaN</td>\n",
       "      <td>[michel, rose, marseil, franc, reuter, presid,...</td>\n",
       "      <td>3</td>\n",
       "    </tr>\n",
       "    <tr>\n",
       "      <th>...</th>\n",
       "      <td>...</td>\n",
       "      <td>...</td>\n",
       "      <td>...</td>\n",
       "      <td>...</td>\n",
       "      <td>...</td>\n",
       "    </tr>\n",
       "    <tr>\n",
       "      <th>38368</th>\n",
       "      <td>By Reuters</td>\n",
       "      <td>&lt;span&gt;Nov 22, 2010 03:04PM ET&lt;/span&gt;</td>\n",
       "      <td>METALS-Copper slips on dollar, China demand wo...</td>\n",
       "      <td>[correct, lead, paragraph, say, mani, counterf...</td>\n",
       "      <td>4</td>\n",
       "    </tr>\n",
       "    <tr>\n",
       "      <th>38369</th>\n",
       "      <td>By Reuters</td>\n",
       "      <td>&lt;span&gt;Nov 15, 2010 12:44AM ET&lt;/span&gt;</td>\n",
       "      <td>GRAINS-Corn up 2 pct on talk of Chinese buying...</td>\n",
       "      <td>[bartosz, dabrowski, reuter, lind, world, larg...</td>\n",
       "      <td>1</td>\n",
       "    </tr>\n",
       "    <tr>\n",
       "      <th>38370</th>\n",
       "      <td>By Reuters</td>\n",
       "      <td>&lt;span&gt;Nov 09, 2010 11:16AM ET&lt;/span&gt;</td>\n",
       "      <td>PRECIOUS-Gold hits new record as euro zone fea...</td>\n",
       "      <td>[peter, nurs, invest, com, oil, price, weaken,...</td>\n",
       "      <td>0</td>\n",
       "    </tr>\n",
       "    <tr>\n",
       "      <th>38371</th>\n",
       "      <td>By Reuters</td>\n",
       "      <td>&lt;span&gt;Nov 04, 2010 03:48AM ET&lt;/span&gt;</td>\n",
       "      <td>GRAINS-Soy rises 1 pct, wheat firms after Fed ...</td>\n",
       "      <td>[alex, lawler, london, reuter, opec, said, thu...</td>\n",
       "      <td>0</td>\n",
       "    </tr>\n",
       "    <tr>\n",
       "      <th>38372</th>\n",
       "      <td>By Reuters</td>\n",
       "      <td>&lt;span&gt;Nov 04, 2010 12:24AM ET&lt;/span&gt;</td>\n",
       "      <td>GRAINS-U.S. soy, wheat rise half pct after Fed...</td>\n",
       "      <td>[karen, braun, fort, collin, colo, reuter, bra...</td>\n",
       "      <td>3</td>\n",
       "    </tr>\n",
       "  </tbody>\n",
       "</table>\n",
       "<p>38373 rows × 5 columns</p>\n",
       "</div>"
      ],
      "text/plain": [
       "                company                                               date  \\\n",
       "0            By Reuters  <span>3 hours ago (Apr 17, 2022 05:31AM ET)</s...   \n",
       "1      By Investing.com  <span>5 hours ago (Apr 17, 2022 03:32AM ET)</s...   \n",
       "2            By Reuters  <span>8 hours ago (Apr 17, 2022 12:41AM ET)</s...   \n",
       "3            By Reuters  <span>14 hours ago (Apr 16, 2022 06:05PM ET)</...   \n",
       "4       By Oilprice.com                                                NaN   \n",
       "...                 ...                                                ...   \n",
       "38368        By Reuters               <span>Nov 22, 2010 03:04PM ET</span>   \n",
       "38369        By Reuters               <span>Nov 15, 2010 12:44AM ET</span>   \n",
       "38370        By Reuters               <span>Nov 09, 2010 11:16AM ET</span>   \n",
       "38371        By Reuters               <span>Nov 04, 2010 03:48AM ET</span>   \n",
       "38372        By Reuters               <span>Nov 04, 2010 12:24AM ET</span>   \n",
       "\n",
       "                                                   title  \\\n",
       "0      Tunisia says countries offer help to tackle im...   \n",
       "1      Energy & Precious Metals - Weekly Review and O...   \n",
       "2      Mexico's Pemex says fire under control at Sali...   \n",
       "3      New bird flu cases identified in Pennsylvania ...   \n",
       "4                                                    NaN   \n",
       "...                                                  ...   \n",
       "38368  METALS-Copper slips on dollar, China demand wo...   \n",
       "38369  GRAINS-Corn up 2 pct on talk of Chinese buying...   \n",
       "38370  PRECIOUS-Gold hits new record as euro zone fea...   \n",
       "38371  GRAINS-Soy rises 1 pct, wheat firms after Fed ...   \n",
       "38372  GRAINS-U.S. soy, wheat rise half pct after Fed...   \n",
       "\n",
       "                                                 content  category  \n",
       "0      [tarek, amara, tuni, reuter, countri, offer, h...         2  \n",
       "1      [barani, krishnan, invest, com, europ, forthco...         1  \n",
       "2      [mexico, citi, reuter, mexican, state, oil, co...         2  \n",
       "3      [kanishka, singh, washington, reuter, new, bir...         4  \n",
       "4      [michel, rose, marseil, franc, reuter, presid,...         3  \n",
       "...                                                  ...       ...  \n",
       "38368  [correct, lead, paragraph, say, mani, counterf...         4  \n",
       "38369  [bartosz, dabrowski, reuter, lind, world, larg...         1  \n",
       "38370  [peter, nurs, invest, com, oil, price, weaken,...         0  \n",
       "38371  [alex, lawler, london, reuter, opec, said, thu...         0  \n",
       "38372  [karen, braun, fort, collin, colo, reuter, bra...         3  \n",
       "\n",
       "[38373 rows x 5 columns]"
      ]
     },
     "execution_count": 162,
     "metadata": {},
     "output_type": "execute_result"
    }
   ],
   "source": [
    "df['category'] = 리스\n",
    "df"
   ]
  },
  {
   "cell_type": "code",
   "execution_count": 163,
   "id": "17aed0ce",
   "metadata": {},
   "outputs": [],
   "source": [
    "# 1. investing.com 데이터 불러오기 \n",
    "# 2. 데이터 불러와서 content 분류하기 \n",
    "# 3. content데이터 전처리하기 \n",
    "# 4. 로드한 pickle데이터로 패딩하기\n",
    "# 5. 로드한 모델로 분류하기\n",
    "# 6. 분류한 predict값을 대입해서 비교해보기\n",
    "# 7. 데이터프레임에 라벨을 붙여넣기 "
   ]
  },
  {
   "cell_type": "code",
   "execution_count": null,
   "id": "f473c8e6",
   "metadata": {},
   "outputs": [],
   "source": [
    "# 여러데이터를 불러와서 합치기 \n",
    "# 먼저 그 데이터가 있는쪽의 경로를 들어감\n",
    "# 그경로의 데이터를 리스팅함 \n",
    "# 반복문으로 모든 데이터를불러와서 데이터프레임을 만듬\n",
    "# 예측을 할 컬럼을 뽑아 전처리를 진행\n",
    "# 모델 돌리기\n",
    "# 예측값 뽑아서 라벨붙이기\n",
    "# pickle과 모델은 best_model에 있음"
   ]
  },
  {
   "cell_type": "code",
   "execution_count": null,
   "id": "07377360",
   "metadata": {},
   "outputs": [],
   "source": [
    "# 비지도 학습에서 받아온 CNBC 데이터 카테고리 35개를 라벨붙여서 \n",
    "# LSTM에 훈련시킴\n",
    "# 그 모델과 토크나이저로 investing 적용 ㄱ "
   ]
  },
  {
   "cell_type": "markdown",
   "id": "bbab498c",
   "metadata": {},
   "source": [
    "# 데이터 프레임 만들기"
   ]
  },
  {
   "cell_type": "code",
   "execution_count": 164,
   "id": "fa5b8048",
   "metadata": {},
   "outputs": [
    {
     "data": {
      "text/plain": [
       "'C:\\\\Users\\\\bitcamp\\\\Project4\\\\best_model'"
      ]
     },
     "execution_count": 164,
     "metadata": {},
     "output_type": "execute_result"
    }
   ],
   "source": [
    "pwd"
   ]
  },
  {
   "cell_type": "code",
   "execution_count": null,
   "id": "99603539",
   "metadata": {},
   "outputs": [],
   "source": []
  },
  {
   "cell_type": "code",
   "execution_count": null,
   "id": "1606bcd2",
   "metadata": {},
   "outputs": [],
   "source": []
  },
  {
   "cell_type": "code",
   "execution_count": null,
   "id": "264f87b9",
   "metadata": {},
   "outputs": [],
   "source": []
  },
  {
   "cell_type": "code",
   "execution_count": null,
   "id": "4fe1df27",
   "metadata": {},
   "outputs": [],
   "source": []
  },
  {
   "cell_type": "code",
   "execution_count": null,
   "id": "26ee7ead",
   "metadata": {},
   "outputs": [],
   "source": []
  },
  {
   "cell_type": "code",
   "execution_count": null,
   "id": "66de0907",
   "metadata": {},
   "outputs": [],
   "source": []
  },
  {
   "cell_type": "code",
   "execution_count": null,
   "id": "541233e6",
   "metadata": {},
   "outputs": [],
   "source": []
  },
  {
   "cell_type": "code",
   "execution_count": null,
   "id": "70373b5c",
   "metadata": {},
   "outputs": [],
   "source": []
  },
  {
   "cell_type": "code",
   "execution_count": null,
   "id": "5c888dd0",
   "metadata": {},
   "outputs": [],
   "source": []
  },
  {
   "cell_type": "code",
   "execution_count": null,
   "id": "7b0f27dc",
   "metadata": {},
   "outputs": [],
   "source": []
  },
  {
   "cell_type": "code",
   "execution_count": null,
   "id": "165929cd",
   "metadata": {},
   "outputs": [],
   "source": []
  },
  {
   "cell_type": "code",
   "execution_count": null,
   "id": "bea1f853",
   "metadata": {},
   "outputs": [],
   "source": []
  }
 ],
 "metadata": {
  "kernelspec": {
   "display_name": "Python 3 (ipykernel)",
   "language": "python",
   "name": "python3"
  },
  "language_info": {
   "codemirror_mode": {
    "name": "ipython",
    "version": 3
   },
   "file_extension": ".py",
   "mimetype": "text/x-python",
   "name": "python",
   "nbconvert_exporter": "python",
   "pygments_lexer": "ipython3",
   "version": "3.9.7"
  }
 },
 "nbformat": 4,
 "nbformat_minor": 5
}
