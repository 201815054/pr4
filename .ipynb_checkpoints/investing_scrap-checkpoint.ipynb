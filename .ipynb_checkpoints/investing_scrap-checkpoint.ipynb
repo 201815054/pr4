{
 "cells": [
  {
   "cell_type": "code",
   "execution_count": 99,
   "id": "648908ab",
   "metadata": {
    "ExecuteTime": {
     "end_time": "2022-04-17T03:15:06.830263Z",
     "start_time": "2022-04-17T03:15:06.813314Z"
    }
   },
   "outputs": [],
   "source": [
    "import pandas as pd\n",
    "import numpy as np\n",
    "\n",
    "from bs4 import BeautifulSoup\n",
    "import time, os, shutil, re\n",
    "import requests"
   ]
  },
  {
   "cell_type": "code",
   "execution_count": null,
   "id": "c1fdd1f9",
   "metadata": {
    "ExecuteTime": {
     "start_time": "2022-04-17T05:16:51.581Z"
    }
   },
   "outputs": [],
   "source": [
    "# investing.com 이게 크롤링 돌아가는 코드\n",
    "main_path = 'G:/KDT4/Project/project4/investing_crawl'\n",
    "\n",
    "\n",
    "main = 'https://www.investing.com'\n",
    "topics = ['stock-market-news', 'commodities-news', 'forex-news', 'economy', 'economic-indicators','politics','world-news']\n",
    "\n",
    "for topic in topics[6:]:\n",
    "    title_lst = []\n",
    "    content_lst = []\n",
    "    date_lst = []\n",
    "    company_lst = []\n",
    "    save_path = '/'.join([main_path, topic])\n",
    "    if not os.path.exists(save_path):\n",
    "        os.mkdir(save_path)\n",
    "    url = '/'.join([main,'news', topic])\n",
    "    headers = {\n",
    "            'User-Agent':'Mozilla/5.0 (Windows NT 10.0; Win64; x64) AppleWebKit/537.36 (KHTML, like Gecko) Chrome/100.0.4896.75 Safari/537.36',\n",
    "            'Referer': '/'.join([main, 'news', topic])}\n",
    "    res = requests.get(url,headers=headers)\n",
    "    time.sleep(0.1)\n",
    "    print(topic, int(BeautifulSoup(res.text, 'html.parser').select('#paginationWrap > div.midDiv.inlineblock > a:nth-child(5)')[0]['title'].split()[-1])//17)\n",
    "    for page in range(1, int(BeautifulSoup(res.text, 'html.parser').select('#paginationWrap > div.midDiv.inlineblock > a:nth-child(5)')[0]['title'].split()[-1])//17):\n",
    "        print(page)\n",
    "        url = '/'.join([main,'news', topic, str(page)])\n",
    "        headers = {\n",
    "            'User-Agent':'Mozilla/5.0 (Windows NT 10.0; Win64; x64) AppleWebKit/537.36 (KHTML, like Gecko) Chrome/100.0.4896.75 Safari/537.36',\n",
    "            'Referer': '/'.join([main, 'news', topic, str(page)])}\n",
    "        res = requests.get(url,headers=headers)\n",
    "        time.sleep(0.1)\n",
    "        soup = BeautifulSoup(res.text, 'html.parser')\n",
    "        article_path = '#leftColumn > div.largeTitle > article'\n",
    "        nlstdir = soup.select(article_path)\n",
    "        if not nlstdir:\n",
    "            print('done')\n",
    "            break\n",
    "        for newslst in nlstdir:\n",
    "            title = np.nan\n",
    "            contents = np.nan\n",
    "            date = np.nan\n",
    "            try:\n",
    "                if 'dfp-native' in newslst['class']:\n",
    "                    continue\n",
    "                elif 'https://' in newslst.select('a')[0]['href']:\n",
    "                    newsurl = newslst.select('a')[0]['href']\n",
    "                else : \n",
    "                    newsurl = main+newslst.select('a')[0]['href']\n",
    "                newsres = requests.get(newsurl, headers = headers)\n",
    "                time.sleep(0.1)\n",
    "                news = BeautifulSoup(newsres.text,'html.parser')\n",
    "                if newslst.select('div.textDiv > span > span:nth-child(1)'):\n",
    "                    company = newslst.select('div.textDiv > span > span:nth-child(1)')[0].text\n",
    "                    if company == 'By Investing.com Studios':\n",
    "                        continue\n",
    "                    title = news.select('#leftColumn > h1')[0].text\n",
    "                    date = news.select('#leftColumn > div.contentSectionDetails > span')[0]\n",
    "                    contents = []\n",
    "                    for con in news.select('#leftColumn > div.articlePage > p'):\n",
    "                        contents.append(con.text)\n",
    "                    contents = '\\n'.join(contents)\n",
    "\n",
    "                elif newslst.select('div.textDiv > div > span:nth-child(1)'):\n",
    "                    company = newslst.select('div.textDiv > div > span:nth-child(1)')[0].text\n",
    "                    # 각 회사별 크롤링 돌아가게하는 코드 작성해야함\n",
    "                    if company == 'By CNBC': # Sample#1 : CNBC\n",
    "                        title = news.select('#main-article-header > div:nth-child(1)>div:nth-child(1)>div:nth-child(2)')[0].text\n",
    "                        date = news.select('#main-article-header > div:nth-child(1)>div:nth-child(1)>div:nth-child(3)>time')[0]['datetime']\n",
    "                        contents = []\n",
    "                        for con in news.select('#RegularArticle-ArticleBody-5 > div.group'):\n",
    "                            contents.append(con.text)\n",
    "                        contents = '\\n'.join(contents)\n",
    "                    # CNBC 랑 비슷하게 contents title date 받을수 있게 코드좀 만들어주세요\n",
    "                    # 각 회사별 링크는 직접 찾아서 들어가봐야합니다.. 아래가 종류\n",
    "                    elif company == 'By CryptoDaily': # disclaimer 후처리해야함\n",
    "                        title = news.select('#PostsPage > div.bg-body.box-layout > h2')[0].text\n",
    "                        date = news.select('#PostsPage > div.bg-body.box-layout > div.row.article-meta > div > div > div > div.date-count')[0].text\n",
    "                        contents = []\n",
    "                        for lst in news.select('div.news-content'):\n",
    "                            contents.append(lst.text)\n",
    "                        contents = '\\n'.join(contents)\n",
    "                    elif company == 'By CryptoGlobe':\n",
    "                        title = news.select('#content_start > div:nth-child(1) > article > header > div:nth-child(1) > h1')[0].text\n",
    "                        date = news.select('#content_start > div:nth-child(1) > article > header > div.row > div:nth-child(1) > div > div:nth-child(2) > ul > li:nth-child(1)')[0].text\n",
    "                        contents = news.select('div.article-body')[0].text\n",
    "                    elif company == 'By Huffington Post':\n",
    "                        title = news.select('#entry-header > header > div.top-header > h1')[0].text\n",
    "                        date = news.select('#entry-header > header > div.bottom-header > div.bottom-header__left > div.timestamp > time:nth-child(1) > span')[0].text\n",
    "                        divs = news.select('#entry-body > section')[0].text\n",
    "                        contents = []\n",
    "                        for i in divs.split('\\n'):\n",
    "                            contents.append(i.strip('Advertisement'))\n",
    "                        contents = '\\n'.join(contents)\n",
    "                    else:\n",
    "                        pass\n",
    "                else:\n",
    "                    print(f'Error Occured in {topic} page:{page}')\n",
    "                    pass\n",
    "            except:\n",
    "                print(f'Error Occured in {topic} page:{page}')\n",
    "                continue\n",
    "            company_lst.append(company)\n",
    "            title_lst.append(title)\n",
    "            date_lst.append(date)\n",
    "            content_lst.append(contents)\n",
    "        if page%100 == 0:\n",
    "            pd.DataFrame({'company':company_lst, 'date':date_lst, 'title':title_lst, 'content':content_lst}).to_csv(save_path+f'/news_{topic}_{page//100:05}.csv')\n",
    "            title_lst = []\n",
    "            content_lst = []\n",
    "            date_lst = []\n",
    "            company_lst = []\n",
    "    pd.DataFrame({'company':company_lst, 'date':date_lst, 'title':title_lst, 'content':content_lst}).to_csv(save_path+f'/news_{topic}_{page//100+1:05}.csv')"
   ]
  },
  {
   "cell_type": "code",
   "execution_count": 111,
   "id": "0d45fb7c",
   "metadata": {
    "ExecuteTime": {
     "end_time": "2022-04-17T03:29:38.290419Z",
     "start_time": "2022-04-17T03:29:38.284435Z"
    }
   },
   "outputs": [
    {
     "data": {
      "text/plain": [
       "['articleItem', 'dfp-native']"
      ]
     },
     "execution_count": 111,
     "metadata": {},
     "output_type": "execute_result"
    }
   ],
   "source": [
    "newslst['class']"
   ]
  },
  {
   "cell_type": "code",
   "execution_count": 116,
   "id": "8a0f28e1",
   "metadata": {
    "ExecuteTime": {
     "end_time": "2022-04-17T03:41:37.147422Z",
     "start_time": "2022-04-17T03:41:37.080598Z"
    }
   },
   "outputs": [
    {
     "name": "stdout",
     "output_type": "stream",
     "text": [
      "<class 'pandas.core.frame.DataFrame'>\n",
      "Int64Index: 103 entries, 0 to 102\n",
      "Data columns (total 4 columns):\n",
      " #   Column   Non-Null Count  Dtype \n",
      "---  ------   --------------  ----- \n",
      " 0   company  103 non-null    object\n",
      " 1   date     99 non-null     object\n",
      " 2   title    99 non-null     object\n",
      " 3   content  98 non-null     object\n",
      "dtypes: object(4)\n",
      "memory usage: 4.0+ KB\n"
     ]
    }
   ],
   "source": [
    "pd.read_csv('D:/Project4/data/investing_crawl/stock-market-news/news_stock-market-news_00001.csv',index_col=0).info()"
   ]
  },
  {
   "cell_type": "code",
   "execution_count": 88,
   "id": "4c5c0661",
   "metadata": {
    "ExecuteTime": {
     "end_time": "2022-04-17T02:30:27.260840Z",
     "start_time": "2022-04-17T02:30:25.000856Z"
    }
   },
   "outputs": [
    {
     "data": {
      "text/plain": [
       "[]"
      ]
     },
     "execution_count": 88,
     "metadata": {},
     "output_type": "execute_result"
    }
   ],
   "source": [
    "news = BeautifulSoup(requests.get(\"https://invst.ly/xxtbk\").text, 'html.parser')\n",
    "news.select('#main-article-header > div > div.ArticleHeader-wrapperHeroNoImage.ArticleHeader-wrapperHero.ArticleHeader-wrapper.ArticleHeader-wrapperNoImage > div.ArticleHeader-time > time')"
   ]
  },
  {
   "cell_type": "code",
   "execution_count": 96,
   "id": "86ee77d1",
   "metadata": {
    "ExecuteTime": {
     "end_time": "2022-04-17T02:41:40.399668Z",
     "start_time": "2022-04-17T02:41:40.367784Z"
    }
   },
   "outputs": [
    {
     "name": "stdout",
     "output_type": "stream",
     "text": [
      "$USDC: World’s Largest Asset Manager With $9.5 Trillion AUM Interested in USD Coin\n",
      "16 Apr 2022\n",
      "\n",
      "NYC-based BlackRock Inc., which is the world’s top asset management firm with around $9.5 trillion in total assets under management (AUM) as of 30 September 2021 according to ADV Ratings, has invested in stablecoin issuer Circle Internet Financial Ltd.\n",
      "On 26 September 2018, Circle announced that 26 September 2018 announced that it was launching its “USD Coin” ($USDC for short), which is a regulated fully collateralized dollar-backed cryptocurrency that was originally announced on 16 May 2018. This stablecoin is based on an open source fiat stablecoin framework developed and governed by the CENTRE project. Circle said back then that “individuals and institutions” could enroll its dollar tokenization service to “deposit US dollars from bank accounts, convert those dollars into tokens usable everywhere the internet reaches (subject to the token’s compliance controls), and redeem USDC tokens and cash out to bank accounts.”\n",
      "In a press release issued on April 12, Circle said that it had “entered into an agreement for a $400M funding round with investments from BlackRock, Inc., Fidelity Management and Research, Marshall Wace LLP and Fin Capital” and that “the funding round is expected to close in the second quarter.”\n",
      "\n",
      "\n",
      "\n",
      "\n",
      "\n",
      "\n",
      "\n",
      "\n",
      "\n",
      "The press release went on to say that “in addition to its corporate strategic investment and role as a primary asset manager of USDC cash reserves, BlackRock has entered into a broader strategic partnership with Circle, which includes exploring capital market applications for USDC.” It also mentioned that this new funding “promotes Circle’s continued strategic growth as demand for dollar digital currency and related financial services continues to scale globally.”\n",
      "Jeremy Allaire, Co-Founder and CEO of Circle, had this to say about this new partnership:\n",
      "“USDC is one of the fastest growing dollar digital currencies with over $50 billion in circulation. Dollar digital currencies like USDC are fueling a global economic transformation, and Circle’s technology infrastructure sits at the center of that change. This funding round will drive the next evolution of Circle’s growth… It’s particularly gratifying to add BlackRock as a strategic investor in the company. We look forward to developing our partnership.“\n",
      "Disclaimer\n",
      "The views and opinions expressed by the author, or any people mentioned in this article, are for informational purposes only, and they do not constitute financial, investment, or other advice. Investing in or trading cryptoassets comes with a risk of financial loss.\n",
      "\n"
     ]
    }
   ],
   "source": [
    "print(news.select('#content_start > div:nth-child(1) > article > header > div:nth-child(1) > h1')[0].text)\n",
    "print(news.select('#content_start > div:nth-child(1) > article > header > div.row > div:nth-child(1) > div > div:nth-child(2) > ul > li:nth-child(1)')[0].text)\n",
    "for lst in news.select('div.article-body'):\n",
    "    continue\n",
    "print(lst.text)"
   ]
  },
  {
   "cell_type": "code",
   "execution_count": 97,
   "id": "fb791091",
   "metadata": {
    "ExecuteTime": {
     "end_time": "2022-04-17T03:12:16.067916Z",
     "start_time": "2022-04-17T03:12:16.053926Z"
    }
   },
   "outputs": [
    {
     "data": {
      "text/plain": [
       "'00100'"
      ]
     },
     "execution_count": 97,
     "metadata": {},
     "output_type": "execute_result"
    }
   ],
   "source": [
    "t = 100\n",
    "f'{t:05}'"
   ]
  },
  {
   "cell_type": "code",
   "execution_count": null,
   "id": "402cb0f1",
   "metadata": {},
   "outputs": [],
   "source": []
  }
 ],
 "metadata": {
  "kernelspec": {
   "display_name": "cuda",
   "language": "python",
   "name": "cuda"
  },
  "language_info": {
   "codemirror_mode": {
    "name": "ipython",
    "version": 3
   },
   "file_extension": ".py",
   "mimetype": "text/x-python",
   "name": "python",
   "nbconvert_exporter": "python",
   "pygments_lexer": "ipython3",
   "version": "3.7.13"
  },
  "toc": {
   "base_numbering": 1,
   "nav_menu": {},
   "number_sections": true,
   "sideBar": true,
   "skip_h1_title": false,
   "title_cell": "Table of Contents",
   "title_sidebar": "Contents",
   "toc_cell": false,
   "toc_position": {},
   "toc_section_display": true,
   "toc_window_display": false
  },
  "varInspector": {
   "cols": {
    "lenName": 16,
    "lenType": 16,
    "lenVar": 40
   },
   "kernels_config": {
    "python": {
     "delete_cmd_postfix": "",
     "delete_cmd_prefix": "del ",
     "library": "var_list.py",
     "varRefreshCmd": "print(var_dic_list())"
    },
    "r": {
     "delete_cmd_postfix": ") ",
     "delete_cmd_prefix": "rm(",
     "library": "var_list.r",
     "varRefreshCmd": "cat(var_dic_list()) "
    }
   },
   "position": {
    "height": "144.83px",
    "left": "1095.82px",
    "right": "20px",
    "top": "133px",
    "width": "350px"
   },
   "types_to_exclude": [
    "module",
    "function",
    "builtin_function_or_method",
    "instance",
    "_Feature"
   ],
   "window_display": true
  }
 },
 "nbformat": 4,
 "nbformat_minor": 5
}
