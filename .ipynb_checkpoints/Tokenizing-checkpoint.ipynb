{
 "cells": [
  {
   "cell_type": "markdown",
   "id": "9a72aa85",
   "metadata": {},
   "source": [
    "# 텍스트 전처리(Text preprocessing)"
   ]
  },
  {
   "cell_type": "markdown",
   "id": "ab17ea06",
   "metadata": {},
   "source": [
    "## 01) 토큰화(Tokenization)\n",
    "- 전처리 :토큰화 & 정제 & 정규화 \n",
    "- corpus에서 토큰단위로 나누는 작업을 토큰화라고 함 \n",
    "- NLTK, KoNLPY 실습 "
   ]
  },
  {
   "cell_type": "markdown",
   "id": "e5681694",
   "metadata": {},
   "source": [
    "### 1. 단어 토큰화(Word Tokenization)\n",
    "- 단어(words): 단어구, 의미를갖는 문자열\n",
    "- 구두점(마침표(.), 컴마(,), 물음표(?), 세미콜론(;), 느낌표(!) 등과 같은 기호를 말함\n",
    "- 입력: Time is an illusion. Lunchtime double so!\n",
    "- 출력ㅣ\"Time\",\"is\",\"an\",\"illustion\",\"Lunchtime\",\"double\",\"so\"\n",
    "- => 구두점을 지운 뒤에 띄어쓰기를 기준으로 잘라냄 "
   ]
  },
  {
   "cell_type": "markdown",
   "id": "95944baf",
   "metadata": {},
   "source": [
    "### 2. 토큰화 중 생기는 선택의 순간 \n",
    "- ex) Don't be fooled by the dark sounding name, Mr. Jone's Orphanage is as cheery as cheery goes for a pastry shop\n",
    "- Don't 나 Jone's의 '를 어떻게 처리 할 것인가?"
   ]
  },
  {
   "cell_type": "code",
   "execution_count": 5,
   "id": "1e9760f8",
   "metadata": {},
   "outputs": [],
   "source": [
    "# word_tokenize와 WordPunctTokenizer 사용, 아포스트로피 제거 \n",
    "from nltk.tokenize import word_tokenize \n",
    "from nltk.tokenize import WordPunctTokenizer \n",
    "from tensorflow.keras.preprocessing.text import text_to_word_sequence"
   ]
  },
  {
   "cell_type": "code",
   "execution_count": 11,
   "id": "c9127c91",
   "metadata": {},
   "outputs": [
    {
     "name": "stdout",
     "output_type": "stream",
     "text": [
      "단어 토큰화1 : ['Do', \"n't\", 'be', 'fooled', 'by', 'the', 'dark', 'sounding', 'name', ',', 'Mr', '.', 'Jone', \"'s\", 'Orphanage', 'is', 'as', 'cheery', 'as', 'cheery', 'goes', 'for', 'a', 'pastry', 'shop', '.']\n"
     ]
    }
   ],
   "source": [
    "# word_tokenize 사용\n",
    "print('단어 토큰화1 :',word_tokenize(\"Don't be fooled by the dark sounding name,Mr. \\\n",
    "                    Jone's Orphanage is as cheery as cheery goes for a pastry shop.\"))\n",
    "\n",
    "# Don't를 Do와 n't로 분리, 반면 Jone's는 Jone과 's로 분리함"
   ]
  },
  {
   "cell_type": "code",
   "execution_count": 12,
   "id": "8d6772a3",
   "metadata": {},
   "outputs": [
    {
     "name": "stdout",
     "output_type": "stream",
     "text": [
      "단어 토큰화2 : ['Don', \"'\", 't', 'be', 'fooled', 'by', 'the', 'dark', 'sounding', 'name', ',', 'Mr', '.', 'Jone', \"'\", 's', 'Orphanage', 'is', 'as', 'cheery', 'as', 'cheery', 'goes', 'for', 'a', 'pastry', 'shop', '.']\n"
     ]
    }
   ],
   "source": [
    "# wordPunctTokenizer 사용\n",
    "print('단어 토큰화2 :',WordPunctTokenizer().tokenize(\"Don't be fooled by the dark sounding name, \\\n",
    "                        Mr. Jone's Orphanage is as cheery as cheery goes for a pastry shop.\"))\n",
    "\n",
    "# 구두점을 별도로 분류함\n",
    "# Don't 를 Don 과 '와 t로 분리\n",
    "# Jone's를 Jone과 '와 s로 분리 "
   ]
  },
  {
   "cell_type": "code",
   "execution_count": 13,
   "id": "457dc77c",
   "metadata": {},
   "outputs": [
    {
     "name": "stdout",
     "output_type": "stream",
     "text": [
      "단어 토큰화3 : [\"don't\", 'be', 'fooled', 'by', 'the', 'dark', 'sounding', 'name', 'mr', \"jone's\", 'orphanage', 'is', 'as', 'cheery', 'as', 'cheery', 'goes', 'for', 'a', 'pastry', 'shop']\n"
     ]
    }
   ],
   "source": [
    "# 케라스의 text_to_word_sequence 사용\n",
    "print('단어 토큰화3 :',text_to_word_sequence(\"Don't be fooled by the dark sounding name, \\\n",
    "                Mr. Jone's Orphanage is as cheery as cheery goes for a pastry shop.\"))\n",
    "\n",
    "# 모든 알파벳을 소문자로 바꾸면서 마침표와 컴마, 느낌표등의 구두점을 제거\n",
    "# '는 보존함. "
   ]
  },
  {
   "cell_type": "markdown",
   "id": "1f9efb07",
   "metadata": {},
   "source": [
    "### 3. 토큰화에서 고려해야할 사항\n",
    "1) 구두점이나 특수 문자를 단순 제외해서는 안됨\n",
    "- 예를들어 마침표같은 경우는 문장의 경계를 알 수 있음. \n",
    "- 단어자체에 구두점을 갖고있을수 있음. $45.55와 같이.. \n",
    "- 숫자사이에 컴마가 들어가는 경우가 있음 123,456,789\n",
    "\n",
    "\n",
    "2) 줄임말과 단어 내에 띄어쓰기가 있는 경우 \n",
    "- 예를들어 what're은 what are의 줄임말임\n",
    "- New York 하나의 단어지만 중간에 띄어쓰기가 존재함\n",
    "\n",
    "3) 표준 토큰화 예제 \n",
    "- Penn Treebank Tokenization \n",
    "1. 하이푼으로 구성된 단어는 하나로 유지함\n",
    "2. doesn't와 같이 아포스트로피로 '접어'가 함께하는 단어는 분리해줌 "
   ]
  },
  {
   "cell_type": "code",
   "execution_count": 15,
   "id": "820a0e5c",
   "metadata": {},
   "outputs": [
    {
     "name": "stdout",
     "output_type": "stream",
     "text": [
      "트리뱅크 워드토크나이저 : ['Starting', 'a', 'home-based', 'restaurant', 'may', 'be', 'an', 'ideal.', 'it', 'does', \"n't\", 'have', 'a', 'food', 'chain', 'or', 'restaurant', 'of', 'their', 'own', '.']\n"
     ]
    }
   ],
   "source": [
    "# Penn Treebank Tokenization 사용 \n",
    "from nltk.tokenize import TreebankWordTokenizer\n",
    "\n",
    "tokenizer = TreebankWordTokenizer()\n",
    "\n",
    "text = \"Starting a home-based restaurant may be an ideal. it doesn't have a food chain or restaurant of their own.\"\n",
    "print('트리뱅크 워드토크나이저 :',tokenizer.tokenize(text))\n",
    "\n",
    "# home-based는 하나의 토큰으로 취급 \n",
    "# doesn't 는 does와 n't로 분리됨 "
   ]
  },
  {
   "cell_type": "markdown",
   "id": "4c3a2d64",
   "metadata": {},
   "source": [
    "### 4. 문장 토큰화(Sentence Tokenization)\n",
    "- 마침표를 기준으로 나누는게 꼭 정답은 아니다\n",
    "- EX1) IP 192.168.56.31 서버에 들어가서 로그 파일 저장해서 aaa@gmail.com로 결과 좀 보내줘. 그 후 점심 먹으러 가자.\n",
    "\n",
    "- EX2) Since I'm actively looking for Ph.D. students, I get the same question a dozen times every year."
   ]
  },
  {
   "cell_type": "code",
   "execution_count": 20,
   "id": "b7b5fa27",
   "metadata": {},
   "outputs": [
    {
     "name": "stdout",
     "output_type": "stream",
     "text": [
      "문장 토큰화1 : ['His barber kept his word.', 'But keeping such a huge secret to himself was driving him crazy.', 'Finally, the barber went up a mountain and almost to the edge of a cliff.', 'He dug a hole in the midst of some reeds.', 'He looked about, to make sure no one was near.']\n",
      "문장 토큰화2 : ['I am actively looking for Ph.D. students.', 'and you are a Ph.D student.']\n"
     ]
    }
   ],
   "source": [
    "# NLTK의 영어문장 토큰화를 수행하는 sent_tokenize 사용 \n",
    "from nltk.tokenize import sent_tokenize\n",
    "\n",
    "text = \"His barber kept his word. But keeping such a huge secret to himself was driving him crazy. Finally, the barber went up a mountain and almost to the edge of a cliff. He dug a hole in the midst of some reeds. He looked about, to make sure no one was near.\"\n",
    "print('문장 토큰화1 :',sent_tokenize(text)) \n",
    "\n",
    "text = \"I am actively looking for Ph.D. students. and you are a Ph.D student.\"\n",
    "print('문장 토큰화2 :',sent_tokenize(text))\n",
    "\n",
    "# 단순히 마침표로 구분하지 않았기때문에 성공적으로 문장을 구분함. "
   ]
  },
  {
   "cell_type": "code",
   "execution_count": 24,
   "id": "7adb1916",
   "metadata": {},
   "outputs": [
    {
     "name": "stderr",
     "output_type": "stream",
     "text": [
      "[Korean Sentence Splitter]: Initializing Pynori...\n"
     ]
    },
    {
     "name": "stdout",
     "output_type": "stream",
     "text": [
      "한국어 문장 토큰화 : ['딥 러닝 자연어 처리가 재미있기는 합니다.', '그런데 문제는 영어보다 한국어로 할 때 너무 어렵습니다.', '이제 해보면 알걸요?']\n"
     ]
    }
   ],
   "source": [
    "# 한국어 KSS(Korean Sentence Splitter) 사용 \n",
    "# !pip install kss\n",
    "import kss\n",
    "\n",
    "text = '딥 러닝 자연어 처리가 재미있기는 합니다. 그런데 문제는 영어보다 한국어로 할 때 너무 어렵습니다. 이제 해보면 알걸요?'\n",
    "print('한국어 문장 토큰화 :',kss.split_sentences(text))"
   ]
  },
  {
   "cell_type": "markdown",
   "id": "84b5759f",
   "metadata": {},
   "source": [
    "### 5. 한국어에서의 토큰화의 어려움."
   ]
  },
  {
   "cell_type": "markdown",
   "id": "8a5cac91",
   "metadata": {},
   "source": [
    "### 6. 품사 태깅(Part-of-speech tagging)\n",
    "- 단어 표기는 같지만 품사에 따라서 단어의 의미가 달라짐 \n",
    "- => fly(v): 날다 / fly(n): 파리 "
   ]
  },
  {
   "cell_type": "markdown",
   "id": "22b3cf1a",
   "metadata": {},
   "source": [
    "### 7. NLTK와 KoNLPy를 이용한 영어, 한국어 토큰화 실습 "
   ]
  },
  {
   "cell_type": "code",
   "execution_count": 27,
   "id": "f281ceab",
   "metadata": {},
   "outputs": [
    {
     "name": "stdout",
     "output_type": "stream",
     "text": [
      "단어 토큰화 : ['I', 'am', 'actively', 'looking', 'for', 'Ph.D.', 'students', '.', 'and', 'you', 'are', 'a', 'Ph.D.', 'student', '.']\n",
      "품사 태깅 : [('I', 'PRP'), ('am', 'VBP'), ('actively', 'RB'), ('looking', 'VBG'), ('for', 'IN'), ('Ph.D.', 'NNP'), ('students', 'NNS'), ('.', '.'), ('and', 'CC'), ('you', 'PRP'), ('are', 'VBP'), ('a', 'DT'), ('Ph.D.', 'NNP'), ('student', 'NN'), ('.', '.')]\n"
     ]
    }
   ],
   "source": [
    "# NLTK에서는 Penn Treebank POS Tags라는 기준을 사용하여 품사를 태깅함. \n",
    "from nltk.tokenize import word_tokenize\n",
    "from nltk.tag import pos_tag\n",
    "\n",
    "text = \"I am actively looking for Ph.D. students. and you are a Ph.D. student.\"\n",
    "tokenized_sentence = word_tokenize(text)\n",
    "\n",
    "print('단어 토큰화 :',tokenized_sentence)\n",
    "print('품사 태깅 :',pos_tag(tokenized_sentence))\n",
    "\n",
    "#영어 문장에 대해 토큰화를 수행한 결과를 입력으로 품사 태깅을 수행함. \n",
    "# Penn Treebank POG Tags에서 PRP는 인칭 대명사, VBP는 동사, RB는 부사, \n",
    "# VBG는 현재부사, IN은 전치사, NNP는 고유 명사, NNS는 복수형 명사, \n",
    "# CC는 접속사, DT는 관사"
   ]
  },
  {
   "cell_type": "code",
   "execution_count": null,
   "id": "bb9c5479",
   "metadata": {},
   "outputs": [],
   "source": []
  },
  {
   "cell_type": "markdown",
   "id": "c16971c4",
   "metadata": {},
   "source": [
    "## 02) 정제(Cleaning) and 정규화(Normalization)\n",
    "- 코퍼스에서 용도에 맞게 토큰을 분류하는 작업을 토큰화라고 함\n",
    "- 토큰화 작업 전, 후엔 텍스트 데이터를 용도에 맞게 정제(cleaning) 및 정규화(normalization)하는 일이 항상 함께 함. \n",
    "- 정제(cleaning) : 갖고있는 코퍼스로부터 노이즈 데이터를 제거함\n",
    "- 정규화(normalization) : 표현 방법이 다른 단어들을 통합시켜서 같은 단어로 만들어줌"
   ]
  },
  {
   "cell_type": "markdown",
   "id": "cfa15d79",
   "metadata": {},
   "source": [
    "### 1. 규칙에 기반한 표기가 다른 단어들의 통합 \n",
    "- ex) USA, US 같은 의미를 가지므로 하나의 단어로 정규화 해볼 수 있음. \n",
    "- 표기가 다른 단어들을 통합하는 방법: 어간추출, 표제어 추출"
   ]
  },
  {
   "cell_type": "markdown",
   "id": "7c6fd698",
   "metadata": {},
   "source": [
    "### 2. 대, 소문자 통합\n",
    "- 무작정 통합해서는 안됨. 예를들어 US와 us(우리)는 구분이 되어야함\n",
    "- => 문장 맨 앞에서 나오는단어만 소문자로 변환시키는 방법이있음. \n",
    "- 종종 모든 코퍼스를 소문자로 바꾸는것이 실용적인 해결책이 되기도 함."
   ]
  },
  {
   "cell_type": "code",
   "execution_count": null,
   "id": "80bdf3bd",
   "metadata": {},
   "outputs": [],
   "source": [
    "### 3. 불필요한 단어의 제거\n",
    "- 노이즈 데이터: 불용어, 목적에 맞지 않는 불필요 단어들 \n",
    "- 노이즈데이터를 제거하는 방법: 불용어제거, 등장빈도 낮은단어제거, 길이가 짧은단어 제거\n",
    "\n",
    "(1) 등장 빈도가 적은 단어\n",
    "(2) 길이가 짧은 단어 "
   ]
  },
  {
   "cell_type": "code",
   "execution_count": null,
   "id": "a8ab2d4f",
   "metadata": {},
   "outputs": [],
   "source": []
  },
  {
   "cell_type": "code",
   "execution_count": null,
   "id": "49a205b0",
   "metadata": {},
   "outputs": [],
   "source": []
  },
  {
   "cell_type": "code",
   "execution_count": null,
   "id": "fb56cfa6",
   "metadata": {},
   "outputs": [],
   "source": []
  },
  {
   "cell_type": "markdown",
   "id": "6374ae23",
   "metadata": {},
   "source": [
    "# Tokenizing 함수"
   ]
  },
  {
   "cell_type": "code",
   "execution_count": 33,
   "id": "b121396c",
   "metadata": {
    "collapsed": true
   },
   "outputs": [
    {
     "name": "stderr",
     "output_type": "stream",
     "text": [
      "[nltk_data] Downloading package stopwords to\n",
      "[nltk_data]     C:\\Users\\bitcamp\\AppData\\Roaming\\nltk_data...\n",
      "[nltk_data]   Unzipping corpora\\stopwords.zip.\n"
     ]
    },
    {
     "data": {
      "text/plain": [
       "True"
      ]
     },
     "execution_count": 33,
     "metadata": {},
     "output_type": "execute_result"
    }
   ],
   "source": [
    "import re\n",
    "import pandas as pd\n",
    "import numpy as np\n",
    "import json\n",
    "from bs4 import BeautifulSoup\n",
    "from nltk.corpus import stopwords\n",
    "import nltk\n",
    "# from tensorflow.python.keras.preprocessing.sequence import pad_sequences\n",
    "# from tensorflow.python.keras.preprocessing.text import Tokenizer\n",
    "\n",
    "nltk.download('stopwords')"
   ]
  },
  {
   "cell_type": "code",
   "execution_count": 40,
   "id": "ce4246f7",
   "metadata": {},
   "outputs": [
    {
     "name": "stdout",
     "output_type": "stream",
     "text": [
      "                             ,company,date,title,content\n",
      "0      0,By Reuters,\"<span>2 minutes ago (Apr 17, 202...\n",
      "1      SEOUL (Reuters) - The U.S. envoy for North Kor...\n",
      "2      U.S. Special Representative Sung Kim and his d...\n",
      "3      Their arrival coincided with the start of a ni...\n",
      "4      North Korea has condemned the joint drills as ...\n",
      "...                                                  ...\n",
      "29763    \"\"We have become the dumping ground,\"\" he said.\n",
      "29764  Adams encouraged prosecutors to \"\"triage gun c...\n",
      "29765  A former Brooklyn borough president, the Democ...\n",
      "29766  Adams' stance clashed with the \"\"defund the po...\n",
      "29767                                                  \"\n",
      "\n",
      "[29768 rows x 1 columns]\n"
     ]
    }
   ],
   "source": [
    "# 데이터 출력\n",
    "DATA_IN_PATH='./investing_crawl/world-news/news_world-news_00001.csv'\n",
    "\n",
    "# file_list=['labeledTrainData.tsv.zip', 'unlabeledTrainData.tsv.zip', 'testData.tsv.zip']\n",
    "\n",
    "# train_data=pd.read_csv(DATA_IN_PATH+\"labeledTrainData.tsv\", header=0, delimiter=\"\\t\", quoting=3)\n",
    "train_data=pd.read_csv(DATA_IN_PATH, header=0, delimiter=\"\\t\", quoting=3)\n",
    "\n",
    "# 첫 번째 리뷰 데이터\n",
    "print(train_data)"
   ]
  },
  {
   "cell_type": "code",
   "execution_count": null,
   "id": "864e886d",
   "metadata": {},
   "outputs": [],
   "source": [
    "# 리뷰 중 하나를 가져온다\n",
    "review=train_data\n",
    "# HTML 태그 제거\n",
    "review_text=BeautifulSoup(review,\"html5lib\").get_text()\n",
    "# 영어 문자를 제외한 나머지는 모두 공백으로 바꾼다.\n",
    "review_text=re.sub(\"[^a-zA-Z]\",\" \",review_text)\n",
    "\n",
    "print(review_text)"
   ]
  },
  {
   "cell_type": "code",
   "execution_count": null,
   "id": "9c3096a9",
   "metadata": {},
   "outputs": [],
   "source": []
  },
  {
   "cell_type": "code",
   "execution_count": null,
   "id": "c557a2cb",
   "metadata": {},
   "outputs": [],
   "source": []
  },
  {
   "cell_type": "code",
   "execution_count": null,
   "id": "f375a1f7",
   "metadata": {},
   "outputs": [],
   "source": []
  },
  {
   "cell_type": "code",
   "execution_count": null,
   "id": "ecd1bd6f",
   "metadata": {},
   "outputs": [],
   "source": []
  },
  {
   "cell_type": "code",
   "execution_count": null,
   "id": "07d32a98",
   "metadata": {},
   "outputs": [],
   "source": []
  },
  {
   "cell_type": "code",
   "execution_count": null,
   "id": "885568fb",
   "metadata": {},
   "outputs": [],
   "source": []
  },
  {
   "cell_type": "code",
   "execution_count": null,
   "id": "d4d37236",
   "metadata": {},
   "outputs": [],
   "source": []
  },
  {
   "cell_type": "code",
   "execution_count": null,
   "id": "e2bfc647",
   "metadata": {},
   "outputs": [],
   "source": []
  },
  {
   "cell_type": "code",
   "execution_count": null,
   "id": "6e4cc4e2",
   "metadata": {},
   "outputs": [],
   "source": []
  },
  {
   "cell_type": "code",
   "execution_count": null,
   "id": "61fc7f37",
   "metadata": {},
   "outputs": [],
   "source": []
  },
  {
   "cell_type": "code",
   "execution_count": null,
   "id": "198e5afb",
   "metadata": {},
   "outputs": [],
   "source": []
  },
  {
   "cell_type": "code",
   "execution_count": null,
   "id": "9b22dcf8",
   "metadata": {},
   "outputs": [],
   "source": []
  },
  {
   "cell_type": "code",
   "execution_count": null,
   "id": "7176978b",
   "metadata": {},
   "outputs": [],
   "source": []
  },
  {
   "cell_type": "code",
   "execution_count": null,
   "id": "8c375850",
   "metadata": {},
   "outputs": [],
   "source": []
  },
  {
   "cell_type": "code",
   "execution_count": null,
   "id": "fc0dc1a9",
   "metadata": {},
   "outputs": [],
   "source": []
  },
  {
   "cell_type": "code",
   "execution_count": null,
   "id": "ab2ff5ce",
   "metadata": {},
   "outputs": [],
   "source": []
  },
  {
   "cell_type": "code",
   "execution_count": null,
   "id": "6cbe4563",
   "metadata": {},
   "outputs": [],
   "source": []
  },
  {
   "cell_type": "code",
   "execution_count": null,
   "id": "281d791b",
   "metadata": {},
   "outputs": [],
   "source": []
  },
  {
   "cell_type": "code",
   "execution_count": null,
   "id": "65b5728c",
   "metadata": {},
   "outputs": [],
   "source": []
  },
  {
   "cell_type": "code",
   "execution_count": null,
   "id": "e7c0e1ad",
   "metadata": {},
   "outputs": [],
   "source": []
  }
 ],
 "metadata": {
  "kernelspec": {
   "display_name": "cuda",
   "language": "python",
   "name": "cuda"
  },
  "language_info": {
   "codemirror_mode": {
    "name": "ipython",
    "version": 3
   },
   "file_extension": ".py",
   "mimetype": "text/x-python",
   "name": "python",
   "nbconvert_exporter": "python",
   "pygments_lexer": "ipython3",
   "version": "3.7.13"
  }
 },
 "nbformat": 4,
 "nbformat_minor": 5
}
