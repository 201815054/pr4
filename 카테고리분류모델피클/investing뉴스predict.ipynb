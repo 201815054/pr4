{
 "cells": [
  {
   "cell_type": "code",
   "execution_count": 19,
   "id": "2620e4a7",
   "metadata": {},
   "outputs": [],
   "source": [
    "import pandas as pd\n",
    "import numpy as np \n",
    "import matplotlib.pyplot as plt \n",
    "import seaborn as sns\n",
    "from tensorflow.keras.models import Sequential\n",
    "from tensorflow.keras.layers import Dense, LSTM, Embedding\n",
    "from tensorflow.keras.preprocessing.sequence import pad_sequences\n",
    "from tensorflow.keras.utils import to_categorical\n",
    "from tensorflow.keras.callbacks import EarlyStopping, ModelCheckpoint\n",
    "from tensorflow.keras.models import load_model\n",
    "from sklearn.model_selection import train_test_split"
   ]
  },
  {
   "cell_type": "markdown",
   "id": "a4f02dec",
   "metadata": {},
   "source": [
    "# 파일 불러와서 합치기 "
   ]
  },
  {
   "cell_type": "code",
   "execution_count": null,
   "id": "f6be1bef",
   "metadata": {},
   "outputs": [],
   "source": [
    "\n",
    "#인베스팅닷컴뉴스불러와서 합치기 ! "
   ]
  },
  {
   "cell_type": "code",
   "execution_count": 13,
   "id": "8bf39601",
   "metadata": {},
   "outputs": [
    {
     "data": {
      "text/plain": [
       "'C:\\\\Users\\\\bitcamp\\\\Project4\\\\카테고리분류모델피클'"
      ]
     },
     "execution_count": 13,
     "metadata": {},
     "output_type": "execute_result"
    }
   ],
   "source": [
    "pwd"
   ]
  },
  {
   "cell_type": "code",
   "execution_count": null,
   "id": "0fcc81a6",
   "metadata": {},
   "outputs": [],
   "source": [
    "cd C:\\Users\\bitcamp\\Project4\\data\\investing.com news-20220425T032341Z-001\\investing.com news\\commodities-news\n",
    "    "
   ]
  },
  {
   "cell_type": "code",
   "execution_count": 20,
   "id": "3e675031",
   "metadata": {
    "collapsed": true
   },
   "outputs": [
    {
     "data": {
      "text/plain": [
       "['news_commodities-news_00001.csv',\n",
       " 'news_commodities-news_00002.csv',\n",
       " 'news_commodities-news_00003.csv',\n",
       " 'news_commodities-news_00004.csv',\n",
       " 'news_commodities-news_00005.csv',\n",
       " 'news_commodities-news_00006.csv',\n",
       " 'news_commodities-news_00007.csv',\n",
       " 'news_commodities-news_00008.csv',\n",
       " 'news_commodities-news_00009.csv',\n",
       " 'news_commodities-news_00010.csv',\n",
       " 'news_commodities-news_00011.csv',\n",
       " 'news_commodities-news_00012.csv',\n",
       " 'news_commodities-news_00013.csv',\n",
       " 'news_commodities-news_00014.csv',\n",
       " 'news_commodities-news_00015.csv',\n",
       " 'news_commodities-news_00016.csv',\n",
       " 'news_commodities-news_00017.csv',\n",
       " 'news_commodities-news_00018.csv',\n",
       " 'news_commodities-news_00019.csv',\n",
       " 'news_commodities-news_00020.csv',\n",
       " 'news_commodities-news_00021.csv',\n",
       " 'news_commodities-news_00022.csv',\n",
       " 'news_commodities-news_00023.csv']"
      ]
     },
     "execution_count": 20,
     "metadata": {},
     "output_type": "execute_result"
    }
   ],
   "source": [
    "import os\n",
    "data_lis=os.listdir('./')\n",
    "data_lis"
   ]
  },
  {
   "cell_type": "code",
   "execution_count": 21,
   "id": "ce2ea36f",
   "metadata": {},
   "outputs": [],
   "source": [
    "# 반복문 이용해서 데이터 합치기 \n",
    "# csv파일 여러개 읽어와서 합치기 \n",
    "df_cnbc = pd.DataFrame()\n",
    "\n",
    "for files in data_lis:\n",
    "    # advertisement 빼고 합치기 \n",
    "    df = pd.read_csv(files,index_col=0)\n",
    "    df_cnbc = pd.concat([df_cnbc,df])    "
   ]
  },
  {
   "cell_type": "code",
   "execution_count": 35,
   "id": "095c40e7",
   "metadata": {},
   "outputs": [],
   "source": [
    "df = df_cnbc\n",
    "df = df.dropna().reset_index()\n",
    "df_comm = df.sort_values('date')"
   ]
  },
  {
   "cell_type": "markdown",
   "id": "7a71aa39",
   "metadata": {},
   "source": [
    "# 토큰화하기 "
   ]
  },
  {
   "cell_type": "code",
   "execution_count": 36,
   "id": "b7c41344",
   "metadata": {},
   "outputs": [],
   "source": [
    "from nltk.tokenize import RegexpTokenizer\n",
    "from nltk.corpus import stopwords\n",
    "from nltk.stem import PorterStemmer\n",
    "from bs4 import BeautifulSoup\n",
    "import re"
   ]
  },
  {
   "cell_type": "code",
   "execution_count": 37,
   "id": "a2bad3d5",
   "metadata": {},
   "outputs": [],
   "source": [
    "def preprocessing(docs):\n",
    "    tokenizer = RegexpTokenizer('[\\w]+')\n",
    "    stop_words = stopwords.words('english')\n",
    "    p_stemmer = PorterStemmer()  # 어근 복원 : runs, running, ran => run,  cars => car\n",
    "#     p = re.compile(\"[0-9]+\")\n",
    "#     숫자제거해야됨\n",
    "#     docs = [p.sub(i) for i in docs]\n",
    "    docs = BeautifulSoup(docs, \"html5lib\").get_text()\n",
    "    low = docs.lower()\n",
    "    tokens = tokenizer.tokenize(low)\n",
    "    stopped_tokens = [i for i in tokens if not i in stop_words]\n",
    "    stopped_tokens = [re.sub('[^a-zA-Z0-9]',' ',i) for i in stopped_tokens]\n",
    "    stemmer_tokens = [p_stemmer.stem(i) for i in stopped_tokens]\n",
    "    one_rmv = [w for w in stemmer_tokens if len(w)>1]\n",
    "  \n",
    "    return one_rmv"
   ]
  },
  {
   "cell_type": "code",
   "execution_count": 40,
   "id": "de3c6f8a",
   "metadata": {},
   "outputs": [],
   "source": [
    "# 함수적용\n",
    "df['tokened']  = df['content'].apply(preprocessing)"
   ]
  },
  {
   "cell_type": "code",
   "execution_count": 41,
   "id": "55bcc291",
   "metadata": {},
   "outputs": [
    {
     "data": {
      "text/html": [
       "<div>\n",
       "<style scoped>\n",
       "    .dataframe tbody tr th:only-of-type {\n",
       "        vertical-align: middle;\n",
       "    }\n",
       "\n",
       "    .dataframe tbody tr th {\n",
       "        vertical-align: top;\n",
       "    }\n",
       "\n",
       "    .dataframe thead th {\n",
       "        text-align: right;\n",
       "    }\n",
       "</style>\n",
       "<table border=\"1\" class=\"dataframe\">\n",
       "  <thead>\n",
       "    <tr style=\"text-align: right;\">\n",
       "      <th></th>\n",
       "      <th>index</th>\n",
       "      <th>company</th>\n",
       "      <th>date</th>\n",
       "      <th>title</th>\n",
       "      <th>content</th>\n",
       "      <th>tokened</th>\n",
       "    </tr>\n",
       "  </thead>\n",
       "  <tbody>\n",
       "    <tr>\n",
       "      <th>0</th>\n",
       "      <td>0</td>\n",
       "      <td>By Reuters</td>\n",
       "      <td>&lt;span&gt;3 hours ago (Apr 17, 2022 05:31AM ET)&lt;/s...</td>\n",
       "      <td>Tunisia says countries offer help to tackle im...</td>\n",
       "      <td>By Tarek Amara\\nTUNIS (Reuters) - Some countri...</td>\n",
       "      <td>[tarek, amara, tuni, reuter, countri, offer, h...</td>\n",
       "    </tr>\n",
       "    <tr>\n",
       "      <th>1</th>\n",
       "      <td>1</td>\n",
       "      <td>By Investing.com</td>\n",
       "      <td>&lt;span&gt;5 hours ago (Apr 17, 2022 03:32AM ET)&lt;/s...</td>\n",
       "      <td>Energy &amp; Precious Metals - Weekly Review and O...</td>\n",
       "      <td>By Barani Krishnan\\nInvesting.com -- Will they...</td>\n",
       "      <td>[barani, krishnan, invest, com, europ, forthco...</td>\n",
       "    </tr>\n",
       "    <tr>\n",
       "      <th>2</th>\n",
       "      <td>2</td>\n",
       "      <td>By Reuters</td>\n",
       "      <td>&lt;span&gt;8 hours ago (Apr 17, 2022 12:41AM ET)&lt;/s...</td>\n",
       "      <td>Mexico's Pemex says fire under control at Sali...</td>\n",
       "      <td>MEXICO CITY (Reuters) -Mexican state oil compa...</td>\n",
       "      <td>[mexico, citi, reuter, mexican, state, oil, co...</td>\n",
       "    </tr>\n",
       "    <tr>\n",
       "      <th>3</th>\n",
       "      <td>3</td>\n",
       "      <td>By Reuters</td>\n",
       "      <td>&lt;span&gt;14 hours ago (Apr 16, 2022 06:05PM ET)&lt;/...</td>\n",
       "      <td>New bird flu cases identified in Pennsylvania ...</td>\n",
       "      <td>By Kanishka Singh\\nWASHINGTON (Reuters) - New ...</td>\n",
       "      <td>[kanishka, singh, washington, reuter, new, bir...</td>\n",
       "    </tr>\n",
       "    <tr>\n",
       "      <th>4</th>\n",
       "      <td>5</td>\n",
       "      <td>By Reuters</td>\n",
       "      <td>&lt;span&gt;20 hours ago (Apr 16, 2022 12:15PM ET)&lt;/...</td>\n",
       "      <td>Eyeing green vote, Macron vows to exit oil, co...</td>\n",
       "      <td>By Michel Rose\\nMARSEILLE, France (Reuters) - ...</td>\n",
       "      <td>[michel, rose, marseil, franc, reuter, presid,...</td>\n",
       "    </tr>\n",
       "    <tr>\n",
       "      <th>...</th>\n",
       "      <td>...</td>\n",
       "      <td>...</td>\n",
       "      <td>...</td>\n",
       "      <td>...</td>\n",
       "      <td>...</td>\n",
       "      <td>...</td>\n",
       "    </tr>\n",
       "    <tr>\n",
       "      <th>30818</th>\n",
       "      <td>1018</td>\n",
       "      <td>By Reuters</td>\n",
       "      <td>&lt;span&gt;Nov 22, 2010 03:04PM ET&lt;/span&gt;</td>\n",
       "      <td>METALS-Copper slips on dollar, China demand wo...</td>\n",
       "      <td>* China demand for refined copper down in Oct...</td>\n",
       "      <td>[china, demand, refin, copper, octob, sign, po...</td>\n",
       "    </tr>\n",
       "    <tr>\n",
       "      <th>30819</th>\n",
       "      <td>1019</td>\n",
       "      <td>By Reuters</td>\n",
       "      <td>&lt;span&gt;Nov 15, 2010 12:44AM ET&lt;/span&gt;</td>\n",
       "      <td>GRAINS-Corn up 2 pct on talk of Chinese buying...</td>\n",
       "      <td>* Corn jumps on talk of China's purchases of ...</td>\n",
       "      <td>[corn, jump, talk, china, purchas, latam, carg...</td>\n",
       "    </tr>\n",
       "    <tr>\n",
       "      <th>30820</th>\n",
       "      <td>1020</td>\n",
       "      <td>By Reuters</td>\n",
       "      <td>&lt;span&gt;Nov 09, 2010 11:16AM ET&lt;/span&gt;</td>\n",
       "      <td>PRECIOUS-Gold hits new record as euro zone fea...</td>\n",
       "      <td>* Euro zone debt back in focus, eyes on G20\\n...</td>\n",
       "      <td>[euro, zone, debt, back, focu, eye, g20, trade...</td>\n",
       "    </tr>\n",
       "    <tr>\n",
       "      <th>30821</th>\n",
       "      <td>1021</td>\n",
       "      <td>By Reuters</td>\n",
       "      <td>&lt;span&gt;Nov 04, 2010 03:48AM ET&lt;/span&gt;</td>\n",
       "      <td>GRAINS-Soy rises 1 pct, wheat firms after Fed ...</td>\n",
       "      <td>* Soy up 1 pct, wheat rises 0.8 pct on Fed mo...</td>\n",
       "      <td>[soy, pct, wheat, rise, pct, fed, move, grain,...</td>\n",
       "    </tr>\n",
       "    <tr>\n",
       "      <th>30822</th>\n",
       "      <td>1022</td>\n",
       "      <td>By Reuters</td>\n",
       "      <td>&lt;span&gt;Nov 04, 2010 12:24AM ET&lt;/span&gt;</td>\n",
       "      <td>GRAINS-U.S. soy, wheat rise half pct after Fed...</td>\n",
       "      <td>* Soy, wheat futures up half pct on Fed move\\...</td>\n",
       "      <td>[soy, wheat, futur, half, pct, fed, move, grai...</td>\n",
       "    </tr>\n",
       "  </tbody>\n",
       "</table>\n",
       "<p>30823 rows × 6 columns</p>\n",
       "</div>"
      ],
      "text/plain": [
       "       index           company  \\\n",
       "0          0        By Reuters   \n",
       "1          1  By Investing.com   \n",
       "2          2        By Reuters   \n",
       "3          3        By Reuters   \n",
       "4          5        By Reuters   \n",
       "...      ...               ...   \n",
       "30818   1018        By Reuters   \n",
       "30819   1019        By Reuters   \n",
       "30820   1020        By Reuters   \n",
       "30821   1021        By Reuters   \n",
       "30822   1022        By Reuters   \n",
       "\n",
       "                                                    date  \\\n",
       "0      <span>3 hours ago (Apr 17, 2022 05:31AM ET)</s...   \n",
       "1      <span>5 hours ago (Apr 17, 2022 03:32AM ET)</s...   \n",
       "2      <span>8 hours ago (Apr 17, 2022 12:41AM ET)</s...   \n",
       "3      <span>14 hours ago (Apr 16, 2022 06:05PM ET)</...   \n",
       "4      <span>20 hours ago (Apr 16, 2022 12:15PM ET)</...   \n",
       "...                                                  ...   \n",
       "30818               <span>Nov 22, 2010 03:04PM ET</span>   \n",
       "30819               <span>Nov 15, 2010 12:44AM ET</span>   \n",
       "30820               <span>Nov 09, 2010 11:16AM ET</span>   \n",
       "30821               <span>Nov 04, 2010 03:48AM ET</span>   \n",
       "30822               <span>Nov 04, 2010 12:24AM ET</span>   \n",
       "\n",
       "                                                   title  \\\n",
       "0      Tunisia says countries offer help to tackle im...   \n",
       "1      Energy & Precious Metals - Weekly Review and O...   \n",
       "2      Mexico's Pemex says fire under control at Sali...   \n",
       "3      New bird flu cases identified in Pennsylvania ...   \n",
       "4      Eyeing green vote, Macron vows to exit oil, co...   \n",
       "...                                                  ...   \n",
       "30818  METALS-Copper slips on dollar, China demand wo...   \n",
       "30819  GRAINS-Corn up 2 pct on talk of Chinese buying...   \n",
       "30820  PRECIOUS-Gold hits new record as euro zone fea...   \n",
       "30821  GRAINS-Soy rises 1 pct, wheat firms after Fed ...   \n",
       "30822  GRAINS-U.S. soy, wheat rise half pct after Fed...   \n",
       "\n",
       "                                                 content  \\\n",
       "0      By Tarek Amara\\nTUNIS (Reuters) - Some countri...   \n",
       "1      By Barani Krishnan\\nInvesting.com -- Will they...   \n",
       "2      MEXICO CITY (Reuters) -Mexican state oil compa...   \n",
       "3      By Kanishka Singh\\nWASHINGTON (Reuters) - New ...   \n",
       "4      By Michel Rose\\nMARSEILLE, France (Reuters) - ...   \n",
       "...                                                  ...   \n",
       "30818   * China demand for refined copper down in Oct...   \n",
       "30819   * Corn jumps on talk of China's purchases of ...   \n",
       "30820   * Euro zone debt back in focus, eyes on G20\\n...   \n",
       "30821   * Soy up 1 pct, wheat rises 0.8 pct on Fed mo...   \n",
       "30822   * Soy, wheat futures up half pct on Fed move\\...   \n",
       "\n",
       "                                                 tokened  \n",
       "0      [tarek, amara, tuni, reuter, countri, offer, h...  \n",
       "1      [barani, krishnan, invest, com, europ, forthco...  \n",
       "2      [mexico, citi, reuter, mexican, state, oil, co...  \n",
       "3      [kanishka, singh, washington, reuter, new, bir...  \n",
       "4      [michel, rose, marseil, franc, reuter, presid,...  \n",
       "...                                                  ...  \n",
       "30818  [china, demand, refin, copper, octob, sign, po...  \n",
       "30819  [corn, jump, talk, china, purchas, latam, carg...  \n",
       "30820  [euro, zone, debt, back, focu, eye, g20, trade...  \n",
       "30821  [soy, pct, wheat, rise, pct, fed, move, grain,...  \n",
       "30822  [soy, wheat, futur, half, pct, fed, move, grai...  \n",
       "\n",
       "[30823 rows x 6 columns]"
      ]
     },
     "execution_count": 41,
     "metadata": {},
     "output_type": "execute_result"
    }
   ],
   "source": [
    "df"
   ]
  },
  {
   "cell_type": "markdown",
   "id": "aa1d115c",
   "metadata": {},
   "source": [
    "# 전처리하기 "
   ]
  },
  {
   "cell_type": "code",
   "execution_count": null,
   "id": "ef65af2b",
   "metadata": {},
   "outputs": [],
   "source": [
    "# 단어를 시퀀스 형태로 변환해주기 \n",
    "x = tokenizer.texts_to_sequences(preprocessed_sentences)"
   ]
  },
  {
   "cell_type": "code",
   "execution_count": null,
   "id": "607bc200",
   "metadata": {},
   "outputs": [],
   "source": [
    "# 기사최대길이로 패딩해주기 \n",
    "max_len = max([len(l) for l in df['토큰화한기사']])\n",
    "\n",
    "x = pad_sequences(x, maxlen=max_len)"
   ]
  },
  {
   "cell_type": "markdown",
   "id": "5d8f7e6e",
   "metadata": {},
   "source": [
    "# 모델 실행"
   ]
  },
  {
   "cell_type": "code",
   "execution_count": null,
   "id": "190a05da",
   "metadata": {},
   "outputs": [],
   "source": [
    "import tensorflow as tf\n",
    "import numpy as np\n",
    "\n",
    "##########모델 로드\n",
    "\n",
    "model = tf.keras.models.load_model('./best_mode5l.h5')"
   ]
  },
  {
   "cell_type": "code",
   "execution_count": null,
   "id": "98cd110e",
   "metadata": {},
   "outputs": [],
   "source": [
    "y_predict = model.predict(x)"
   ]
  },
  {
   "cell_type": "code",
   "execution_count": null,
   "id": "07132b86",
   "metadata": {},
   "outputs": [],
   "source": [
    "y_predict"
   ]
  },
  {
   "cell_type": "code",
   "execution_count": null,
   "id": "f9b60ba9",
   "metadata": {},
   "outputs": [],
   "source": [
    "# 예측라벨값 리스트에 담아줌\n",
    "lis = []\n",
    "for i in range(len(y_predict)):\n",
    "    리스.append(np.argmax(y_predict[i]))"
   ]
  },
  {
   "cell_type": "code",
   "execution_count": null,
   "id": "72e19a75",
   "metadata": {},
   "outputs": [],
   "source": [
    "# 예측한 라벨값중 가장 높은 빈도 구하기 \n",
    "\n",
    "import collections\n",
    "# apple3개, banana2개, cherry는 4개\n",
    "# list = ['apple', 'apple', 'apple', 'banana', 'banana',\n",
    "# 'cherry', 'cherry', 'cherry', 'cherry']\n",
    "# 빈도수를 세려면?\n",
    "counts = collections.Counter(리스)\n",
    "print(counts)\n",
    "# 가장 흔하게 등장하는 단어의 첫번째 값을 most_common(1)로 추출\n",
    "# most_common(1) => [('cherry',4)] _리스트\n",
    "# most_common(1)[0] => ('cherry', 4) _ 튜플\n",
    "# most_common(1)[0][0] => cherry _ 튜플에서 첫번째 추출\n",
    "print('가장 많이 예측한 라벨은?: ', counts.most_common(1)[0][0])\n"
   ]
  },
  {
   "cell_type": "code",
   "execution_count": null,
   "id": "eefba6a0",
   "metadata": {},
   "outputs": [],
   "source": [
    "# 컨텐트 하나하나 확인해보기 \n",
    "print(collections.Counter(df['content'][0])) #ship"
   ]
  },
  {
   "cell_type": "code",
   "execution_count": null,
   "id": "f30bb226",
   "metadata": {},
   "outputs": [],
   "source": [
    "# predict 라벨값 데이터프레임에 붙이기 \n",
    "df['category'] = 리스"
   ]
  },
  {
   "cell_type": "code",
   "execution_count": null,
   "id": "2da55c53",
   "metadata": {},
   "outputs": [],
   "source": []
  },
  {
   "cell_type": "code",
   "execution_count": null,
   "id": "25d25ff5",
   "metadata": {},
   "outputs": [],
   "source": []
  },
  {
   "cell_type": "code",
   "execution_count": null,
   "id": "33ae10e7",
   "metadata": {},
   "outputs": [],
   "source": []
  },
  {
   "cell_type": "code",
   "execution_count": null,
   "id": "f3e76650",
   "metadata": {},
   "outputs": [],
   "source": [
    "# 데이터받아서 카테고리 지정 "
   ]
  },
  {
   "cell_type": "code",
   "execution_count": 5,
   "id": "eced6984",
   "metadata": {},
   "outputs": [],
   "source": [
    "topics = [[0],[26],[6,9,10,23,25,27],[16,30],[2,4,5,7,8,11,14,18]] # oil, ship, sc, steel, vh\n",
    "def classifi(label):\n",
    "    for key, topic in enumerate(topics):\n",
    "        if label in topic:\n",
    "            return key+100\n",
    "    return label"
   ]
  },
  {
   "cell_type": "code",
   "execution_count": 8,
   "id": "42cd3b22",
   "metadata": {},
   "outputs": [],
   "source": [
    "label = set()\n",
    "for i in range(33):\n",
    "    label.add(classifi(i))\n",
    "a = list(label)"
   ]
  },
  {
   "cell_type": "code",
   "execution_count": null,
   "id": "e9fac8d7",
   "metadata": {},
   "outputs": [],
   "source": [
    "tmp = [0 for _ in range(len(a))]"
   ]
  },
  {
   "cell_type": "code",
   "execution_count": 10,
   "id": "be5423c8",
   "metadata": {},
   "outputs": [],
   "source": [
    "tmp(b=1)"
   ]
  },
  {
   "cell_type": "code",
   "execution_count": 12,
   "id": "47d05807",
   "metadata": {
    "collapsed": true
   },
   "outputs": [
    {
     "ename": "SyntaxError",
     "evalue": "expression cannot contain assignment, perhaps you meant \"==\"? (Temp/ipykernel_7516/2858377248.py, line 4)",
     "output_type": "error",
     "traceback": [
      "\u001b[1;36m  File \u001b[1;32m\"C:\\Users\\bitcamp\\AppData\\Local\\Temp/ipykernel_7516/2858377248.py\"\u001b[1;36m, line \u001b[1;32m4\u001b[0m\n\u001b[1;33m    tmp(a.index(y) =1)\u001b[0m\n\u001b[1;37m        ^\u001b[0m\n\u001b[1;31mSyntaxError\u001b[0m\u001b[1;31m:\u001b[0m expression cannot contain assignment, perhaps you meant \"==\"?\n"
     ]
    }
   ],
   "source": [
    "def labeling(y):\n",
    "    a.index(y)\n",
    "    tmp = [0 for _ in range(len(a))]    \n",
    "    tmp(a.index(y) = 1)    \n",
    "    return tmp "
   ]
  },
  {
   "cell_type": "code",
   "execution_count": 11,
   "id": "32a9a331",
   "metadata": {},
   "outputs": [],
   "source": [
    "df['label'].apply(labeling)\n",
    "#출력해보면 원핫벡터가나올것임 "
   ]
  },
  {
   "cell_type": "code",
   "execution_count": 12,
   "id": "bc46b396",
   "metadata": {},
   "outputs": [
    {
     "data": {
      "text/plain": [
       "'C:\\\\Users\\\\bitcamp\\\\Project4\\\\카테고리분류모델피클'"
      ]
     },
     "execution_count": 12,
     "metadata": {},
     "output_type": "execute_result"
    }
   ],
   "source": [
    "pwd"
   ]
  },
  {
   "cell_type": "code",
   "execution_count": 13,
   "id": "1e2092e1",
   "metadata": {},
   "outputs": [
    {
     "name": "stdout",
     "output_type": "stream",
     "text": [
      "C:\\Users\\bitcamp\\Project4\n"
     ]
    }
   ],
   "source": [
    "cd ../"
   ]
  },
  {
   "cell_type": "code",
   "execution_count": null,
   "id": "d4e92a32",
   "metadata": {},
   "outputs": [],
   "source": []
  },
  {
   "cell_type": "code",
   "execution_count": null,
   "id": "47775ca4",
   "metadata": {},
   "outputs": [],
   "source": []
  },
  {
   "cell_type": "code",
   "execution_count": null,
   "id": "1fc9e39b",
   "metadata": {},
   "outputs": [],
   "source": []
  },
  {
   "cell_type": "code",
   "execution_count": null,
   "id": "07634b63",
   "metadata": {},
   "outputs": [],
   "source": []
  },
  {
   "cell_type": "code",
   "execution_count": null,
   "id": "f2a172db",
   "metadata": {},
   "outputs": [],
   "source": []
  },
  {
   "cell_type": "code",
   "execution_count": null,
   "id": "958e0d02",
   "metadata": {},
   "outputs": [],
   "source": []
  },
  {
   "cell_type": "code",
   "execution_count": null,
   "id": "d9cc0b7e",
   "metadata": {},
   "outputs": [],
   "source": []
  },
  {
   "cell_type": "code",
   "execution_count": null,
   "id": "4ac18f77",
   "metadata": {},
   "outputs": [],
   "source": []
  },
  {
   "cell_type": "code",
   "execution_count": null,
   "id": "c142c0c6",
   "metadata": {},
   "outputs": [],
   "source": []
  },
  {
   "cell_type": "code",
   "execution_count": null,
   "id": "f13c009b",
   "metadata": {},
   "outputs": [],
   "source": []
  },
  {
   "cell_type": "code",
   "execution_count": null,
   "id": "a990567a",
   "metadata": {},
   "outputs": [],
   "source": []
  },
  {
   "cell_type": "code",
   "execution_count": null,
   "id": "2a2376f2",
   "metadata": {},
   "outputs": [],
   "source": []
  },
  {
   "cell_type": "code",
   "execution_count": null,
   "id": "32f269f6",
   "metadata": {},
   "outputs": [],
   "source": []
  },
  {
   "cell_type": "code",
   "execution_count": null,
   "id": "a0fc73f9",
   "metadata": {},
   "outputs": [],
   "source": []
  },
  {
   "cell_type": "code",
   "execution_count": null,
   "id": "19137d82",
   "metadata": {},
   "outputs": [],
   "source": []
  },
  {
   "cell_type": "code",
   "execution_count": null,
   "id": "caf2d0c4",
   "metadata": {},
   "outputs": [],
   "source": []
  },
  {
   "cell_type": "code",
   "execution_count": null,
   "id": "7b7e3b0b",
   "metadata": {},
   "outputs": [],
   "source": []
  },
  {
   "cell_type": "code",
   "execution_count": null,
   "id": "4854911a",
   "metadata": {},
   "outputs": [],
   "source": []
  },
  {
   "cell_type": "code",
   "execution_count": null,
   "id": "66f60ef0",
   "metadata": {},
   "outputs": [],
   "source": []
  },
  {
   "cell_type": "code",
   "execution_count": null,
   "id": "4f6fda81",
   "metadata": {},
   "outputs": [],
   "source": []
  },
  {
   "cell_type": "code",
   "execution_count": null,
   "id": "a59cab84",
   "metadata": {},
   "outputs": [],
   "source": []
  },
  {
   "cell_type": "code",
   "execution_count": null,
   "id": "5cc529c2",
   "metadata": {},
   "outputs": [],
   "source": []
  },
  {
   "cell_type": "code",
   "execution_count": null,
   "id": "95b2bfa9",
   "metadata": {},
   "outputs": [],
   "source": []
  },
  {
   "cell_type": "code",
   "execution_count": null,
   "id": "ba440cf7",
   "metadata": {},
   "outputs": [],
   "source": []
  },
  {
   "cell_type": "code",
   "execution_count": null,
   "id": "8b500638",
   "metadata": {},
   "outputs": [],
   "source": []
  },
  {
   "cell_type": "code",
   "execution_count": null,
   "id": "d256b118",
   "metadata": {},
   "outputs": [],
   "source": []
  },
  {
   "cell_type": "code",
   "execution_count": null,
   "id": "6ee653d4",
   "metadata": {},
   "outputs": [],
   "source": []
  },
  {
   "cell_type": "code",
   "execution_count": null,
   "id": "554ca2e2",
   "metadata": {},
   "outputs": [],
   "source": []
  },
  {
   "cell_type": "code",
   "execution_count": null,
   "id": "d0b63b34",
   "metadata": {},
   "outputs": [],
   "source": []
  },
  {
   "cell_type": "code",
   "execution_count": null,
   "id": "49d7c5c6",
   "metadata": {},
   "outputs": [],
   "source": []
  },
  {
   "cell_type": "code",
   "execution_count": null,
   "id": "39e57401",
   "metadata": {},
   "outputs": [],
   "source": []
  },
  {
   "cell_type": "code",
   "execution_count": null,
   "id": "01479dd1",
   "metadata": {},
   "outputs": [],
   "source": []
  },
  {
   "cell_type": "code",
   "execution_count": null,
   "id": "a7fce531",
   "metadata": {},
   "outputs": [],
   "source": []
  },
  {
   "cell_type": "code",
   "execution_count": null,
   "id": "eee6ba35",
   "metadata": {},
   "outputs": [],
   "source": []
  },
  {
   "cell_type": "code",
   "execution_count": null,
   "id": "7a51d35e",
   "metadata": {},
   "outputs": [],
   "source": []
  },
  {
   "cell_type": "code",
   "execution_count": null,
   "id": "b44bed00",
   "metadata": {},
   "outputs": [],
   "source": []
  },
  {
   "cell_type": "code",
   "execution_count": null,
   "id": "ad357cec",
   "metadata": {},
   "outputs": [],
   "source": []
  },
  {
   "cell_type": "code",
   "execution_count": null,
   "id": "02919f22",
   "metadata": {},
   "outputs": [],
   "source": []
  },
  {
   "cell_type": "code",
   "execution_count": null,
   "id": "7790c3d3",
   "metadata": {},
   "outputs": [],
   "source": []
  },
  {
   "cell_type": "code",
   "execution_count": null,
   "id": "bca3f40e",
   "metadata": {},
   "outputs": [],
   "source": []
  },
  {
   "cell_type": "code",
   "execution_count": null,
   "id": "08d08a65",
   "metadata": {},
   "outputs": [],
   "source": []
  },
  {
   "cell_type": "code",
   "execution_count": null,
   "id": "a49af0eb",
   "metadata": {},
   "outputs": [],
   "source": []
  },
  {
   "cell_type": "code",
   "execution_count": null,
   "id": "eb97a66f",
   "metadata": {},
   "outputs": [],
   "source": []
  },
  {
   "cell_type": "code",
   "execution_count": null,
   "id": "34f129fc",
   "metadata": {},
   "outputs": [],
   "source": []
  },
  {
   "cell_type": "code",
   "execution_count": null,
   "id": "4889d688",
   "metadata": {},
   "outputs": [],
   "source": []
  },
  {
   "cell_type": "code",
   "execution_count": null,
   "id": "b01ed839",
   "metadata": {},
   "outputs": [],
   "source": []
  },
  {
   "cell_type": "code",
   "execution_count": null,
   "id": "11e828a9",
   "metadata": {},
   "outputs": [],
   "source": []
  },
  {
   "cell_type": "code",
   "execution_count": null,
   "id": "13775d87",
   "metadata": {},
   "outputs": [],
   "source": []
  },
  {
   "cell_type": "code",
   "execution_count": null,
   "id": "d7d5a53e",
   "metadata": {},
   "outputs": [],
   "source": []
  },
  {
   "cell_type": "code",
   "execution_count": null,
   "id": "c1ea4901",
   "metadata": {},
   "outputs": [],
   "source": []
  }
 ],
 "metadata": {
  "kernelspec": {
   "display_name": "Python 3 (ipykernel)",
   "language": "python",
   "name": "python3"
  },
  "language_info": {
   "codemirror_mode": {
    "name": "ipython",
    "version": 3
   },
   "file_extension": ".py",
   "mimetype": "text/x-python",
   "name": "python",
   "nbconvert_exporter": "python",
   "pygments_lexer": "ipython3",
   "version": "3.9.7"
  }
 },
 "nbformat": 4,
 "nbformat_minor": 5
}
